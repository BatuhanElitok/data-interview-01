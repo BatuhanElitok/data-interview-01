{
 "cells": [
  {
   "cell_type": "markdown",
   "metadata": {},
   "source": [
    "# Step 0 - Understanding Req\n",
    "\n",
    "## Mandatory Tasks\n",
    "\n",
    "1. Calculate the total revenue generated from subscriptions for each country.\n",
    "2. Calculate the total number of trials given to users who came from Instagram.\n",
    "3. Create a new column named 'acquisition_channel' by categorizing users based on their 'attribution_source':\n",
    "   - 'Paid': users from instagram or tiktok\n",
    "   - 'Organic': users from organic sources\n",
    "4. Analyze the trial-to-subscription conversion rate:\n",
    "   - Calculate the overall conversion rate\n",
    "   - Break down the conversion rate by attribution_source\n",
    "5. Calculate the median subscription duration (in months) for each country\n",
    "6. Calculate the Average Lifetime Value (LTV) by country\n",
    "\n",
    "## Optional Tasks\n",
    "\n",
    "7. Predict the churn probability for user #1002 (Clark Kent)\n",
    "   - Use any relevant features from the dataset\n",
    "   - Explain your model selection and feature engineering process\n",
    "   - Provide confidence intervals if applicable\n",
    "\n",
    "8. Predict the potential Lifetime Value (pLTV) for user #1001 (Bruce Wayne)\n",
    "   - Explain your methodology and assumptions\n",
    "\n",
    "## Evaluation Criteria\n",
    "\n",
    "1. **Code Quality**\n",
    "\n",
    "2. **Analysis Quality**\n",
    "\n",
    "3. **Communication**"
   ]
  },
  {
   "cell_type": "markdown",
   "metadata": {},
   "source": [
    "# Step 1 - Importing libs"
   ]
  },
  {
   "cell_type": "code",
   "execution_count": 597,
   "metadata": {},
   "outputs": [
    {
     "name": "stderr",
     "output_type": "stream",
     "text": [
      "C:\\Users\\batuh\\AppData\\Local\\Temp\\ipykernel_70920\\1839458688.py:9: MatplotlibDeprecationWarning: The seaborn styles shipped by Matplotlib are deprecated since 3.6, as they no longer correspond to the styles shipped by seaborn. However, they will remain available as 'seaborn-v0_8-<style>'. Alternatively, directly use the seaborn API instead.\n",
      "  plt.style.use('seaborn')\n"
     ]
    }
   ],
   "source": [
    "import pandas as pd\n",
    "import numpy as np\n",
    "import sqlite3\n",
    "import matplotlib.pyplot as plt\n",
    "import seaborn as sns\n",
    "from datetime import datetime\n",
    "\n",
    "# Set plotting style\n",
    "plt.style.use('seaborn') \n",
    "sns.set_palette('deep')"
   ]
  },
  {
   "cell_type": "markdown",
   "metadata": {},
   "source": [
    "# Step 2 - Connection to DB\n"
   ]
  },
  {
   "cell_type": "code",
   "execution_count": 598,
   "metadata": {},
   "outputs": [],
   "source": [
    "conn = sqlite3.connect('papcorns.sqlite')"
   ]
  },
  {
   "cell_type": "markdown",
   "metadata": {},
   "source": [
    "# Step 3 - Creating DataFrame from db"
   ]
  },
  {
   "cell_type": "code",
   "execution_count": 599,
   "metadata": {},
   "outputs": [],
   "source": [
    "users_df = pd.read_sql_query(\"SELECT * FROM users;\", conn)"
   ]
  },
  {
   "cell_type": "code",
   "execution_count": 600,
   "metadata": {},
   "outputs": [],
   "source": [
    "events_df = pd.read_sql_query(\"SELECT * FROM user_events;\", conn)"
   ]
  },
  {
   "cell_type": "markdown",
   "metadata": {},
   "source": [
    "# Step 4 - Exploring dataFrames"
   ]
  },
  {
   "cell_type": "markdown",
   "metadata": {},
   "source": [
    "### For users data"
   ]
  },
  {
   "cell_type": "code",
   "execution_count": 601,
   "metadata": {},
   "outputs": [
    {
     "data": {
      "text/plain": [
       "(1002, 5)"
      ]
     },
     "execution_count": 601,
     "metadata": {},
     "output_type": "execute_result"
    }
   ],
   "source": [
    "users_df.shape"
   ]
  },
  {
   "cell_type": "code",
   "execution_count": 602,
   "metadata": {},
   "outputs": [
    {
     "data": {
      "text/plain": [
       "['id', 'created_at', 'attribution_source', 'country', 'name']"
      ]
     },
     "execution_count": 602,
     "metadata": {},
     "output_type": "execute_result"
    }
   ],
   "source": [
    "list(users_df.columns)"
   ]
  },
  {
   "cell_type": "code",
   "execution_count": 603,
   "metadata": {},
   "outputs": [
    {
     "data": {
      "text/html": [
       "<div>\n",
       "<style scoped>\n",
       "    .dataframe tbody tr th:only-of-type {\n",
       "        vertical-align: middle;\n",
       "    }\n",
       "\n",
       "    .dataframe tbody tr th {\n",
       "        vertical-align: top;\n",
       "    }\n",
       "\n",
       "    .dataframe thead th {\n",
       "        text-align: right;\n",
       "    }\n",
       "</style>\n",
       "<table border=\"1\" class=\"dataframe\">\n",
       "  <thead>\n",
       "    <tr style=\"text-align: right;\">\n",
       "      <th></th>\n",
       "      <th>id</th>\n",
       "      <th>created_at</th>\n",
       "      <th>attribution_source</th>\n",
       "      <th>country</th>\n",
       "      <th>name</th>\n",
       "    </tr>\n",
       "  </thead>\n",
       "  <tbody>\n",
       "    <tr>\n",
       "      <th>0</th>\n",
       "      <td>1</td>\n",
       "      <td>2024-05-07T00:00:00</td>\n",
       "      <td>instagram</td>\n",
       "      <td>US</td>\n",
       "      <td>Eve Brown</td>\n",
       "    </tr>\n",
       "    <tr>\n",
       "      <th>1</th>\n",
       "      <td>2</td>\n",
       "      <td>2024-10-12T00:00:00</td>\n",
       "      <td>instagram</td>\n",
       "      <td>NL</td>\n",
       "      <td>Frank Moore</td>\n",
       "    </tr>\n",
       "    <tr>\n",
       "      <th>2</th>\n",
       "      <td>3</td>\n",
       "      <td>2024-10-15T00:00:00</td>\n",
       "      <td>tiktok</td>\n",
       "      <td>TR</td>\n",
       "      <td>Ivy Anderson</td>\n",
       "    </tr>\n",
       "    <tr>\n",
       "      <th>3</th>\n",
       "      <td>4</td>\n",
       "      <td>2024-08-28T00:00:00</td>\n",
       "      <td>tiktok</td>\n",
       "      <td>TR</td>\n",
       "      <td>Alice Brown</td>\n",
       "    </tr>\n",
       "    <tr>\n",
       "      <th>4</th>\n",
       "      <td>5</td>\n",
       "      <td>2024-04-03T00:00:00</td>\n",
       "      <td>organic</td>\n",
       "      <td>NL</td>\n",
       "      <td>Bob Moore</td>\n",
       "    </tr>\n",
       "  </tbody>\n",
       "</table>\n",
       "</div>"
      ],
      "text/plain": [
       "   id           created_at attribution_source country          name\n",
       "0   1  2024-05-07T00:00:00          instagram      US     Eve Brown\n",
       "1   2  2024-10-12T00:00:00          instagram      NL   Frank Moore\n",
       "2   3  2024-10-15T00:00:00             tiktok      TR  Ivy Anderson\n",
       "3   4  2024-08-28T00:00:00             tiktok      TR   Alice Brown\n",
       "4   5  2024-04-03T00:00:00            organic      NL     Bob Moore"
      ]
     },
     "execution_count": 603,
     "metadata": {},
     "output_type": "execute_result"
    }
   ],
   "source": [
    "users_df.head()"
   ]
  },
  {
   "cell_type": "code",
   "execution_count": 604,
   "metadata": {},
   "outputs": [
    {
     "data": {
      "text/html": [
       "<div>\n",
       "<style scoped>\n",
       "    .dataframe tbody tr th:only-of-type {\n",
       "        vertical-align: middle;\n",
       "    }\n",
       "\n",
       "    .dataframe tbody tr th {\n",
       "        vertical-align: top;\n",
       "    }\n",
       "\n",
       "    .dataframe thead th {\n",
       "        text-align: right;\n",
       "    }\n",
       "</style>\n",
       "<table border=\"1\" class=\"dataframe\">\n",
       "  <thead>\n",
       "    <tr style=\"text-align: right;\">\n",
       "      <th></th>\n",
       "      <th>id</th>\n",
       "    </tr>\n",
       "  </thead>\n",
       "  <tbody>\n",
       "    <tr>\n",
       "      <th>count</th>\n",
       "      <td>1002.000000</td>\n",
       "    </tr>\n",
       "    <tr>\n",
       "      <th>mean</th>\n",
       "      <td>501.500000</td>\n",
       "    </tr>\n",
       "    <tr>\n",
       "      <th>std</th>\n",
       "      <td>289.396786</td>\n",
       "    </tr>\n",
       "    <tr>\n",
       "      <th>min</th>\n",
       "      <td>1.000000</td>\n",
       "    </tr>\n",
       "    <tr>\n",
       "      <th>25%</th>\n",
       "      <td>251.250000</td>\n",
       "    </tr>\n",
       "    <tr>\n",
       "      <th>50%</th>\n",
       "      <td>501.500000</td>\n",
       "    </tr>\n",
       "    <tr>\n",
       "      <th>75%</th>\n",
       "      <td>751.750000</td>\n",
       "    </tr>\n",
       "    <tr>\n",
       "      <th>max</th>\n",
       "      <td>1002.000000</td>\n",
       "    </tr>\n",
       "  </tbody>\n",
       "</table>\n",
       "</div>"
      ],
      "text/plain": [
       "                id\n",
       "count  1002.000000\n",
       "mean    501.500000\n",
       "std     289.396786\n",
       "min       1.000000\n",
       "25%     251.250000\n",
       "50%     501.500000\n",
       "75%     751.750000\n",
       "max    1002.000000"
      ]
     },
     "execution_count": 604,
     "metadata": {},
     "output_type": "execute_result"
    }
   ],
   "source": [
    "users_df.describe() #No meainingfull numeric value to work"
   ]
  },
  {
   "cell_type": "code",
   "execution_count": 605,
   "metadata": {},
   "outputs": [
    {
     "data": {
      "text/plain": [
       "id                    0\n",
       "created_at            0\n",
       "attribution_source    0\n",
       "country               0\n",
       "name                  0\n",
       "dtype: int64"
      ]
     },
     "execution_count": 605,
     "metadata": {},
     "output_type": "execute_result"
    }
   ],
   "source": [
    "users_df.isna().sum() #No null row in columns"
   ]
  },
  {
   "cell_type": "code",
   "execution_count": 606,
   "metadata": {},
   "outputs": [
    {
     "data": {
      "text/plain": [
       "tiktok       352\n",
       "organic      344\n",
       "instagram    306\n",
       "Name: attribution_source, dtype: int64"
      ]
     },
     "execution_count": 606,
     "metadata": {},
     "output_type": "execute_result"
    }
   ],
   "source": [
    "users_df[\"attribution_source\"].value_counts() # 3 Different value with nearly same amount"
   ]
  },
  {
   "cell_type": "code",
   "execution_count": 607,
   "metadata": {},
   "outputs": [
    {
     "data": {
      "text/plain": [
       "TR    354\n",
       "US    340\n",
       "NL    308\n",
       "Name: country, dtype: int64"
      ]
     },
     "execution_count": 607,
     "metadata": {},
     "output_type": "execute_result"
    }
   ],
   "source": [
    "users_df['country'].value_counts() # Again 3 different value with nearly same amount"
   ]
  },
  {
   "cell_type": "markdown",
   "metadata": {},
   "source": [
    "### For event data"
   ]
  },
  {
   "cell_type": "code",
   "execution_count": 608,
   "metadata": {},
   "outputs": [
    {
     "data": {
      "text/plain": [
       "(3486, 5)"
      ]
     },
     "execution_count": 608,
     "metadata": {},
     "output_type": "execute_result"
    }
   ],
   "source": [
    "events_df.shape # Way more row than user's data"
   ]
  },
  {
   "cell_type": "code",
   "execution_count": 609,
   "metadata": {},
   "outputs": [
    {
     "data": {
      "text/plain": [
       "['id', 'created_at', 'user_id', 'event_name', 'amount_usd']"
      ]
     },
     "execution_count": 609,
     "metadata": {},
     "output_type": "execute_result"
    }
   ],
   "source": [
    "list(events_df.columns) "
   ]
  },
  {
   "cell_type": "code",
   "execution_count": 610,
   "metadata": {},
   "outputs": [
    {
     "data": {
      "text/html": [
       "<div>\n",
       "<style scoped>\n",
       "    .dataframe tbody tr th:only-of-type {\n",
       "        vertical-align: middle;\n",
       "    }\n",
       "\n",
       "    .dataframe tbody tr th {\n",
       "        vertical-align: top;\n",
       "    }\n",
       "\n",
       "    .dataframe thead th {\n",
       "        text-align: right;\n",
       "    }\n",
       "</style>\n",
       "<table border=\"1\" class=\"dataframe\">\n",
       "  <thead>\n",
       "    <tr style=\"text-align: right;\">\n",
       "      <th></th>\n",
       "      <th>id</th>\n",
       "      <th>created_at</th>\n",
       "      <th>user_id</th>\n",
       "      <th>event_name</th>\n",
       "      <th>amount_usd</th>\n",
       "    </tr>\n",
       "  </thead>\n",
       "  <tbody>\n",
       "    <tr>\n",
       "      <th>0</th>\n",
       "      <td>1</td>\n",
       "      <td>2024-05-07T00:00:00</td>\n",
       "      <td>1</td>\n",
       "      <td>app_install</td>\n",
       "      <td>NaN</td>\n",
       "    </tr>\n",
       "    <tr>\n",
       "      <th>1</th>\n",
       "      <td>2</td>\n",
       "      <td>2024-05-12T00:00:00</td>\n",
       "      <td>1</td>\n",
       "      <td>trial_started</td>\n",
       "      <td>NaN</td>\n",
       "    </tr>\n",
       "    <tr>\n",
       "      <th>2</th>\n",
       "      <td>3</td>\n",
       "      <td>2024-05-24T00:00:00</td>\n",
       "      <td>1</td>\n",
       "      <td>trial_cancelled</td>\n",
       "      <td>NaN</td>\n",
       "    </tr>\n",
       "    <tr>\n",
       "      <th>3</th>\n",
       "      <td>4</td>\n",
       "      <td>2024-10-12T00:00:00</td>\n",
       "      <td>2</td>\n",
       "      <td>app_install</td>\n",
       "      <td>NaN</td>\n",
       "    </tr>\n",
       "    <tr>\n",
       "      <th>4</th>\n",
       "      <td>5</td>\n",
       "      <td>2024-10-13T00:00:00</td>\n",
       "      <td>2</td>\n",
       "      <td>trial_started</td>\n",
       "      <td>NaN</td>\n",
       "    </tr>\n",
       "  </tbody>\n",
       "</table>\n",
       "</div>"
      ],
      "text/plain": [
       "   id           created_at  user_id       event_name  amount_usd\n",
       "0   1  2024-05-07T00:00:00        1      app_install         NaN\n",
       "1   2  2024-05-12T00:00:00        1    trial_started         NaN\n",
       "2   3  2024-05-24T00:00:00        1  trial_cancelled         NaN\n",
       "3   4  2024-10-12T00:00:00        2      app_install         NaN\n",
       "4   5  2024-10-13T00:00:00        2    trial_started         NaN"
      ]
     },
     "execution_count": 610,
     "metadata": {},
     "output_type": "execute_result"
    }
   ],
   "source": [
    "events_df.head() # 'user_id' propably corrsepond to users_df 'id'"
   ]
  },
  {
   "cell_type": "code",
   "execution_count": 611,
   "metadata": {},
   "outputs": [
    {
     "data": {
      "text/plain": [
       "832     8\n",
       "331     8\n",
       "950     8\n",
       "359     8\n",
       "819     8\n",
       "       ..\n",
       "492     1\n",
       "489     1\n",
       "477     1\n",
       "469     1\n",
       "1002    1\n",
       "Name: user_id, Length: 1002, dtype: int64"
      ]
     },
     "execution_count": 611,
     "metadata": {},
     "output_type": "execute_result"
    }
   ],
   "source": [
    "#Lets check if it was true\n",
    "events_df['user_id'].value_counts()\n",
    "\n",
    "# As we can see lenght is 1002 and in users_df our shape is (1002, 5) so we have every user with some event in events_df"
   ]
  },
  {
   "cell_type": "code",
   "execution_count": 612,
   "metadata": {},
   "outputs": [
    {
     "data": {
      "text/plain": [
       "\"\\nWe have a some numerical value we can make some insights 'amount_usd'.\\nMaybe we can find some relation to other categorical value \\n\""
      ]
     },
     "execution_count": 612,
     "metadata": {},
     "output_type": "execute_result"
    }
   ],
   "source": [
    "events_df.describe() \n",
    "'''\n",
    "We have a some numerical value we can make some insights 'amount_usd'.\n",
    "Maybe we can find some relation to other categorical value \n",
    "'''"
   ]
  },
  {
   "cell_type": "code",
   "execution_count": 613,
   "metadata": {},
   "outputs": [
    {
     "data": {
      "text/plain": [
       "id              int64\n",
       "created_at     object\n",
       "user_id         int64\n",
       "event_name     object\n",
       "amount_usd    float64\n",
       "dtype: object"
      ]
     },
     "execution_count": 613,
     "metadata": {},
     "output_type": "execute_result"
    }
   ],
   "source": [
    "events_df.dtypes\n",
    "\n",
    "#we have two object type one is time-stamp other one is event_name lets check it"
   ]
  },
  {
   "cell_type": "code",
   "execution_count": 614,
   "metadata": {},
   "outputs": [
    {
     "data": {
      "text/plain": [
       "'\\nWe have 6 different event we can categorize it when we preprocess our data. \\nMaybe some correlation can be between amount of usd with event.\\n'"
      ]
     },
     "execution_count": 614,
     "metadata": {},
     "output_type": "execute_result"
    }
   ],
   "source": [
    "events_df['event_name'].value_counts() \n",
    "'''\n",
    "We have 6 different event we can categorize it when we preprocess our data. \n",
    "Maybe some correlation can be between amount of usd with event.\n",
    "'''"
   ]
  },
  {
   "cell_type": "code",
   "execution_count": 615,
   "metadata": {},
   "outputs": [
    {
     "data": {
      "text/plain": [
       "id               0\n",
       "created_at       0\n",
       "user_id          0\n",
       "event_name       0\n",
       "amount_usd    2255\n",
       "dtype: int64"
      ]
     },
     "execution_count": 615,
     "metadata": {},
     "output_type": "execute_result"
    }
   ],
   "source": [
    "events_df.isna().sum()\n",
    "\n",
    "#We have 2255 row of null in 'amount_usd', it can be 0 for not spending any or can be a null value we will inspect it in a moment."
   ]
  },
  {
   "cell_type": "code",
   "execution_count": 616,
   "metadata": {},
   "outputs": [
    {
     "data": {
      "text/plain": [
       "subscription_renewed    750\n",
       "subscription_started    481\n",
       "Name: event_name, dtype: int64"
      ]
     },
     "execution_count": 616,
     "metadata": {},
     "output_type": "execute_result"
    }
   ],
   "source": [
    "events_df[events_df['amount_usd'].notna()]['event_name'].value_counts()\n",
    "\n",
    "# So there are two 'event_name' that doesnt make amount null."
   ]
  },
  {
   "cell_type": "markdown",
   "metadata": {},
   "source": [
    "# Step 5 - Solving Tasks"
   ]
  },
  {
   "cell_type": "markdown",
   "metadata": {},
   "source": [
    "### Task 1\n",
    "\n",
    "Calculate the total revenue generated from subscriptions for each country."
   ]
  },
  {
   "cell_type": "code",
   "execution_count": 617,
   "metadata": {},
   "outputs": [
    {
     "data": {
      "text/html": [
       "<div>\n",
       "<style scoped>\n",
       "    .dataframe tbody tr th:only-of-type {\n",
       "        vertical-align: middle;\n",
       "    }\n",
       "\n",
       "    .dataframe tbody tr th {\n",
       "        vertical-align: top;\n",
       "    }\n",
       "\n",
       "    .dataframe thead th {\n",
       "        text-align: right;\n",
       "    }\n",
       "</style>\n",
       "<table border=\"1\" class=\"dataframe\">\n",
       "  <thead>\n",
       "    <tr style=\"text-align: right;\">\n",
       "      <th></th>\n",
       "      <th>id</th>\n",
       "      <th>created_at</th>\n",
       "      <th>user_id</th>\n",
       "      <th>event_name</th>\n",
       "      <th>amount_usd</th>\n",
       "    </tr>\n",
       "  </thead>\n",
       "  <tbody>\n",
       "    <tr>\n",
       "      <th>5</th>\n",
       "      <td>6</td>\n",
       "      <td>2024-10-20T00:00:00</td>\n",
       "      <td>2</td>\n",
       "      <td>subscription_started</td>\n",
       "      <td>8.99</td>\n",
       "    </tr>\n",
       "    <tr>\n",
       "      <th>6</th>\n",
       "      <td>7</td>\n",
       "      <td>2024-11-19T00:00:00</td>\n",
       "      <td>2</td>\n",
       "      <td>subscription_renewed</td>\n",
       "      <td>8.99</td>\n",
       "    </tr>\n",
       "    <tr>\n",
       "      <th>7</th>\n",
       "      <td>8</td>\n",
       "      <td>2024-12-19T00:00:00</td>\n",
       "      <td>2</td>\n",
       "      <td>subscription_renewed</td>\n",
       "      <td>8.99</td>\n",
       "    </tr>\n",
       "    <tr>\n",
       "      <th>8</th>\n",
       "      <td>9</td>\n",
       "      <td>2025-01-18T00:00:00</td>\n",
       "      <td>2</td>\n",
       "      <td>subscription_renewed</td>\n",
       "      <td>8.99</td>\n",
       "    </tr>\n",
       "    <tr>\n",
       "      <th>12</th>\n",
       "      <td>13</td>\n",
       "      <td>2024-10-21T00:00:00</td>\n",
       "      <td>3</td>\n",
       "      <td>subscription_started</td>\n",
       "      <td>4.99</td>\n",
       "    </tr>\n",
       "  </tbody>\n",
       "</table>\n",
       "</div>"
      ],
      "text/plain": [
       "    id           created_at  user_id            event_name  amount_usd\n",
       "5    6  2024-10-20T00:00:00        2  subscription_started        8.99\n",
       "6    7  2024-11-19T00:00:00        2  subscription_renewed        8.99\n",
       "7    8  2024-12-19T00:00:00        2  subscription_renewed        8.99\n",
       "8    9  2025-01-18T00:00:00        2  subscription_renewed        8.99\n",
       "12  13  2024-10-21T00:00:00        3  subscription_started        4.99"
      ]
     },
     "execution_count": 617,
     "metadata": {},
     "output_type": "execute_result"
    }
   ],
   "source": [
    "money_gain_events = events_df[events_df['event_name'].isin(['subscription_started', 'subscription_renewed'])] \n",
    "\n",
    "'''\n",
    "Öncelikle para kazandıran eventlerin olduğu ayrı bir dataframe oluşturalım.\n",
    "'''\n",
    "\n",
    "money_gain_events.head()"
   ]
  },
  {
   "cell_type": "code",
   "execution_count": 618,
   "metadata": {},
   "outputs": [
    {
     "data": {
      "text/html": [
       "<div>\n",
       "<style scoped>\n",
       "    .dataframe tbody tr th:only-of-type {\n",
       "        vertical-align: middle;\n",
       "    }\n",
       "\n",
       "    .dataframe tbody tr th {\n",
       "        vertical-align: top;\n",
       "    }\n",
       "\n",
       "    .dataframe thead th {\n",
       "        text-align: right;\n",
       "    }\n",
       "</style>\n",
       "<table border=\"1\" class=\"dataframe\">\n",
       "  <thead>\n",
       "    <tr style=\"text-align: right;\">\n",
       "      <th></th>\n",
       "      <th>event_id</th>\n",
       "      <th>created_at</th>\n",
       "      <th>user_id</th>\n",
       "      <th>event_name</th>\n",
       "      <th>amount_usd</th>\n",
       "      <th>country</th>\n",
       "    </tr>\n",
       "  </thead>\n",
       "  <tbody>\n",
       "    <tr>\n",
       "      <th>0</th>\n",
       "      <td>6</td>\n",
       "      <td>2024-10-20T00:00:00</td>\n",
       "      <td>2</td>\n",
       "      <td>subscription_started</td>\n",
       "      <td>8.99</td>\n",
       "      <td>NL</td>\n",
       "    </tr>\n",
       "    <tr>\n",
       "      <th>1</th>\n",
       "      <td>7</td>\n",
       "      <td>2024-11-19T00:00:00</td>\n",
       "      <td>2</td>\n",
       "      <td>subscription_renewed</td>\n",
       "      <td>8.99</td>\n",
       "      <td>NL</td>\n",
       "    </tr>\n",
       "    <tr>\n",
       "      <th>2</th>\n",
       "      <td>8</td>\n",
       "      <td>2024-12-19T00:00:00</td>\n",
       "      <td>2</td>\n",
       "      <td>subscription_renewed</td>\n",
       "      <td>8.99</td>\n",
       "      <td>NL</td>\n",
       "    </tr>\n",
       "    <tr>\n",
       "      <th>3</th>\n",
       "      <td>9</td>\n",
       "      <td>2025-01-18T00:00:00</td>\n",
       "      <td>2</td>\n",
       "      <td>subscription_renewed</td>\n",
       "      <td>8.99</td>\n",
       "      <td>NL</td>\n",
       "    </tr>\n",
       "    <tr>\n",
       "      <th>4</th>\n",
       "      <td>13</td>\n",
       "      <td>2024-10-21T00:00:00</td>\n",
       "      <td>3</td>\n",
       "      <td>subscription_started</td>\n",
       "      <td>4.99</td>\n",
       "      <td>TR</td>\n",
       "    </tr>\n",
       "  </tbody>\n",
       "</table>\n",
       "</div>"
      ],
      "text/plain": [
       "   event_id           created_at  user_id            event_name  amount_usd  \\\n",
       "0         6  2024-10-20T00:00:00        2  subscription_started        8.99   \n",
       "1         7  2024-11-19T00:00:00        2  subscription_renewed        8.99   \n",
       "2         8  2024-12-19T00:00:00        2  subscription_renewed        8.99   \n",
       "3         9  2025-01-18T00:00:00        2  subscription_renewed        8.99   \n",
       "4        13  2024-10-21T00:00:00        3  subscription_started        4.99   \n",
       "\n",
       "  country  \n",
       "0      NL  \n",
       "1      NL  \n",
       "2      NL  \n",
       "3      NL  \n",
       "4      TR  "
      ]
     },
     "execution_count": 618,
     "metadata": {},
     "output_type": "execute_result"
    }
   ],
   "source": [
    "money_gain_data = money_gain_events.merge(users_df[['id', 'country']], left_on='user_id', right_on='id', how='left')\n",
    "\n",
    "'''\n",
    "Hangi userın hangi ülkeden olduğunu bulunduğunu bulmak için user_df'teki id ve country kısmını events_df'teki user_id ile birleştirelim.\n",
    "Böylece hem hangi user olduğunu ve hangi ülkenin kullanıcısı olduğunu bilip ne kadar harcadığına bakabilicez\n",
    "\n",
    "id_x:'event_id'\n",
    "id_y:'user_id' duplicate olan bir değer olduğu için silinecek\n",
    "\n",
    "idleri düzenlemeye geçelim.\n",
    "PS: Her ne kadar son frame'de olmayacak olsa da düzenli gitmek adına yapılması gereken bir şey.\n",
    "'''\n",
    "\n",
    "money_gain_data = money_gain_data.rename(columns={'id_x':'event_id'}).drop('id_y', axis=1)\n",
    "money_gain_data.head()"
   ]
  },
  {
   "cell_type": "code",
   "execution_count": 619,
   "metadata": {},
   "outputs": [],
   "source": [
    "revenue_by_country = (money_gain_data.groupby('country')['amount_usd'] #Country olarak gruplayıp sadece paraları listeliyoruz.\n",
    "                     .sum() #Listelerdiğimiz paraları topluyoruz.\n",
    "                     .reset_index() #Series yerine frame'e çekmek için index resetlioyurz PS: Gerekli olan bir şey değil ama Frame halindeyken gösterim ve okumak daha rahat oluyor.\n",
    "                     .rename(columns={'amount_usd': 'total_revenue'})  # 'amount_usd' yerine 'total_revenue' kullanmak daha doğru bir yaklaşım.\n",
    "                    )"
   ]
  },
  {
   "cell_type": "markdown",
   "metadata": {},
   "source": [
    "#### Task 1 - A:"
   ]
  },
  {
   "cell_type": "code",
   "execution_count": 620,
   "metadata": {},
   "outputs": [
    {
     "data": {
      "text/html": [
       "<div>\n",
       "<style scoped>\n",
       "    .dataframe tbody tr th:only-of-type {\n",
       "        vertical-align: middle;\n",
       "    }\n",
       "\n",
       "    .dataframe tbody tr th {\n",
       "        vertical-align: top;\n",
       "    }\n",
       "\n",
       "    .dataframe thead th {\n",
       "        text-align: right;\n",
       "    }\n",
       "</style>\n",
       "<table border=\"1\" class=\"dataframe\">\n",
       "  <thead>\n",
       "    <tr style=\"text-align: right;\">\n",
       "      <th></th>\n",
       "      <th>country</th>\n",
       "      <th>total_revenue</th>\n",
       "    </tr>\n",
       "  </thead>\n",
       "  <tbody>\n",
       "    <tr>\n",
       "      <th>0</th>\n",
       "      <td>NL</td>\n",
       "      <td>3335.29</td>\n",
       "    </tr>\n",
       "    <tr>\n",
       "      <th>1</th>\n",
       "      <td>TR</td>\n",
       "      <td>2275.44</td>\n",
       "    </tr>\n",
       "    <tr>\n",
       "      <th>2</th>\n",
       "      <td>US</td>\n",
       "      <td>4035.96</td>\n",
       "    </tr>\n",
       "  </tbody>\n",
       "</table>\n",
       "</div>"
      ],
      "text/plain": [
       "  country  total_revenue\n",
       "0      NL        3335.29\n",
       "1      TR        2275.44\n",
       "2      US        4035.96"
      ]
     },
     "execution_count": 620,
     "metadata": {},
     "output_type": "execute_result"
    }
   ],
   "source": [
    "revenue_by_country #DataFrame halinde cevap."
   ]
  },
  {
   "cell_type": "markdown",
   "metadata": {},
   "source": [
    "### Task 2\n",
    "Calculate the total number of trials given to users who came from Instagram."
   ]
  },
  {
   "cell_type": "code",
   "execution_count": 621,
   "metadata": {},
   "outputs": [
    {
     "data": {
      "text/html": [
       "<div>\n",
       "<style scoped>\n",
       "    .dataframe tbody tr th:only-of-type {\n",
       "        vertical-align: middle;\n",
       "    }\n",
       "\n",
       "    .dataframe tbody tr th {\n",
       "        vertical-align: top;\n",
       "    }\n",
       "\n",
       "    .dataframe thead th {\n",
       "        text-align: right;\n",
       "    }\n",
       "</style>\n",
       "<table border=\"1\" class=\"dataframe\">\n",
       "  <thead>\n",
       "    <tr style=\"text-align: right;\">\n",
       "      <th></th>\n",
       "      <th>id</th>\n",
       "      <th>created_at</th>\n",
       "      <th>attribution_source</th>\n",
       "      <th>country</th>\n",
       "      <th>name</th>\n",
       "    </tr>\n",
       "  </thead>\n",
       "  <tbody>\n",
       "    <tr>\n",
       "      <th>0</th>\n",
       "      <td>1</td>\n",
       "      <td>2024-05-07T00:00:00</td>\n",
       "      <td>instagram</td>\n",
       "      <td>US</td>\n",
       "      <td>Eve Brown</td>\n",
       "    </tr>\n",
       "    <tr>\n",
       "      <th>1</th>\n",
       "      <td>2</td>\n",
       "      <td>2024-10-12T00:00:00</td>\n",
       "      <td>instagram</td>\n",
       "      <td>NL</td>\n",
       "      <td>Frank Moore</td>\n",
       "    </tr>\n",
       "    <tr>\n",
       "      <th>6</th>\n",
       "      <td>7</td>\n",
       "      <td>2024-10-21T00:00:00</td>\n",
       "      <td>instagram</td>\n",
       "      <td>US</td>\n",
       "      <td>Henry Moore</td>\n",
       "    </tr>\n",
       "    <tr>\n",
       "      <th>11</th>\n",
       "      <td>12</td>\n",
       "      <td>2024-01-08T00:00:00</td>\n",
       "      <td>instagram</td>\n",
       "      <td>US</td>\n",
       "      <td>Frank Miller</td>\n",
       "    </tr>\n",
       "    <tr>\n",
       "      <th>14</th>\n",
       "      <td>15</td>\n",
       "      <td>2024-07-10T00:00:00</td>\n",
       "      <td>instagram</td>\n",
       "      <td>US</td>\n",
       "      <td>Bob Miller</td>\n",
       "    </tr>\n",
       "  </tbody>\n",
       "</table>\n",
       "</div>"
      ],
      "text/plain": [
       "    id           created_at attribution_source country          name\n",
       "0    1  2024-05-07T00:00:00          instagram      US     Eve Brown\n",
       "1    2  2024-10-12T00:00:00          instagram      NL   Frank Moore\n",
       "6    7  2024-10-21T00:00:00          instagram      US   Henry Moore\n",
       "11  12  2024-01-08T00:00:00          instagram      US  Frank Miller\n",
       "14  15  2024-07-10T00:00:00          instagram      US    Bob Miller"
      ]
     },
     "execution_count": 621,
     "metadata": {},
     "output_type": "execute_result"
    }
   ],
   "source": [
    "#Önce instagramdan gelen kullanıcıları bulalım.\n",
    "\n",
    "instagram_users = users_df[users_df['attribution_source'] == 'instagram']\n",
    "\n",
    "instagram_users.head()"
   ]
  },
  {
   "cell_type": "code",
   "execution_count": 622,
   "metadata": {},
   "outputs": [
    {
     "data": {
      "text/html": [
       "<div>\n",
       "<style scoped>\n",
       "    .dataframe tbody tr th:only-of-type {\n",
       "        vertical-align: middle;\n",
       "    }\n",
       "\n",
       "    .dataframe tbody tr th {\n",
       "        vertical-align: top;\n",
       "    }\n",
       "\n",
       "    .dataframe thead th {\n",
       "        text-align: right;\n",
       "    }\n",
       "</style>\n",
       "<table border=\"1\" class=\"dataframe\">\n",
       "  <thead>\n",
       "    <tr style=\"text-align: right;\">\n",
       "      <th></th>\n",
       "      <th>id</th>\n",
       "      <th>created_at</th>\n",
       "      <th>user_id</th>\n",
       "      <th>event_name</th>\n",
       "      <th>amount_usd</th>\n",
       "    </tr>\n",
       "  </thead>\n",
       "  <tbody>\n",
       "    <tr>\n",
       "      <th>1</th>\n",
       "      <td>2</td>\n",
       "      <td>2024-05-12T00:00:00</td>\n",
       "      <td>1</td>\n",
       "      <td>trial_started</td>\n",
       "      <td>NaN</td>\n",
       "    </tr>\n",
       "    <tr>\n",
       "      <th>4</th>\n",
       "      <td>5</td>\n",
       "      <td>2024-10-13T00:00:00</td>\n",
       "      <td>2</td>\n",
       "      <td>trial_started</td>\n",
       "      <td>NaN</td>\n",
       "    </tr>\n",
       "    <tr>\n",
       "      <th>44</th>\n",
       "      <td>45</td>\n",
       "      <td>2024-01-14T00:00:00</td>\n",
       "      <td>12</td>\n",
       "      <td>trial_started</td>\n",
       "      <td>NaN</td>\n",
       "    </tr>\n",
       "    <tr>\n",
       "      <th>63</th>\n",
       "      <td>64</td>\n",
       "      <td>2024-07-12T00:00:00</td>\n",
       "      <td>15</td>\n",
       "      <td>trial_started</td>\n",
       "      <td>NaN</td>\n",
       "    </tr>\n",
       "    <tr>\n",
       "      <th>66</th>\n",
       "      <td>67</td>\n",
       "      <td>2024-04-28T00:00:00</td>\n",
       "      <td>16</td>\n",
       "      <td>trial_started</td>\n",
       "      <td>NaN</td>\n",
       "    </tr>\n",
       "    <tr>\n",
       "      <th>...</th>\n",
       "      <td>...</td>\n",
       "      <td>...</td>\n",
       "      <td>...</td>\n",
       "      <td>...</td>\n",
       "      <td>...</td>\n",
       "    </tr>\n",
       "    <tr>\n",
       "      <th>3432</th>\n",
       "      <td>3433</td>\n",
       "      <td>2025-01-17T00:00:00</td>\n",
       "      <td>989</td>\n",
       "      <td>trial_started</td>\n",
       "      <td>NaN</td>\n",
       "    </tr>\n",
       "    <tr>\n",
       "      <th>3438</th>\n",
       "      <td>3439</td>\n",
       "      <td>2024-11-26T00:00:00</td>\n",
       "      <td>990</td>\n",
       "      <td>trial_started</td>\n",
       "      <td>NaN</td>\n",
       "    </tr>\n",
       "    <tr>\n",
       "      <th>3448</th>\n",
       "      <td>3449</td>\n",
       "      <td>2025-02-09T00:00:00</td>\n",
       "      <td>992</td>\n",
       "      <td>trial_started</td>\n",
       "      <td>NaN</td>\n",
       "    </tr>\n",
       "    <tr>\n",
       "      <th>3458</th>\n",
       "      <td>3459</td>\n",
       "      <td>2024-10-04T00:00:00</td>\n",
       "      <td>995</td>\n",
       "      <td>trial_started</td>\n",
       "      <td>NaN</td>\n",
       "    </tr>\n",
       "    <tr>\n",
       "      <th>3483</th>\n",
       "      <td>3484</td>\n",
       "      <td>2025-02-25T00:00:00</td>\n",
       "      <td>1001</td>\n",
       "      <td>trial_started</td>\n",
       "      <td>NaN</td>\n",
       "    </tr>\n",
       "  </tbody>\n",
       "</table>\n",
       "<p>210 rows × 5 columns</p>\n",
       "</div>"
      ],
      "text/plain": [
       "        id           created_at  user_id     event_name  amount_usd\n",
       "1        2  2024-05-12T00:00:00        1  trial_started         NaN\n",
       "4        5  2024-10-13T00:00:00        2  trial_started         NaN\n",
       "44      45  2024-01-14T00:00:00       12  trial_started         NaN\n",
       "63      64  2024-07-12T00:00:00       15  trial_started         NaN\n",
       "66      67  2024-04-28T00:00:00       16  trial_started         NaN\n",
       "...    ...                  ...      ...            ...         ...\n",
       "3432  3433  2025-01-17T00:00:00      989  trial_started         NaN\n",
       "3438  3439  2024-11-26T00:00:00      990  trial_started         NaN\n",
       "3448  3449  2025-02-09T00:00:00      992  trial_started         NaN\n",
       "3458  3459  2024-10-04T00:00:00      995  trial_started         NaN\n",
       "3483  3484  2025-02-25T00:00:00     1001  trial_started         NaN\n",
       "\n",
       "[210 rows x 5 columns]"
      ]
     },
     "execution_count": 622,
     "metadata": {},
     "output_type": "execute_result"
    }
   ],
   "source": [
    "instagram_trials = events_df[(events_df['event_name'] == 'trial_started') & (events_df['user_id'].isin(instagram_users['id'])) ]\n",
    "\n",
    "#İnstagram userı olup event'lerde trail başlatan kişileri bulalım.\n",
    "\n",
    "instagram_trials"
   ]
  },
  {
   "cell_type": "code",
   "execution_count": 623,
   "metadata": {},
   "outputs": [],
   "source": [
    "#Her ne kadar total row sayısını görebiliyor olsak da net bir gösterim olması için kaç row bulunduğuna bakalım.\n",
    "\n",
    "total_instagram_trials = len(instagram_trials)"
   ]
  },
  {
   "cell_type": "markdown",
   "metadata": {},
   "source": [
    "#### Task 2 - A:"
   ]
  },
  {
   "cell_type": "code",
   "execution_count": 624,
   "metadata": {},
   "outputs": [
    {
     "data": {
      "text/plain": [
       "210"
      ]
     },
     "execution_count": 624,
     "metadata": {},
     "output_type": "execute_result"
    }
   ],
   "source": [
    "total_instagram_trials"
   ]
  },
  {
   "cell_type": "markdown",
   "metadata": {},
   "source": [
    "### Task 3\n",
    "Create a new column named 'acquisition_channel' by categorizing users based on their 'attribution_source':\n",
    "   - 'Paid': users from instagram or tiktok\n",
    "   - 'Organic': users from organic sources"
   ]
  },
  {
   "cell_type": "code",
   "execution_count": 625,
   "metadata": {},
   "outputs": [
    {
     "data": {
      "text/html": [
       "<div>\n",
       "<style scoped>\n",
       "    .dataframe tbody tr th:only-of-type {\n",
       "        vertical-align: middle;\n",
       "    }\n",
       "\n",
       "    .dataframe tbody tr th {\n",
       "        vertical-align: top;\n",
       "    }\n",
       "\n",
       "    .dataframe thead th {\n",
       "        text-align: right;\n",
       "    }\n",
       "</style>\n",
       "<table border=\"1\" class=\"dataframe\">\n",
       "  <thead>\n",
       "    <tr style=\"text-align: right;\">\n",
       "      <th></th>\n",
       "      <th>id</th>\n",
       "      <th>created_at</th>\n",
       "      <th>attribution_source</th>\n",
       "      <th>country</th>\n",
       "      <th>name</th>\n",
       "      <th>acquisition_channel</th>\n",
       "    </tr>\n",
       "  </thead>\n",
       "  <tbody>\n",
       "    <tr>\n",
       "      <th>0</th>\n",
       "      <td>1</td>\n",
       "      <td>2024-05-07T00:00:00</td>\n",
       "      <td>instagram</td>\n",
       "      <td>US</td>\n",
       "      <td>Eve Brown</td>\n",
       "      <td>Organic</td>\n",
       "    </tr>\n",
       "    <tr>\n",
       "      <th>1</th>\n",
       "      <td>2</td>\n",
       "      <td>2024-10-12T00:00:00</td>\n",
       "      <td>instagram</td>\n",
       "      <td>NL</td>\n",
       "      <td>Frank Moore</td>\n",
       "      <td>Organic</td>\n",
       "    </tr>\n",
       "    <tr>\n",
       "      <th>2</th>\n",
       "      <td>3</td>\n",
       "      <td>2024-10-15T00:00:00</td>\n",
       "      <td>tiktok</td>\n",
       "      <td>TR</td>\n",
       "      <td>Ivy Anderson</td>\n",
       "      <td>Organic</td>\n",
       "    </tr>\n",
       "    <tr>\n",
       "      <th>3</th>\n",
       "      <td>4</td>\n",
       "      <td>2024-08-28T00:00:00</td>\n",
       "      <td>tiktok</td>\n",
       "      <td>TR</td>\n",
       "      <td>Alice Brown</td>\n",
       "      <td>Organic</td>\n",
       "    </tr>\n",
       "    <tr>\n",
       "      <th>4</th>\n",
       "      <td>5</td>\n",
       "      <td>2024-04-03T00:00:00</td>\n",
       "      <td>organic</td>\n",
       "      <td>NL</td>\n",
       "      <td>Bob Moore</td>\n",
       "      <td>Organic</td>\n",
       "    </tr>\n",
       "  </tbody>\n",
       "</table>\n",
       "</div>"
      ],
      "text/plain": [
       "   id           created_at attribution_source country          name  \\\n",
       "0   1  2024-05-07T00:00:00          instagram      US     Eve Brown   \n",
       "1   2  2024-10-12T00:00:00          instagram      NL   Frank Moore   \n",
       "2   3  2024-10-15T00:00:00             tiktok      TR  Ivy Anderson   \n",
       "3   4  2024-08-28T00:00:00             tiktok      TR   Alice Brown   \n",
       "4   5  2024-04-03T00:00:00            organic      NL     Bob Moore   \n",
       "\n",
       "  acquisition_channel  \n",
       "0             Organic  \n",
       "1             Organic  \n",
       "2             Organic  \n",
       "3             Organic  \n",
       "4             Organic  "
      ]
     },
     "execution_count": 625,
     "metadata": {},
     "output_type": "execute_result"
    }
   ],
   "source": [
    "# Eğer sadece instagram ve tiktok 'Paid' geri kalan yerler organic ise öncelikle hepsini 'Organic' yapalım\n",
    "updated_users_df = users_df.copy() #Asıl df'imizi bozmaması adına yeni bir df'e kopyalayalım.\n",
    "updated_users_df['acquisition_channel'] = 'Organic' # Bütün column'a 'Organic' verelim.\n",
    "\n",
    "updated_users_df.head()"
   ]
  },
  {
   "cell_type": "code",
   "execution_count": 626,
   "metadata": {},
   "outputs": [
    {
     "data": {
      "text/html": [
       "<div>\n",
       "<style scoped>\n",
       "    .dataframe tbody tr th:only-of-type {\n",
       "        vertical-align: middle;\n",
       "    }\n",
       "\n",
       "    .dataframe tbody tr th {\n",
       "        vertical-align: top;\n",
       "    }\n",
       "\n",
       "    .dataframe thead th {\n",
       "        text-align: right;\n",
       "    }\n",
       "</style>\n",
       "<table border=\"1\" class=\"dataframe\">\n",
       "  <thead>\n",
       "    <tr style=\"text-align: right;\">\n",
       "      <th></th>\n",
       "      <th>id</th>\n",
       "      <th>created_at</th>\n",
       "      <th>attribution_source</th>\n",
       "      <th>country</th>\n",
       "      <th>name</th>\n",
       "      <th>acquisition_channel</th>\n",
       "    </tr>\n",
       "  </thead>\n",
       "  <tbody>\n",
       "    <tr>\n",
       "      <th>0</th>\n",
       "      <td>1</td>\n",
       "      <td>2024-05-07T00:00:00</td>\n",
       "      <td>instagram</td>\n",
       "      <td>US</td>\n",
       "      <td>Eve Brown</td>\n",
       "      <td>Paid</td>\n",
       "    </tr>\n",
       "    <tr>\n",
       "      <th>1</th>\n",
       "      <td>2</td>\n",
       "      <td>2024-10-12T00:00:00</td>\n",
       "      <td>instagram</td>\n",
       "      <td>NL</td>\n",
       "      <td>Frank Moore</td>\n",
       "      <td>Paid</td>\n",
       "    </tr>\n",
       "    <tr>\n",
       "      <th>2</th>\n",
       "      <td>3</td>\n",
       "      <td>2024-10-15T00:00:00</td>\n",
       "      <td>tiktok</td>\n",
       "      <td>TR</td>\n",
       "      <td>Ivy Anderson</td>\n",
       "      <td>Paid</td>\n",
       "    </tr>\n",
       "    <tr>\n",
       "      <th>3</th>\n",
       "      <td>4</td>\n",
       "      <td>2024-08-28T00:00:00</td>\n",
       "      <td>tiktok</td>\n",
       "      <td>TR</td>\n",
       "      <td>Alice Brown</td>\n",
       "      <td>Paid</td>\n",
       "    </tr>\n",
       "    <tr>\n",
       "      <th>4</th>\n",
       "      <td>5</td>\n",
       "      <td>2024-04-03T00:00:00</td>\n",
       "      <td>organic</td>\n",
       "      <td>NL</td>\n",
       "      <td>Bob Moore</td>\n",
       "      <td>Organic</td>\n",
       "    </tr>\n",
       "  </tbody>\n",
       "</table>\n",
       "</div>"
      ],
      "text/plain": [
       "   id           created_at attribution_source country          name  \\\n",
       "0   1  2024-05-07T00:00:00          instagram      US     Eve Brown   \n",
       "1   2  2024-10-12T00:00:00          instagram      NL   Frank Moore   \n",
       "2   3  2024-10-15T00:00:00             tiktok      TR  Ivy Anderson   \n",
       "3   4  2024-08-28T00:00:00             tiktok      TR   Alice Brown   \n",
       "4   5  2024-04-03T00:00:00            organic      NL     Bob Moore   \n",
       "\n",
       "  acquisition_channel  \n",
       "0                Paid  \n",
       "1                Paid  \n",
       "2                Paid  \n",
       "3                Paid  \n",
       "4             Organic  "
      ]
     },
     "execution_count": 626,
     "metadata": {},
     "output_type": "execute_result"
    }
   ],
   "source": [
    "#Şimdi tiktok ve instagramı padi yapma vakti.\n",
    "\n",
    "\n",
    "updated_users_df.loc[updated_users_df['attribution_source'].isin(['instagram', 'tiktok']), 'acquisition_channel'] = 'Paid'\n",
    "\n",
    "\n",
    "#Eğer attr_src instagram veya tiktok ise(liste olarak verdiğimiz için .isin kullandık) o satırların(en başta .loc kullandık) acq_chnl'larını 'Paid' yapalım\n",
    "\n",
    "\n",
    "updated_users_df.head()"
   ]
  },
  {
   "cell_type": "markdown",
   "metadata": {},
   "source": [
    "#### Task 3 - A:"
   ]
  },
  {
   "cell_type": "code",
   "execution_count": 627,
   "metadata": {},
   "outputs": [
    {
     "data": {
      "text/html": [
       "<div>\n",
       "<style scoped>\n",
       "    .dataframe tbody tr th:only-of-type {\n",
       "        vertical-align: middle;\n",
       "    }\n",
       "\n",
       "    .dataframe tbody tr th {\n",
       "        vertical-align: top;\n",
       "    }\n",
       "\n",
       "    .dataframe thead th {\n",
       "        text-align: right;\n",
       "    }\n",
       "</style>\n",
       "<table border=\"1\" class=\"dataframe\">\n",
       "  <thead>\n",
       "    <tr style=\"text-align: right;\">\n",
       "      <th></th>\n",
       "      <th>id</th>\n",
       "      <th>created_at</th>\n",
       "      <th>attribution_source</th>\n",
       "      <th>country</th>\n",
       "      <th>name</th>\n",
       "      <th>acquisition_channel</th>\n",
       "    </tr>\n",
       "  </thead>\n",
       "  <tbody>\n",
       "    <tr>\n",
       "      <th>0</th>\n",
       "      <td>1</td>\n",
       "      <td>2024-05-07T00:00:00</td>\n",
       "      <td>instagram</td>\n",
       "      <td>US</td>\n",
       "      <td>Eve Brown</td>\n",
       "      <td>Paid</td>\n",
       "    </tr>\n",
       "    <tr>\n",
       "      <th>1</th>\n",
       "      <td>2</td>\n",
       "      <td>2024-10-12T00:00:00</td>\n",
       "      <td>instagram</td>\n",
       "      <td>NL</td>\n",
       "      <td>Frank Moore</td>\n",
       "      <td>Paid</td>\n",
       "    </tr>\n",
       "    <tr>\n",
       "      <th>2</th>\n",
       "      <td>3</td>\n",
       "      <td>2024-10-15T00:00:00</td>\n",
       "      <td>tiktok</td>\n",
       "      <td>TR</td>\n",
       "      <td>Ivy Anderson</td>\n",
       "      <td>Paid</td>\n",
       "    </tr>\n",
       "    <tr>\n",
       "      <th>3</th>\n",
       "      <td>4</td>\n",
       "      <td>2024-08-28T00:00:00</td>\n",
       "      <td>tiktok</td>\n",
       "      <td>TR</td>\n",
       "      <td>Alice Brown</td>\n",
       "      <td>Paid</td>\n",
       "    </tr>\n",
       "    <tr>\n",
       "      <th>4</th>\n",
       "      <td>5</td>\n",
       "      <td>2024-04-03T00:00:00</td>\n",
       "      <td>organic</td>\n",
       "      <td>NL</td>\n",
       "      <td>Bob Moore</td>\n",
       "      <td>Organic</td>\n",
       "    </tr>\n",
       "    <tr>\n",
       "      <th>...</th>\n",
       "      <td>...</td>\n",
       "      <td>...</td>\n",
       "      <td>...</td>\n",
       "      <td>...</td>\n",
       "      <td>...</td>\n",
       "      <td>...</td>\n",
       "    </tr>\n",
       "    <tr>\n",
       "      <th>997</th>\n",
       "      <td>998</td>\n",
       "      <td>2025-02-01T00:00:00</td>\n",
       "      <td>instagram</td>\n",
       "      <td>TR</td>\n",
       "      <td>Bob Davis</td>\n",
       "      <td>Paid</td>\n",
       "    </tr>\n",
       "    <tr>\n",
       "      <th>998</th>\n",
       "      <td>999</td>\n",
       "      <td>2024-12-24T00:00:00</td>\n",
       "      <td>organic</td>\n",
       "      <td>NL</td>\n",
       "      <td>Charlie Davis</td>\n",
       "      <td>Organic</td>\n",
       "    </tr>\n",
       "    <tr>\n",
       "      <th>999</th>\n",
       "      <td>1000</td>\n",
       "      <td>2025-02-13T00:00:00</td>\n",
       "      <td>organic</td>\n",
       "      <td>NL</td>\n",
       "      <td>Jack Anderson</td>\n",
       "      <td>Organic</td>\n",
       "    </tr>\n",
       "    <tr>\n",
       "      <th>1000</th>\n",
       "      <td>1001</td>\n",
       "      <td>2025-02-16T00:00:00</td>\n",
       "      <td>instagram</td>\n",
       "      <td>US</td>\n",
       "      <td>Bruce Wayne</td>\n",
       "      <td>Paid</td>\n",
       "    </tr>\n",
       "    <tr>\n",
       "      <th>1001</th>\n",
       "      <td>1002</td>\n",
       "      <td>2025-02-16T00:00:00</td>\n",
       "      <td>organic</td>\n",
       "      <td>TR</td>\n",
       "      <td>Clark Kent</td>\n",
       "      <td>Organic</td>\n",
       "    </tr>\n",
       "  </tbody>\n",
       "</table>\n",
       "<p>1002 rows × 6 columns</p>\n",
       "</div>"
      ],
      "text/plain": [
       "        id           created_at attribution_source country           name  \\\n",
       "0        1  2024-05-07T00:00:00          instagram      US      Eve Brown   \n",
       "1        2  2024-10-12T00:00:00          instagram      NL    Frank Moore   \n",
       "2        3  2024-10-15T00:00:00             tiktok      TR   Ivy Anderson   \n",
       "3        4  2024-08-28T00:00:00             tiktok      TR    Alice Brown   \n",
       "4        5  2024-04-03T00:00:00            organic      NL      Bob Moore   \n",
       "...    ...                  ...                ...     ...            ...   \n",
       "997    998  2025-02-01T00:00:00          instagram      TR      Bob Davis   \n",
       "998    999  2024-12-24T00:00:00            organic      NL  Charlie Davis   \n",
       "999   1000  2025-02-13T00:00:00            organic      NL  Jack Anderson   \n",
       "1000  1001  2025-02-16T00:00:00          instagram      US    Bruce Wayne   \n",
       "1001  1002  2025-02-16T00:00:00            organic      TR     Clark Kent   \n",
       "\n",
       "     acquisition_channel  \n",
       "0                   Paid  \n",
       "1                   Paid  \n",
       "2                   Paid  \n",
       "3                   Paid  \n",
       "4                Organic  \n",
       "...                  ...  \n",
       "997                 Paid  \n",
       "998              Organic  \n",
       "999              Organic  \n",
       "1000                Paid  \n",
       "1001             Organic  \n",
       "\n",
       "[1002 rows x 6 columns]"
      ]
     },
     "execution_count": 627,
     "metadata": {},
     "output_type": "execute_result"
    }
   ],
   "source": [
    "updated_users_df"
   ]
  },
  {
   "cell_type": "markdown",
   "metadata": {},
   "source": [
    "### Task 4\n",
    "Analyze the trial-to-subscription conversion rate:\n",
    "   - Calculate the overall conversion rate\n",
    "   - Break down the conversion rate by attribution_source"
   ]
  },
  {
   "cell_type": "markdown",
   "metadata": {},
   "source": [
    "#### Task 4-1"
   ]
  },
  {
   "cell_type": "code",
   "execution_count": 628,
   "metadata": {},
   "outputs": [],
   "source": [
    "#Conversion rate'i bulmak için kaç adet trial başlatıldığını ve kaç adet subs başlatıldığını bulalım\n",
    "\n",
    "total_trials = events_df[events_df['event_name'] == 'trial_started'].shape[0]\n",
    "total_conversions = events_df[events_df['event_name'] == 'subscription_started'].shape[0]"
   ]
  },
  {
   "cell_type": "code",
   "execution_count": 629,
   "metadata": {},
   "outputs": [],
   "source": [
    "overall_conversion_rate = str(round((total_conversions / total_trials * 100), 2))+'%'"
   ]
  },
  {
   "cell_type": "markdown",
   "metadata": {},
   "source": [
    "##### Task 4-1 - A:"
   ]
  },
  {
   "cell_type": "code",
   "execution_count": 630,
   "metadata": {},
   "outputs": [
    {
     "data": {
      "text/plain": [
       "'70.53%'"
      ]
     },
     "execution_count": 630,
     "metadata": {},
     "output_type": "execute_result"
    }
   ],
   "source": [
    "overall_conversion_rate"
   ]
  },
  {
   "cell_type": "markdown",
   "metadata": {},
   "source": [
    "#### Task 4-2"
   ]
  },
  {
   "cell_type": "code",
   "execution_count": 631,
   "metadata": {},
   "outputs": [
    {
     "data": {
      "text/html": [
       "<div>\n",
       "<style scoped>\n",
       "    .dataframe tbody tr th:only-of-type {\n",
       "        vertical-align: middle;\n",
       "    }\n",
       "\n",
       "    .dataframe tbody tr th {\n",
       "        vertical-align: top;\n",
       "    }\n",
       "\n",
       "    .dataframe thead th {\n",
       "        text-align: right;\n",
       "    }\n",
       "</style>\n",
       "<table border=\"1\" class=\"dataframe\">\n",
       "  <thead>\n",
       "    <tr style=\"text-align: right;\">\n",
       "      <th></th>\n",
       "      <th>id_x</th>\n",
       "      <th>created_at</th>\n",
       "      <th>user_id</th>\n",
       "      <th>event_name</th>\n",
       "      <th>amount_usd</th>\n",
       "      <th>id_y</th>\n",
       "      <th>attribution_source</th>\n",
       "    </tr>\n",
       "  </thead>\n",
       "  <tbody>\n",
       "    <tr>\n",
       "      <th>0</th>\n",
       "      <td>1</td>\n",
       "      <td>2024-05-07T00:00:00</td>\n",
       "      <td>1</td>\n",
       "      <td>app_install</td>\n",
       "      <td>NaN</td>\n",
       "      <td>1</td>\n",
       "      <td>instagram</td>\n",
       "    </tr>\n",
       "    <tr>\n",
       "      <th>1</th>\n",
       "      <td>2</td>\n",
       "      <td>2024-05-12T00:00:00</td>\n",
       "      <td>1</td>\n",
       "      <td>trial_started</td>\n",
       "      <td>NaN</td>\n",
       "      <td>1</td>\n",
       "      <td>instagram</td>\n",
       "    </tr>\n",
       "    <tr>\n",
       "      <th>2</th>\n",
       "      <td>3</td>\n",
       "      <td>2024-05-24T00:00:00</td>\n",
       "      <td>1</td>\n",
       "      <td>trial_cancelled</td>\n",
       "      <td>NaN</td>\n",
       "      <td>1</td>\n",
       "      <td>instagram</td>\n",
       "    </tr>\n",
       "    <tr>\n",
       "      <th>3</th>\n",
       "      <td>4</td>\n",
       "      <td>2024-10-12T00:00:00</td>\n",
       "      <td>2</td>\n",
       "      <td>app_install</td>\n",
       "      <td>NaN</td>\n",
       "      <td>2</td>\n",
       "      <td>instagram</td>\n",
       "    </tr>\n",
       "    <tr>\n",
       "      <th>4</th>\n",
       "      <td>5</td>\n",
       "      <td>2024-10-13T00:00:00</td>\n",
       "      <td>2</td>\n",
       "      <td>trial_started</td>\n",
       "      <td>NaN</td>\n",
       "      <td>2</td>\n",
       "      <td>instagram</td>\n",
       "    </tr>\n",
       "    <tr>\n",
       "      <th>...</th>\n",
       "      <td>...</td>\n",
       "      <td>...</td>\n",
       "      <td>...</td>\n",
       "      <td>...</td>\n",
       "      <td>...</td>\n",
       "      <td>...</td>\n",
       "      <td>...</td>\n",
       "    </tr>\n",
       "    <tr>\n",
       "      <th>3481</th>\n",
       "      <td>3482</td>\n",
       "      <td>2025-02-25T00:00:00</td>\n",
       "      <td>1000</td>\n",
       "      <td>trial_cancelled</td>\n",
       "      <td>NaN</td>\n",
       "      <td>1000</td>\n",
       "      <td>organic</td>\n",
       "    </tr>\n",
       "    <tr>\n",
       "      <th>3482</th>\n",
       "      <td>3483</td>\n",
       "      <td>2025-02-25T00:00:00</td>\n",
       "      <td>1001</td>\n",
       "      <td>app_install</td>\n",
       "      <td>NaN</td>\n",
       "      <td>1001</td>\n",
       "      <td>instagram</td>\n",
       "    </tr>\n",
       "    <tr>\n",
       "      <th>3483</th>\n",
       "      <td>3484</td>\n",
       "      <td>2025-02-25T00:00:00</td>\n",
       "      <td>1001</td>\n",
       "      <td>trial_started</td>\n",
       "      <td>NaN</td>\n",
       "      <td>1001</td>\n",
       "      <td>instagram</td>\n",
       "    </tr>\n",
       "    <tr>\n",
       "      <th>3484</th>\n",
       "      <td>3485</td>\n",
       "      <td>2025-02-25T00:00:00</td>\n",
       "      <td>1001</td>\n",
       "      <td>subscription_started</td>\n",
       "      <td>9.99</td>\n",
       "      <td>1001</td>\n",
       "      <td>instagram</td>\n",
       "    </tr>\n",
       "    <tr>\n",
       "      <th>3485</th>\n",
       "      <td>3486</td>\n",
       "      <td>2025-02-25T00:00:00</td>\n",
       "      <td>1002</td>\n",
       "      <td>app_install</td>\n",
       "      <td>NaN</td>\n",
       "      <td>1002</td>\n",
       "      <td>organic</td>\n",
       "    </tr>\n",
       "  </tbody>\n",
       "</table>\n",
       "<p>3486 rows × 7 columns</p>\n",
       "</div>"
      ],
      "text/plain": [
       "      id_x           created_at  user_id            event_name  amount_usd  \\\n",
       "0        1  2024-05-07T00:00:00        1           app_install         NaN   \n",
       "1        2  2024-05-12T00:00:00        1         trial_started         NaN   \n",
       "2        3  2024-05-24T00:00:00        1       trial_cancelled         NaN   \n",
       "3        4  2024-10-12T00:00:00        2           app_install         NaN   \n",
       "4        5  2024-10-13T00:00:00        2         trial_started         NaN   \n",
       "...    ...                  ...      ...                   ...         ...   \n",
       "3481  3482  2025-02-25T00:00:00     1000       trial_cancelled         NaN   \n",
       "3482  3483  2025-02-25T00:00:00     1001           app_install         NaN   \n",
       "3483  3484  2025-02-25T00:00:00     1001         trial_started         NaN   \n",
       "3484  3485  2025-02-25T00:00:00     1001  subscription_started        9.99   \n",
       "3485  3486  2025-02-25T00:00:00     1002           app_install         NaN   \n",
       "\n",
       "      id_y attribution_source  \n",
       "0        1          instagram  \n",
       "1        1          instagram  \n",
       "2        1          instagram  \n",
       "3        2          instagram  \n",
       "4        2          instagram  \n",
       "...    ...                ...  \n",
       "3481  1000            organic  \n",
       "3482  1001          instagram  \n",
       "3483  1001          instagram  \n",
       "3484  1001          instagram  \n",
       "3485  1002            organic  \n",
       "\n",
       "[3486 rows x 7 columns]"
      ]
     },
     "execution_count": 631,
     "metadata": {},
     "output_type": "execute_result"
    }
   ],
   "source": [
    "#Öncelikle attr_src ile eventleri birleştirelim.\n",
    "\n",
    "events_with_source = events_df.merge(\n",
    "    users_df[['id', 'attribution_source']], \n",
    "    left_on='user_id', \n",
    "    right_on='id'\n",
    ")\n",
    "\n",
    "events_with_source\n",
    "#Her şey yerli yerinde gözüküyor"
   ]
  },
  {
   "cell_type": "code",
   "execution_count": 632,
   "metadata": {},
   "outputs": [
    {
     "data": {
      "text/html": [
       "<div>\n",
       "<style scoped>\n",
       "    .dataframe tbody tr th:only-of-type {\n",
       "        vertical-align: middle;\n",
       "    }\n",
       "\n",
       "    .dataframe tbody tr th {\n",
       "        vertical-align: top;\n",
       "    }\n",
       "\n",
       "    .dataframe thead th {\n",
       "        text-align: right;\n",
       "    }\n",
       "</style>\n",
       "<table border=\"1\" class=\"dataframe\">\n",
       "  <thead>\n",
       "    <tr style=\"text-align: right;\">\n",
       "      <th></th>\n",
       "      <th>trials</th>\n",
       "      <th>subscriptions</th>\n",
       "    </tr>\n",
       "    <tr>\n",
       "      <th>attribution_source</th>\n",
       "      <th></th>\n",
       "      <th></th>\n",
       "    </tr>\n",
       "  </thead>\n",
       "  <tbody>\n",
       "    <tr>\n",
       "      <th>instagram</th>\n",
       "      <td>210</td>\n",
       "      <td>149</td>\n",
       "    </tr>\n",
       "    <tr>\n",
       "      <th>organic</th>\n",
       "      <td>236</td>\n",
       "      <td>169</td>\n",
       "    </tr>\n",
       "    <tr>\n",
       "      <th>tiktok</th>\n",
       "      <td>236</td>\n",
       "      <td>163</td>\n",
       "    </tr>\n",
       "  </tbody>\n",
       "</table>\n",
       "</div>"
      ],
      "text/plain": [
       "                    trials  subscriptions\n",
       "attribution_source                       \n",
       "instagram              210            149\n",
       "organic                236            169\n",
       "tiktok                 236            163"
      ]
     },
     "execution_count": 632,
     "metadata": {},
     "output_type": "execute_result"
    }
   ],
   "source": [
    "# Conversion rate hesaplaması için trail ve subs'ları attr_src bazlı sayılarını alalım\n",
    "conversion_df = pd.DataFrame({\n",
    "    'trials': events_with_source[events_with_source['event_name'] == 'trial_started']\n",
    "                .groupby('attribution_source')\n",
    "                .size(),\n",
    "    'subscriptions': events_with_source[events_with_source['event_name'] == 'subscription_started']\n",
    "                .groupby('attribution_source')\n",
    "                .size()\n",
    "})\n",
    "\n",
    "'''\n",
    "'trials' isminde column'a trial sayılarını,\n",
    "'subscriptions' isminde bir column'a subs sayılarını atadık\n",
    "'''\n",
    "\n",
    "\n",
    "\n",
    "conversion_df"
   ]
  },
  {
   "cell_type": "code",
   "execution_count": 633,
   "metadata": {},
   "outputs": [],
   "source": [
    "#Conversion rate'i bulmak için istediğimiz verilere sahibiz, o zaman hesaplayalım\n",
    "conversion_df['conversion_rate'] = round((conversion_df['subscriptions'] / conversion_df['trials'] * 100), 2)\n",
    "\n",
    "conversion_df['conversion_rate'] = conversion_df['conversion_rate'].astype(str) + '%' # Yüzdelik bir değer hesapladığımız için sonuna % ekleyelim"
   ]
  },
  {
   "cell_type": "markdown",
   "metadata": {},
   "source": [
    "##### Task 4-2 - A:"
   ]
  },
  {
   "cell_type": "code",
   "execution_count": 634,
   "metadata": {},
   "outputs": [
    {
     "data": {
      "text/html": [
       "<div>\n",
       "<style scoped>\n",
       "    .dataframe tbody tr th:only-of-type {\n",
       "        vertical-align: middle;\n",
       "    }\n",
       "\n",
       "    .dataframe tbody tr th {\n",
       "        vertical-align: top;\n",
       "    }\n",
       "\n",
       "    .dataframe thead th {\n",
       "        text-align: right;\n",
       "    }\n",
       "</style>\n",
       "<table border=\"1\" class=\"dataframe\">\n",
       "  <thead>\n",
       "    <tr style=\"text-align: right;\">\n",
       "      <th></th>\n",
       "      <th>trials</th>\n",
       "      <th>subscriptions</th>\n",
       "      <th>conversion_rate</th>\n",
       "    </tr>\n",
       "    <tr>\n",
       "      <th>attribution_source</th>\n",
       "      <th></th>\n",
       "      <th></th>\n",
       "      <th></th>\n",
       "    </tr>\n",
       "  </thead>\n",
       "  <tbody>\n",
       "    <tr>\n",
       "      <th>instagram</th>\n",
       "      <td>210</td>\n",
       "      <td>149</td>\n",
       "      <td>70.95%</td>\n",
       "    </tr>\n",
       "    <tr>\n",
       "      <th>organic</th>\n",
       "      <td>236</td>\n",
       "      <td>169</td>\n",
       "      <td>71.61%</td>\n",
       "    </tr>\n",
       "    <tr>\n",
       "      <th>tiktok</th>\n",
       "      <td>236</td>\n",
       "      <td>163</td>\n",
       "      <td>69.07%</td>\n",
       "    </tr>\n",
       "  </tbody>\n",
       "</table>\n",
       "</div>"
      ],
      "text/plain": [
       "                    trials  subscriptions conversion_rate\n",
       "attribution_source                                       \n",
       "instagram              210            149          70.95%\n",
       "organic                236            169          71.61%\n",
       "tiktok                 236            163          69.07%"
      ]
     },
     "execution_count": 634,
     "metadata": {},
     "output_type": "execute_result"
    }
   ],
   "source": [
    "conversion_df"
   ]
  },
  {
   "cell_type": "markdown",
   "metadata": {},
   "source": [
    "#### Task 4-Opsionel"
   ]
  },
  {
   "cell_type": "markdown",
   "metadata": {},
   "source": [
    "Bu opsionel kısımda attr_src'ların overall'un yüzde kaçı olduğunu gösteren ufak bir hesap yapacağız"
   ]
  },
  {
   "cell_type": "code",
   "execution_count": 635,
   "metadata": {},
   "outputs": [
    {
     "data": {
      "text/html": [
       "<div>\n",
       "<style scoped>\n",
       "    .dataframe tbody tr th:only-of-type {\n",
       "        vertical-align: middle;\n",
       "    }\n",
       "\n",
       "    .dataframe tbody tr th {\n",
       "        vertical-align: top;\n",
       "    }\n",
       "\n",
       "    .dataframe thead th {\n",
       "        text-align: right;\n",
       "    }\n",
       "</style>\n",
       "<table border=\"1\" class=\"dataframe\">\n",
       "  <thead>\n",
       "    <tr style=\"text-align: right;\">\n",
       "      <th></th>\n",
       "      <th>subscriptions</th>\n",
       "    </tr>\n",
       "    <tr>\n",
       "      <th>attribution_source</th>\n",
       "      <th></th>\n",
       "    </tr>\n",
       "  </thead>\n",
       "  <tbody>\n",
       "    <tr>\n",
       "      <th>instagram</th>\n",
       "      <td>149</td>\n",
       "    </tr>\n",
       "    <tr>\n",
       "      <th>organic</th>\n",
       "      <td>169</td>\n",
       "    </tr>\n",
       "    <tr>\n",
       "      <th>tiktok</th>\n",
       "      <td>163</td>\n",
       "    </tr>\n",
       "  </tbody>\n",
       "</table>\n",
       "</div>"
      ],
      "text/plain": [
       "                    subscriptions\n",
       "attribution_source               \n",
       "instagram                     149\n",
       "organic                       169\n",
       "tiktok                        163"
      ]
     },
     "execution_count": 635,
     "metadata": {},
     "output_type": "execute_result"
    }
   ],
   "source": [
    "#Öncelikle kaç adet sub nereden geliyor onu bulalım, çoktan bulduk ama bu sefer amacımız farklı olduğu için tekrardan yapacağız.\n",
    "subs_df = pd.DataFrame({\n",
    "    'subscriptions' :events_with_source[events_with_source['event_name'] == 'subscription_started']\n",
    "                        .groupby('attribution_source')\n",
    "                        .size()})\n",
    "\n",
    "subs_df"
   ]
  },
  {
   "cell_type": "code",
   "execution_count": 636,
   "metadata": {},
   "outputs": [
    {
     "data": {
      "text/plain": [
       "subscriptions    481\n",
       "dtype: int64"
      ]
     },
     "execution_count": 636,
     "metadata": {},
     "output_type": "execute_result"
    }
   ],
   "source": [
    "#Toplam subs sayısını bulalım\n",
    "total_subs = subs_df.sum()\n",
    "total_subs"
   ]
  },
  {
   "cell_type": "code",
   "execution_count": 637,
   "metadata": {},
   "outputs": [
    {
     "data": {
      "text/plain": [
       "attribution_source\n",
       "instagram    30.98%\n",
       "organic      35.14%\n",
       "tiktok       33.89%\n",
       "Name: subscriptions, dtype: object"
      ]
     },
     "execution_count": 637,
     "metadata": {},
     "output_type": "execute_result"
    }
   ],
   "source": [
    "# Şimdi toplam subs sayısını oranlayıp toplam subs'a göre yüzde kaç olduklarını bulalım.\n",
    "subscription_percentage = round((subs_df / total_subs * 100), 2)\n",
    "subscription_percentage = subscription_percentage['subscriptions'].astype(str) + '%' #İşlemlerin sonuna %'lik işareti koyalım\n",
    "\n",
    "subscription_percentage\n",
    "\n"
   ]
  },
  {
   "cell_type": "code",
   "execution_count": 638,
   "metadata": {},
   "outputs": [],
   "source": [
    "#Hala bir series halinde tutuyoruz bunu frame haline çevirelim\n",
    "subscription_percentage_df = pd.DataFrame(subscription_percentage) # Frame haline getirdik\n",
    "\n",
    "subscription_percentage_df = subscription_percentage_df.rename(columns={'subscriptions':'percentage'}) # Column adını yüzdelik bir değer bulduğumuz için percentage olarak değiştirelim."
   ]
  },
  {
   "cell_type": "markdown",
   "metadata": {},
   "source": [
    "##### Task 4-Opsionel - A:"
   ]
  },
  {
   "cell_type": "code",
   "execution_count": 639,
   "metadata": {},
   "outputs": [
    {
     "data": {
      "text/html": [
       "<div>\n",
       "<style scoped>\n",
       "    .dataframe tbody tr th:only-of-type {\n",
       "        vertical-align: middle;\n",
       "    }\n",
       "\n",
       "    .dataframe tbody tr th {\n",
       "        vertical-align: top;\n",
       "    }\n",
       "\n",
       "    .dataframe thead th {\n",
       "        text-align: right;\n",
       "    }\n",
       "</style>\n",
       "<table border=\"1\" class=\"dataframe\">\n",
       "  <thead>\n",
       "    <tr style=\"text-align: right;\">\n",
       "      <th></th>\n",
       "      <th>percentage</th>\n",
       "    </tr>\n",
       "    <tr>\n",
       "      <th>attribution_source</th>\n",
       "      <th></th>\n",
       "    </tr>\n",
       "  </thead>\n",
       "  <tbody>\n",
       "    <tr>\n",
       "      <th>instagram</th>\n",
       "      <td>30.98%</td>\n",
       "    </tr>\n",
       "    <tr>\n",
       "      <th>organic</th>\n",
       "      <td>35.14%</td>\n",
       "    </tr>\n",
       "    <tr>\n",
       "      <th>tiktok</th>\n",
       "      <td>33.89%</td>\n",
       "    </tr>\n",
       "  </tbody>\n",
       "</table>\n",
       "</div>"
      ],
      "text/plain": [
       "                   percentage\n",
       "attribution_source           \n",
       "instagram              30.98%\n",
       "organic                35.14%\n",
       "tiktok                 33.89%"
      ]
     },
     "execution_count": 639,
     "metadata": {},
     "output_type": "execute_result"
    }
   ],
   "source": [
    "subscription_percentage_df #Total value round to %100.01 because of rounding error but it's not a significant error so lets continue with other task."
   ]
  },
  {
   "cell_type": "markdown",
   "metadata": {},
   "source": [
    "### Task 5\n",
    "\n",
    "Calculate the median subscription duration (in months) for each country"
   ]
  },
  {
   "cell_type": "code",
   "execution_count": 640,
   "metadata": {},
   "outputs": [
    {
     "data": {
      "text/html": [
       "<div>\n",
       "<style scoped>\n",
       "    .dataframe tbody tr th:only-of-type {\n",
       "        vertical-align: middle;\n",
       "    }\n",
       "\n",
       "    .dataframe tbody tr th {\n",
       "        vertical-align: top;\n",
       "    }\n",
       "\n",
       "    .dataframe thead th {\n",
       "        text-align: right;\n",
       "    }\n",
       "</style>\n",
       "<table border=\"1\" class=\"dataframe\">\n",
       "  <thead>\n",
       "    <tr style=\"text-align: right;\">\n",
       "      <th></th>\n",
       "      <th>id_x</th>\n",
       "      <th>created_at</th>\n",
       "      <th>user_id</th>\n",
       "      <th>event_name</th>\n",
       "      <th>amount_usd</th>\n",
       "      <th>id_y</th>\n",
       "      <th>country</th>\n",
       "    </tr>\n",
       "  </thead>\n",
       "  <tbody>\n",
       "    <tr>\n",
       "      <th>0</th>\n",
       "      <td>6</td>\n",
       "      <td>2024-10-20T00:00:00</td>\n",
       "      <td>2</td>\n",
       "      <td>subscription_started</td>\n",
       "      <td>8.99</td>\n",
       "      <td>2</td>\n",
       "      <td>NL</td>\n",
       "    </tr>\n",
       "    <tr>\n",
       "      <th>1</th>\n",
       "      <td>7</td>\n",
       "      <td>2024-11-19T00:00:00</td>\n",
       "      <td>2</td>\n",
       "      <td>subscription_renewed</td>\n",
       "      <td>8.99</td>\n",
       "      <td>2</td>\n",
       "      <td>NL</td>\n",
       "    </tr>\n",
       "    <tr>\n",
       "      <th>2</th>\n",
       "      <td>8</td>\n",
       "      <td>2024-12-19T00:00:00</td>\n",
       "      <td>2</td>\n",
       "      <td>subscription_renewed</td>\n",
       "      <td>8.99</td>\n",
       "      <td>2</td>\n",
       "      <td>NL</td>\n",
       "    </tr>\n",
       "    <tr>\n",
       "      <th>3</th>\n",
       "      <td>9</td>\n",
       "      <td>2025-01-18T00:00:00</td>\n",
       "      <td>2</td>\n",
       "      <td>subscription_renewed</td>\n",
       "      <td>8.99</td>\n",
       "      <td>2</td>\n",
       "      <td>NL</td>\n",
       "    </tr>\n",
       "    <tr>\n",
       "      <th>4</th>\n",
       "      <td>13</td>\n",
       "      <td>2024-10-21T00:00:00</td>\n",
       "      <td>3</td>\n",
       "      <td>subscription_started</td>\n",
       "      <td>4.99</td>\n",
       "      <td>3</td>\n",
       "      <td>TR</td>\n",
       "    </tr>\n",
       "    <tr>\n",
       "      <th>...</th>\n",
       "      <td>...</td>\n",
       "      <td>...</td>\n",
       "      <td>...</td>\n",
       "      <td>...</td>\n",
       "      <td>...</td>\n",
       "      <td>...</td>\n",
       "      <td>...</td>\n",
       "    </tr>\n",
       "    <tr>\n",
       "      <th>1226</th>\n",
       "      <td>3468</td>\n",
       "      <td>2025-04-07T00:00:00</td>\n",
       "      <td>996</td>\n",
       "      <td>subscription_renewed</td>\n",
       "      <td>4.99</td>\n",
       "      <td>996</td>\n",
       "      <td>TR</td>\n",
       "    </tr>\n",
       "    <tr>\n",
       "      <th>1227</th>\n",
       "      <td>3476</td>\n",
       "      <td>2025-01-03T00:00:00</td>\n",
       "      <td>999</td>\n",
       "      <td>subscription_started</td>\n",
       "      <td>8.99</td>\n",
       "      <td>999</td>\n",
       "      <td>NL</td>\n",
       "    </tr>\n",
       "    <tr>\n",
       "      <th>1228</th>\n",
       "      <td>3477</td>\n",
       "      <td>2025-02-02T00:00:00</td>\n",
       "      <td>999</td>\n",
       "      <td>subscription_renewed</td>\n",
       "      <td>8.99</td>\n",
       "      <td>999</td>\n",
       "      <td>NL</td>\n",
       "    </tr>\n",
       "    <tr>\n",
       "      <th>1229</th>\n",
       "      <td>3478</td>\n",
       "      <td>2025-03-04T00:00:00</td>\n",
       "      <td>999</td>\n",
       "      <td>subscription_renewed</td>\n",
       "      <td>8.99</td>\n",
       "      <td>999</td>\n",
       "      <td>NL</td>\n",
       "    </tr>\n",
       "    <tr>\n",
       "      <th>1230</th>\n",
       "      <td>3485</td>\n",
       "      <td>2025-02-25T00:00:00</td>\n",
       "      <td>1001</td>\n",
       "      <td>subscription_started</td>\n",
       "      <td>9.99</td>\n",
       "      <td>1001</td>\n",
       "      <td>US</td>\n",
       "    </tr>\n",
       "  </tbody>\n",
       "</table>\n",
       "<p>1231 rows × 7 columns</p>\n",
       "</div>"
      ],
      "text/plain": [
       "      id_x           created_at  user_id            event_name  amount_usd  \\\n",
       "0        6  2024-10-20T00:00:00        2  subscription_started        8.99   \n",
       "1        7  2024-11-19T00:00:00        2  subscription_renewed        8.99   \n",
       "2        8  2024-12-19T00:00:00        2  subscription_renewed        8.99   \n",
       "3        9  2025-01-18T00:00:00        2  subscription_renewed        8.99   \n",
       "4       13  2024-10-21T00:00:00        3  subscription_started        4.99   \n",
       "...    ...                  ...      ...                   ...         ...   \n",
       "1226  3468  2025-04-07T00:00:00      996  subscription_renewed        4.99   \n",
       "1227  3476  2025-01-03T00:00:00      999  subscription_started        8.99   \n",
       "1228  3477  2025-02-02T00:00:00      999  subscription_renewed        8.99   \n",
       "1229  3478  2025-03-04T00:00:00      999  subscription_renewed        8.99   \n",
       "1230  3485  2025-02-25T00:00:00     1001  subscription_started        9.99   \n",
       "\n",
       "      id_y country  \n",
       "0        2      NL  \n",
       "1        2      NL  \n",
       "2        2      NL  \n",
       "3        2      NL  \n",
       "4        3      TR  \n",
       "...    ...     ...  \n",
       "1226   996      TR  \n",
       "1227   999      NL  \n",
       "1228   999      NL  \n",
       "1229   999      NL  \n",
       "1230  1001      US  \n",
       "\n",
       "[1231 rows x 7 columns]"
      ]
     },
     "execution_count": 640,
     "metadata": {},
     "output_type": "execute_result"
    }
   ],
   "source": [
    "#First of all merge subs realted columns with user_df to make a whole table.\n",
    "subscription_events = events_df[\n",
    "    events_df['event_name'].isin(['subscription_started', 'subscription_renewed'])\n",
    "].merge(\n",
    "    users_df[['id', 'country']], \n",
    "    left_on='user_id', \n",
    "    right_on='id'\n",
    ")\n",
    "\n",
    "subscription_events"
   ]
  },
  {
   "cell_type": "code",
   "execution_count": 641,
   "metadata": {},
   "outputs": [
    {
     "data": {
      "text/html": [
       "<div>\n",
       "<style scoped>\n",
       "    .dataframe tbody tr th:only-of-type {\n",
       "        vertical-align: middle;\n",
       "    }\n",
       "\n",
       "    .dataframe tbody tr th {\n",
       "        vertical-align: top;\n",
       "    }\n",
       "\n",
       "    .dataframe thead th {\n",
       "        text-align: right;\n",
       "    }\n",
       "</style>\n",
       "<table border=\"1\" class=\"dataframe\">\n",
       "  <thead>\n",
       "    <tr style=\"text-align: right;\">\n",
       "      <th></th>\n",
       "      <th>user_id</th>\n",
       "      <th>country</th>\n",
       "      <th>months</th>\n",
       "    </tr>\n",
       "  </thead>\n",
       "  <tbody>\n",
       "    <tr>\n",
       "      <th>0</th>\n",
       "      <td>2</td>\n",
       "      <td>NL</td>\n",
       "      <td>4</td>\n",
       "    </tr>\n",
       "    <tr>\n",
       "      <th>1</th>\n",
       "      <td>3</td>\n",
       "      <td>TR</td>\n",
       "      <td>4</td>\n",
       "    </tr>\n",
       "    <tr>\n",
       "      <th>2</th>\n",
       "      <td>8</td>\n",
       "      <td>TR</td>\n",
       "      <td>2</td>\n",
       "    </tr>\n",
       "    <tr>\n",
       "      <th>3</th>\n",
       "      <td>9</td>\n",
       "      <td>US</td>\n",
       "      <td>2</td>\n",
       "    </tr>\n",
       "    <tr>\n",
       "      <th>4</th>\n",
       "      <td>10</td>\n",
       "      <td>US</td>\n",
       "      <td>2</td>\n",
       "    </tr>\n",
       "    <tr>\n",
       "      <th>...</th>\n",
       "      <td>...</td>\n",
       "      <td>...</td>\n",
       "      <td>...</td>\n",
       "    </tr>\n",
       "    <tr>\n",
       "      <th>476</th>\n",
       "      <td>992</td>\n",
       "      <td>US</td>\n",
       "      <td>5</td>\n",
       "    </tr>\n",
       "    <tr>\n",
       "      <th>477</th>\n",
       "      <td>995</td>\n",
       "      <td>US</td>\n",
       "      <td>3</td>\n",
       "    </tr>\n",
       "    <tr>\n",
       "      <th>478</th>\n",
       "      <td>996</td>\n",
       "      <td>TR</td>\n",
       "      <td>3</td>\n",
       "    </tr>\n",
       "    <tr>\n",
       "      <th>479</th>\n",
       "      <td>999</td>\n",
       "      <td>NL</td>\n",
       "      <td>3</td>\n",
       "    </tr>\n",
       "    <tr>\n",
       "      <th>480</th>\n",
       "      <td>1001</td>\n",
       "      <td>US</td>\n",
       "      <td>1</td>\n",
       "    </tr>\n",
       "  </tbody>\n",
       "</table>\n",
       "<p>481 rows × 3 columns</p>\n",
       "</div>"
      ],
      "text/plain": [
       "     user_id country  months\n",
       "0          2      NL       4\n",
       "1          3      TR       4\n",
       "2          8      TR       2\n",
       "3          9      US       2\n",
       "4         10      US       2\n",
       "..       ...     ...     ...\n",
       "476      992      US       5\n",
       "477      995      US       3\n",
       "478      996      TR       3\n",
       "479      999      NL       3\n",
       "480     1001      US       1\n",
       "\n",
       "[481 rows x 3 columns]"
      ]
     },
     "execution_count": 641,
     "metadata": {},
     "output_type": "execute_result"
    }
   ],
   "source": [
    "# So we have enough info for calculating months per user so lets calculate it\n",
    "subscription_duration = (subscription_events\n",
    "    .groupby(['user_id', 'country'])\n",
    "    .size()  # events per user\n",
    "    .reset_index(name='months') # Lets change that columns name from 0 to months for better understanding\n",
    ")\n",
    "\n",
    "subscription_duration"
   ]
  },
  {
   "cell_type": "code",
   "execution_count": 642,
   "metadata": {},
   "outputs": [],
   "source": [
    "# Now we can group every country to get median of our duration for each country\n",
    "median_duration = subscription_duration.groupby('country')['months'].median()\n",
    "\n",
    "\n",
    "median_duration_df = pd.DataFrame(median_duration) #Lets change our answer from series to frame"
   ]
  },
  {
   "cell_type": "markdown",
   "metadata": {},
   "source": [
    "#### Task 5 - A:"
   ]
  },
  {
   "cell_type": "code",
   "execution_count": 643,
   "metadata": {},
   "outputs": [
    {
     "data": {
      "text/html": [
       "<div>\n",
       "<style scoped>\n",
       "    .dataframe tbody tr th:only-of-type {\n",
       "        vertical-align: middle;\n",
       "    }\n",
       "\n",
       "    .dataframe tbody tr th {\n",
       "        vertical-align: top;\n",
       "    }\n",
       "\n",
       "    .dataframe thead th {\n",
       "        text-align: right;\n",
       "    }\n",
       "</style>\n",
       "<table border=\"1\" class=\"dataframe\">\n",
       "  <thead>\n",
       "    <tr style=\"text-align: right;\">\n",
       "      <th></th>\n",
       "      <th>months</th>\n",
       "    </tr>\n",
       "    <tr>\n",
       "      <th>country</th>\n",
       "      <th></th>\n",
       "    </tr>\n",
       "  </thead>\n",
       "  <tbody>\n",
       "    <tr>\n",
       "      <th>NL</th>\n",
       "      <td>2.0</td>\n",
       "    </tr>\n",
       "    <tr>\n",
       "      <th>TR</th>\n",
       "      <td>3.0</td>\n",
       "    </tr>\n",
       "    <tr>\n",
       "      <th>US</th>\n",
       "      <td>2.0</td>\n",
       "    </tr>\n",
       "  </tbody>\n",
       "</table>\n",
       "</div>"
      ],
      "text/plain": [
       "         months\n",
       "country        \n",
       "NL          2.0\n",
       "TR          3.0\n",
       "US          2.0"
      ]
     },
     "execution_count": 643,
     "metadata": {},
     "output_type": "execute_result"
    }
   ],
   "source": [
    "median_duration_df"
   ]
  },
  {
   "cell_type": "markdown",
   "metadata": {},
   "source": [
    "### Task 6\n",
    "Calculate the Average Lifetime Value (LTV) by country"
   ]
  },
  {
   "cell_type": "code",
   "execution_count": 644,
   "metadata": {},
   "outputs": [
    {
     "data": {
      "text/html": [
       "<div>\n",
       "<style scoped>\n",
       "    .dataframe tbody tr th:only-of-type {\n",
       "        vertical-align: middle;\n",
       "    }\n",
       "\n",
       "    .dataframe tbody tr th {\n",
       "        vertical-align: top;\n",
       "    }\n",
       "\n",
       "    .dataframe thead th {\n",
       "        text-align: right;\n",
       "    }\n",
       "</style>\n",
       "<table border=\"1\" class=\"dataframe\">\n",
       "  <thead>\n",
       "    <tr style=\"text-align: right;\">\n",
       "      <th></th>\n",
       "      <th>id_x</th>\n",
       "      <th>created_at</th>\n",
       "      <th>user_id</th>\n",
       "      <th>event_name</th>\n",
       "      <th>amount_usd</th>\n",
       "      <th>id_y</th>\n",
       "      <th>country</th>\n",
       "    </tr>\n",
       "  </thead>\n",
       "  <tbody>\n",
       "    <tr>\n",
       "      <th>0</th>\n",
       "      <td>6</td>\n",
       "      <td>2024-10-20T00:00:00</td>\n",
       "      <td>2</td>\n",
       "      <td>subscription_started</td>\n",
       "      <td>8.99</td>\n",
       "      <td>2</td>\n",
       "      <td>NL</td>\n",
       "    </tr>\n",
       "    <tr>\n",
       "      <th>1</th>\n",
       "      <td>7</td>\n",
       "      <td>2024-11-19T00:00:00</td>\n",
       "      <td>2</td>\n",
       "      <td>subscription_renewed</td>\n",
       "      <td>8.99</td>\n",
       "      <td>2</td>\n",
       "      <td>NL</td>\n",
       "    </tr>\n",
       "    <tr>\n",
       "      <th>2</th>\n",
       "      <td>8</td>\n",
       "      <td>2024-12-19T00:00:00</td>\n",
       "      <td>2</td>\n",
       "      <td>subscription_renewed</td>\n",
       "      <td>8.99</td>\n",
       "      <td>2</td>\n",
       "      <td>NL</td>\n",
       "    </tr>\n",
       "    <tr>\n",
       "      <th>3</th>\n",
       "      <td>9</td>\n",
       "      <td>2025-01-18T00:00:00</td>\n",
       "      <td>2</td>\n",
       "      <td>subscription_renewed</td>\n",
       "      <td>8.99</td>\n",
       "      <td>2</td>\n",
       "      <td>NL</td>\n",
       "    </tr>\n",
       "    <tr>\n",
       "      <th>4</th>\n",
       "      <td>13</td>\n",
       "      <td>2024-10-21T00:00:00</td>\n",
       "      <td>3</td>\n",
       "      <td>subscription_started</td>\n",
       "      <td>4.99</td>\n",
       "      <td>3</td>\n",
       "      <td>TR</td>\n",
       "    </tr>\n",
       "  </tbody>\n",
       "</table>\n",
       "</div>"
      ],
      "text/plain": [
       "   id_x           created_at  user_id            event_name  amount_usd  id_y  \\\n",
       "0     6  2024-10-20T00:00:00        2  subscription_started        8.99     2   \n",
       "1     7  2024-11-19T00:00:00        2  subscription_renewed        8.99     2   \n",
       "2     8  2024-12-19T00:00:00        2  subscription_renewed        8.99     2   \n",
       "3     9  2025-01-18T00:00:00        2  subscription_renewed        8.99     2   \n",
       "4    13  2024-10-21T00:00:00        3  subscription_started        4.99     3   \n",
       "\n",
       "  country  \n",
       "0      NL  \n",
       "1      NL  \n",
       "2      NL  \n",
       "3      NL  \n",
       "4      TR  "
      ]
     },
     "execution_count": 644,
     "metadata": {},
     "output_type": "execute_result"
    }
   ],
   "source": [
    "#Lets merge subs related columns with user_df to get big picture\n",
    "\n",
    "subscription_revenue = events_df[\n",
    "    events_df['event_name'].isin(['subscription_started', 'subscription_renewed'])\n",
    "].merge(\n",
    "    users_df[['id', 'country']], \n",
    "    left_on='user_id', \n",
    "    right_on='id'\n",
    ")\n",
    "\n",
    "subscription_revenue.head()"
   ]
  },
  {
   "cell_type": "code",
   "execution_count": 645,
   "metadata": {},
   "outputs": [
    {
     "data": {
      "text/html": [
       "<div>\n",
       "<style scoped>\n",
       "    .dataframe tbody tr th:only-of-type {\n",
       "        vertical-align: middle;\n",
       "    }\n",
       "\n",
       "    .dataframe tbody tr th {\n",
       "        vertical-align: top;\n",
       "    }\n",
       "\n",
       "    .dataframe thead th {\n",
       "        text-align: right;\n",
       "    }\n",
       "</style>\n",
       "<table border=\"1\" class=\"dataframe\">\n",
       "  <thead>\n",
       "    <tr style=\"text-align: right;\">\n",
       "      <th></th>\n",
       "      <th>user_id</th>\n",
       "      <th>country</th>\n",
       "      <th>amount_usd</th>\n",
       "    </tr>\n",
       "  </thead>\n",
       "  <tbody>\n",
       "    <tr>\n",
       "      <th>0</th>\n",
       "      <td>2</td>\n",
       "      <td>NL</td>\n",
       "      <td>35.96</td>\n",
       "    </tr>\n",
       "    <tr>\n",
       "      <th>1</th>\n",
       "      <td>3</td>\n",
       "      <td>TR</td>\n",
       "      <td>19.96</td>\n",
       "    </tr>\n",
       "    <tr>\n",
       "      <th>2</th>\n",
       "      <td>8</td>\n",
       "      <td>TR</td>\n",
       "      <td>9.98</td>\n",
       "    </tr>\n",
       "    <tr>\n",
       "      <th>3</th>\n",
       "      <td>9</td>\n",
       "      <td>US</td>\n",
       "      <td>19.98</td>\n",
       "    </tr>\n",
       "    <tr>\n",
       "      <th>4</th>\n",
       "      <td>10</td>\n",
       "      <td>US</td>\n",
       "      <td>19.98</td>\n",
       "    </tr>\n",
       "  </tbody>\n",
       "</table>\n",
       "</div>"
      ],
      "text/plain": [
       "   user_id country  amount_usd\n",
       "0        2      NL       35.96\n",
       "1        3      TR       19.96\n",
       "2        8      TR        9.98\n",
       "3        9      US       19.98\n",
       "4       10      US       19.98"
      ]
     },
     "execution_count": 645,
     "metadata": {},
     "output_type": "execute_result"
    }
   ],
   "source": [
    "# Calculating every users ltv\n",
    "\n",
    "user_ltv = (subscription_revenue\n",
    "    .groupby(['user_id', 'country'])['amount_usd']\n",
    "    .sum()\n",
    "    .reset_index()\n",
    ")\n",
    "\n",
    "user_ltv.head()"
   ]
  },
  {
   "cell_type": "code",
   "execution_count": 646,
   "metadata": {},
   "outputs": [],
   "source": [
    "# Now we have everything we need so calculate country based average revenue\n",
    "\n",
    "avg_ltv_by_country = pd.DataFrame(user_ltv\n",
    "    .groupby('country')['amount_usd']\n",
    "    .mean()\n",
    "    .round(2)\n",
    ")\n",
    "\n",
    "avg_ltv_by_country['amount_usd'] = '$'+avg_ltv_by_country['amount_usd'].astype(str)\n",
    "avg_ltv_by_country = avg_ltv_by_country.rename(columns={'amount_usd':'average_revenue'})\n"
   ]
  },
  {
   "cell_type": "markdown",
   "metadata": {},
   "source": [
    "#### Task 6 - A:"
   ]
  },
  {
   "cell_type": "code",
   "execution_count": 647,
   "metadata": {},
   "outputs": [
    {
     "data": {
      "text/html": [
       "<div>\n",
       "<style scoped>\n",
       "    .dataframe tbody tr th:only-of-type {\n",
       "        vertical-align: middle;\n",
       "    }\n",
       "\n",
       "    .dataframe tbody tr th {\n",
       "        vertical-align: top;\n",
       "    }\n",
       "\n",
       "    .dataframe thead th {\n",
       "        text-align: right;\n",
       "    }\n",
       "</style>\n",
       "<table border=\"1\" class=\"dataframe\">\n",
       "  <thead>\n",
       "    <tr style=\"text-align: right;\">\n",
       "      <th></th>\n",
       "      <th>average_revenue</th>\n",
       "    </tr>\n",
       "    <tr>\n",
       "      <th>country</th>\n",
       "      <th></th>\n",
       "    </tr>\n",
       "  </thead>\n",
       "  <tbody>\n",
       "    <tr>\n",
       "      <th>NL</th>\n",
       "      <td>$22.38</td>\n",
       "    </tr>\n",
       "    <tr>\n",
       "      <th>TR</th>\n",
       "      <td>$13.31</td>\n",
       "    </tr>\n",
       "    <tr>\n",
       "      <th>US</th>\n",
       "      <td>$25.07</td>\n",
       "    </tr>\n",
       "  </tbody>\n",
       "</table>\n",
       "</div>"
      ],
      "text/plain": [
       "        average_revenue\n",
       "country                \n",
       "NL               $22.38\n",
       "TR               $13.31\n",
       "US               $25.07"
      ]
     },
     "execution_count": 647,
     "metadata": {},
     "output_type": "execute_result"
    }
   ],
   "source": [
    "avg_ltv_by_country\n"
   ]
  },
  {
   "cell_type": "markdown",
   "metadata": {},
   "source": [
    "### Task 7\n",
    "Predict the churn probability for user #1002 (Clark Kent)\n",
    "\n",
    "Use any relevant features from the dataset\n",
    "Explain your model selection and feature engineering process\n",
    "Provide confidence intervals if applicable"
   ]
  },
  {
   "cell_type": "code",
   "execution_count": 698,
   "metadata": {},
   "outputs": [],
   "source": [
    "#Importing libraries\n",
    "\n",
    "from sklearn.model_selection import train_test_split\n",
    "from sklearn.preprocessing import StandardScaler\n",
    "from sklearn.linear_model import LogisticRegression\n",
    "import numpy as np"
   ]
  },
  {
   "cell_type": "code",
   "execution_count": 699,
   "metadata": {},
   "outputs": [],
   "source": [
    "# Making amount_usd nulls to 0 for preventing error while modelling\n",
    "\n",
    "events_df['amount_usd'] = events_df['amount_usd'].fillna(0)"
   ]
  },
  {
   "cell_type": "code",
   "execution_count": 700,
   "metadata": {},
   "outputs": [],
   "source": [
    "# Creting new feature and onehot encoding categorical values\n",
    "\n",
    "def create_features(events_df, users_df):\n",
    "    user_features = []\n",
    "    \n",
    "    for user_id in users_df['id']:\n",
    "        user_events = events_df[events_df['user_id'] == user_id] #User's events table features\n",
    "        user_info = users_df[users_df['id'] == user_id].iloc[0] #User's users table features\n",
    "        \n",
    "        features = {\n",
    "            'user_id': user_id, #User_id for that user\n",
    "            'subscription_count': user_events[user_events['event_name'].isin(['subscription_started', 'subscription_renewed'])].shape[0], #How many times user subs\n",
    "            'total_revenue': user_events['amount_usd'].sum(), # How much payment done by user\n",
    "            'had_trial': any(user_events['event_name'] == 'trial_started'), # Is user had any trial\n",
    "            'trial_converted': any(user_events['event_name'] == 'trial_started') and  \n",
    "                             any(user_events['event_name'] == 'subscription_started'), #Checking if user had trial started and sub started \n",
    "            'is_organic': user_info['attribution_source'] == 'organic', # Is user attr_src organic\n",
    "            'is_instagram': user_info['attribution_source'] == 'instagram' ,# Is user attr_src instagram\n",
    "            'is_tiktok': user_info['attribution_source'] == 'tiktok', # Is user attr_src tiktok\n",
    "            'country_US': user_info['country'] == 'US', # Is user country US\n",
    "            'country_TR': user_info['country'] == 'TR', # Is user country TR\n",
    "            'country_NL': user_info['country'] == 'NL', # Is user country NL\n",
    "            'churned': any(user_events['event_name'] == 'subscription_cancelled') # If user has a subs_cancel that user is churned\n",
    "        }\n",
    "        user_features.append(features)\n",
    "    \n",
    "    return pd.DataFrame(user_features)"
   ]
  },
  {
   "cell_type": "code",
   "execution_count": 701,
   "metadata": {},
   "outputs": [],
   "source": [
    "features_df = create_features(events_df, users_df) # Making df with our function above"
   ]
  },
  {
   "cell_type": "code",
   "execution_count": 702,
   "metadata": {},
   "outputs": [
    {
     "data": {
      "text/html": [
       "<div>\n",
       "<style scoped>\n",
       "    .dataframe tbody tr th:only-of-type {\n",
       "        vertical-align: middle;\n",
       "    }\n",
       "\n",
       "    .dataframe tbody tr th {\n",
       "        vertical-align: top;\n",
       "    }\n",
       "\n",
       "    .dataframe thead th {\n",
       "        text-align: right;\n",
       "    }\n",
       "</style>\n",
       "<table border=\"1\" class=\"dataframe\">\n",
       "  <thead>\n",
       "    <tr style=\"text-align: right;\">\n",
       "      <th></th>\n",
       "      <th>user_id</th>\n",
       "      <th>subscription_count</th>\n",
       "      <th>total_revenue</th>\n",
       "      <th>had_trial</th>\n",
       "      <th>trial_converted</th>\n",
       "      <th>is_organic</th>\n",
       "      <th>is_instagram</th>\n",
       "      <th>is_tiktok</th>\n",
       "      <th>country_US</th>\n",
       "      <th>country_TR</th>\n",
       "      <th>country_NL</th>\n",
       "      <th>churned</th>\n",
       "    </tr>\n",
       "  </thead>\n",
       "  <tbody>\n",
       "    <tr>\n",
       "      <th>0</th>\n",
       "      <td>1</td>\n",
       "      <td>0</td>\n",
       "      <td>0.00</td>\n",
       "      <td>True</td>\n",
       "      <td>False</td>\n",
       "      <td>False</td>\n",
       "      <td>True</td>\n",
       "      <td>False</td>\n",
       "      <td>True</td>\n",
       "      <td>False</td>\n",
       "      <td>False</td>\n",
       "      <td>False</td>\n",
       "    </tr>\n",
       "    <tr>\n",
       "      <th>1</th>\n",
       "      <td>2</td>\n",
       "      <td>4</td>\n",
       "      <td>35.96</td>\n",
       "      <td>True</td>\n",
       "      <td>True</td>\n",
       "      <td>False</td>\n",
       "      <td>True</td>\n",
       "      <td>False</td>\n",
       "      <td>False</td>\n",
       "      <td>False</td>\n",
       "      <td>True</td>\n",
       "      <td>True</td>\n",
       "    </tr>\n",
       "    <tr>\n",
       "      <th>2</th>\n",
       "      <td>3</td>\n",
       "      <td>4</td>\n",
       "      <td>19.96</td>\n",
       "      <td>True</td>\n",
       "      <td>True</td>\n",
       "      <td>False</td>\n",
       "      <td>False</td>\n",
       "      <td>True</td>\n",
       "      <td>False</td>\n",
       "      <td>True</td>\n",
       "      <td>False</td>\n",
       "      <td>True</td>\n",
       "    </tr>\n",
       "    <tr>\n",
       "      <th>3</th>\n",
       "      <td>4</td>\n",
       "      <td>0</td>\n",
       "      <td>0.00</td>\n",
       "      <td>True</td>\n",
       "      <td>False</td>\n",
       "      <td>False</td>\n",
       "      <td>False</td>\n",
       "      <td>True</td>\n",
       "      <td>False</td>\n",
       "      <td>True</td>\n",
       "      <td>False</td>\n",
       "      <td>False</td>\n",
       "    </tr>\n",
       "    <tr>\n",
       "      <th>4</th>\n",
       "      <td>5</td>\n",
       "      <td>0</td>\n",
       "      <td>0.00</td>\n",
       "      <td>False</td>\n",
       "      <td>False</td>\n",
       "      <td>True</td>\n",
       "      <td>False</td>\n",
       "      <td>False</td>\n",
       "      <td>False</td>\n",
       "      <td>False</td>\n",
       "      <td>True</td>\n",
       "      <td>False</td>\n",
       "    </tr>\n",
       "    <tr>\n",
       "      <th>...</th>\n",
       "      <td>...</td>\n",
       "      <td>...</td>\n",
       "      <td>...</td>\n",
       "      <td>...</td>\n",
       "      <td>...</td>\n",
       "      <td>...</td>\n",
       "      <td>...</td>\n",
       "      <td>...</td>\n",
       "      <td>...</td>\n",
       "      <td>...</td>\n",
       "      <td>...</td>\n",
       "      <td>...</td>\n",
       "    </tr>\n",
       "    <tr>\n",
       "      <th>997</th>\n",
       "      <td>998</td>\n",
       "      <td>0</td>\n",
       "      <td>0.00</td>\n",
       "      <td>False</td>\n",
       "      <td>False</td>\n",
       "      <td>False</td>\n",
       "      <td>True</td>\n",
       "      <td>False</td>\n",
       "      <td>False</td>\n",
       "      <td>True</td>\n",
       "      <td>False</td>\n",
       "      <td>False</td>\n",
       "    </tr>\n",
       "    <tr>\n",
       "      <th>998</th>\n",
       "      <td>999</td>\n",
       "      <td>3</td>\n",
       "      <td>26.97</td>\n",
       "      <td>True</td>\n",
       "      <td>True</td>\n",
       "      <td>True</td>\n",
       "      <td>False</td>\n",
       "      <td>False</td>\n",
       "      <td>False</td>\n",
       "      <td>False</td>\n",
       "      <td>True</td>\n",
       "      <td>True</td>\n",
       "    </tr>\n",
       "    <tr>\n",
       "      <th>999</th>\n",
       "      <td>1000</td>\n",
       "      <td>0</td>\n",
       "      <td>0.00</td>\n",
       "      <td>True</td>\n",
       "      <td>False</td>\n",
       "      <td>True</td>\n",
       "      <td>False</td>\n",
       "      <td>False</td>\n",
       "      <td>False</td>\n",
       "      <td>False</td>\n",
       "      <td>True</td>\n",
       "      <td>False</td>\n",
       "    </tr>\n",
       "    <tr>\n",
       "      <th>1000</th>\n",
       "      <td>1001</td>\n",
       "      <td>1</td>\n",
       "      <td>9.99</td>\n",
       "      <td>True</td>\n",
       "      <td>True</td>\n",
       "      <td>False</td>\n",
       "      <td>True</td>\n",
       "      <td>False</td>\n",
       "      <td>True</td>\n",
       "      <td>False</td>\n",
       "      <td>False</td>\n",
       "      <td>False</td>\n",
       "    </tr>\n",
       "    <tr>\n",
       "      <th>1001</th>\n",
       "      <td>1002</td>\n",
       "      <td>0</td>\n",
       "      <td>0.00</td>\n",
       "      <td>False</td>\n",
       "      <td>False</td>\n",
       "      <td>True</td>\n",
       "      <td>False</td>\n",
       "      <td>False</td>\n",
       "      <td>False</td>\n",
       "      <td>True</td>\n",
       "      <td>False</td>\n",
       "      <td>False</td>\n",
       "    </tr>\n",
       "  </tbody>\n",
       "</table>\n",
       "<p>1002 rows × 12 columns</p>\n",
       "</div>"
      ],
      "text/plain": [
       "      user_id  subscription_count  total_revenue  had_trial  trial_converted  \\\n",
       "0           1                   0           0.00       True            False   \n",
       "1           2                   4          35.96       True             True   \n",
       "2           3                   4          19.96       True             True   \n",
       "3           4                   0           0.00       True            False   \n",
       "4           5                   0           0.00      False            False   \n",
       "...       ...                 ...            ...        ...              ...   \n",
       "997       998                   0           0.00      False            False   \n",
       "998       999                   3          26.97       True             True   \n",
       "999      1000                   0           0.00       True            False   \n",
       "1000     1001                   1           9.99       True             True   \n",
       "1001     1002                   0           0.00      False            False   \n",
       "\n",
       "      is_organic  is_instagram  is_tiktok  country_US  country_TR  country_NL  \\\n",
       "0          False          True      False        True       False       False   \n",
       "1          False          True      False       False       False        True   \n",
       "2          False         False       True       False        True       False   \n",
       "3          False         False       True       False        True       False   \n",
       "4           True         False      False       False       False        True   \n",
       "...          ...           ...        ...         ...         ...         ...   \n",
       "997        False          True      False       False        True       False   \n",
       "998         True         False      False       False       False        True   \n",
       "999         True         False      False       False       False        True   \n",
       "1000       False          True      False        True       False       False   \n",
       "1001        True         False      False       False        True       False   \n",
       "\n",
       "      churned  \n",
       "0       False  \n",
       "1        True  \n",
       "2        True  \n",
       "3       False  \n",
       "4       False  \n",
       "...       ...  \n",
       "997     False  \n",
       "998      True  \n",
       "999     False  \n",
       "1000    False  \n",
       "1001    False  \n",
       "\n",
       "[1002 rows x 12 columns]"
      ]
     },
     "execution_count": 702,
     "metadata": {},
     "output_type": "execute_result"
    }
   ],
   "source": [
    "features_df"
   ]
  },
  {
   "cell_type": "code",
   "execution_count": 703,
   "metadata": {},
   "outputs": [],
   "source": [
    "# Our prediction value is 'churned' so we split df for training \n",
    "X = features_df.drop(['user_id', 'churned'], axis=1) # User_id is irrelevant and our target is churned we drop those values\n",
    "y = features_df['churned'] # Our target value"
   ]
  },
  {
   "cell_type": "code",
   "execution_count": 704,
   "metadata": {},
   "outputs": [],
   "source": [
    "X_train, X_test, y_train, y_test = train_test_split(X, y, test_size=0.2, random_state=42) #Standart train test spliting"
   ]
  },
  {
   "cell_type": "code",
   "execution_count": 705,
   "metadata": {},
   "outputs": [],
   "source": [
    "# We scale our features make them scaled because some features like total_rev will have higher impact on our target becasue most of our features is 0,1(False,True)\n",
    "\n",
    "scaler = StandardScaler()\n",
    "X_train_scaled = scaler.fit_transform(X_train)\n",
    "X_test_scaled = scaler.transform(X_test)"
   ]
  },
  {
   "cell_type": "code",
   "execution_count": 706,
   "metadata": {},
   "outputs": [
    {
     "data": {
      "text/html": [
       "<style>#sk-container-id-5 {color: black;background-color: white;}#sk-container-id-5 pre{padding: 0;}#sk-container-id-5 div.sk-toggleable {background-color: white;}#sk-container-id-5 label.sk-toggleable__label {cursor: pointer;display: block;width: 100%;margin-bottom: 0;padding: 0.3em;box-sizing: border-box;text-align: center;}#sk-container-id-5 label.sk-toggleable__label-arrow:before {content: \"▸\";float: left;margin-right: 0.25em;color: #696969;}#sk-container-id-5 label.sk-toggleable__label-arrow:hover:before {color: black;}#sk-container-id-5 div.sk-estimator:hover label.sk-toggleable__label-arrow:before {color: black;}#sk-container-id-5 div.sk-toggleable__content {max-height: 0;max-width: 0;overflow: hidden;text-align: left;background-color: #f0f8ff;}#sk-container-id-5 div.sk-toggleable__content pre {margin: 0.2em;color: black;border-radius: 0.25em;background-color: #f0f8ff;}#sk-container-id-5 input.sk-toggleable__control:checked~div.sk-toggleable__content {max-height: 200px;max-width: 100%;overflow: auto;}#sk-container-id-5 input.sk-toggleable__control:checked~label.sk-toggleable__label-arrow:before {content: \"▾\";}#sk-container-id-5 div.sk-estimator input.sk-toggleable__control:checked~label.sk-toggleable__label {background-color: #d4ebff;}#sk-container-id-5 div.sk-label input.sk-toggleable__control:checked~label.sk-toggleable__label {background-color: #d4ebff;}#sk-container-id-5 input.sk-hidden--visually {border: 0;clip: rect(1px 1px 1px 1px);clip: rect(1px, 1px, 1px, 1px);height: 1px;margin: -1px;overflow: hidden;padding: 0;position: absolute;width: 1px;}#sk-container-id-5 div.sk-estimator {font-family: monospace;background-color: #f0f8ff;border: 1px dotted black;border-radius: 0.25em;box-sizing: border-box;margin-bottom: 0.5em;}#sk-container-id-5 div.sk-estimator:hover {background-color: #d4ebff;}#sk-container-id-5 div.sk-parallel-item::after {content: \"\";width: 100%;border-bottom: 1px solid gray;flex-grow: 1;}#sk-container-id-5 div.sk-label:hover label.sk-toggleable__label {background-color: #d4ebff;}#sk-container-id-5 div.sk-serial::before {content: \"\";position: absolute;border-left: 1px solid gray;box-sizing: border-box;top: 0;bottom: 0;left: 50%;z-index: 0;}#sk-container-id-5 div.sk-serial {display: flex;flex-direction: column;align-items: center;background-color: white;padding-right: 0.2em;padding-left: 0.2em;position: relative;}#sk-container-id-5 div.sk-item {position: relative;z-index: 1;}#sk-container-id-5 div.sk-parallel {display: flex;align-items: stretch;justify-content: center;background-color: white;position: relative;}#sk-container-id-5 div.sk-item::before, #sk-container-id-5 div.sk-parallel-item::before {content: \"\";position: absolute;border-left: 1px solid gray;box-sizing: border-box;top: 0;bottom: 0;left: 50%;z-index: -1;}#sk-container-id-5 div.sk-parallel-item {display: flex;flex-direction: column;z-index: 1;position: relative;background-color: white;}#sk-container-id-5 div.sk-parallel-item:first-child::after {align-self: flex-end;width: 50%;}#sk-container-id-5 div.sk-parallel-item:last-child::after {align-self: flex-start;width: 50%;}#sk-container-id-5 div.sk-parallel-item:only-child::after {width: 0;}#sk-container-id-5 div.sk-dashed-wrapped {border: 1px dashed gray;margin: 0 0.4em 0.5em 0.4em;box-sizing: border-box;padding-bottom: 0.4em;background-color: white;}#sk-container-id-5 div.sk-label label {font-family: monospace;font-weight: bold;display: inline-block;line-height: 1.2em;}#sk-container-id-5 div.sk-label-container {text-align: center;}#sk-container-id-5 div.sk-container {/* jupyter's `normalize.less` sets `[hidden] { display: none; }` but bootstrap.min.css set `[hidden] { display: none !important; }` so we also need the `!important` here to be able to override the default hidden behavior on the sphinx rendered scikit-learn.org. See: https://github.com/scikit-learn/scikit-learn/issues/21755 */display: inline-block !important;position: relative;}#sk-container-id-5 div.sk-text-repr-fallback {display: none;}</style><div id=\"sk-container-id-5\" class=\"sk-top-container\"><div class=\"sk-text-repr-fallback\"><pre>LogisticRegression(random_state=42)</pre><b>In a Jupyter environment, please rerun this cell to show the HTML representation or trust the notebook. <br />On GitHub, the HTML representation is unable to render, please try loading this page with nbviewer.org.</b></div><div class=\"sk-container\" hidden><div class=\"sk-item\"><div class=\"sk-estimator sk-toggleable\"><input class=\"sk-toggleable__control sk-hidden--visually\" id=\"sk-estimator-id-5\" type=\"checkbox\" checked><label for=\"sk-estimator-id-5\" class=\"sk-toggleable__label sk-toggleable__label-arrow\">LogisticRegression</label><div class=\"sk-toggleable__content\"><pre>LogisticRegression(random_state=42)</pre></div></div></div></div></div>"
      ],
      "text/plain": [
       "LogisticRegression(random_state=42)"
      ]
     },
     "execution_count": 706,
     "metadata": {},
     "output_type": "execute_result"
    }
   ],
   "source": [
    "'''\n",
    "I choosed LogisticRegression because our churned value is True or False a binary decision and \n",
    "I want to take a look at the feature importance for business strategies to determine in real life approach\n",
    "'''\n",
    "\n",
    "model = LogisticRegression(random_state=42) \n",
    "model.fit(X_train_scaled, y_train)\n",
    "\n"
   ]
  },
  {
   "cell_type": "code",
   "execution_count": 707,
   "metadata": {},
   "outputs": [],
   "source": [
    "user_1002_features = features_df[features_df['user_id'] == 1002].drop(['user_id', 'churned'], axis=1) # Get features for user_id 1002\n",
    "user_1002_scaled = scaler.transform(user_1002_features) # Scale values\n",
    "churn_probability = model.predict_proba(user_1002_scaled)[0][1] # Get churn probability for user 1002"
   ]
  },
  {
   "cell_type": "code",
   "execution_count": 708,
   "metadata": {},
   "outputs": [],
   "source": [
    "# We have already found the probabilty but lest analayze more\n",
    "feature_impact = pd.DataFrame({\n",
    "    'feature': X.columns, #Features in df\n",
    "    'impact': model.coef_[0] # Coefficient for its impact value it can be positive or negative\n",
    "})\n",
    "\n",
    "feature_impact = feature_impact.sort_values('impact', ascending=False) # Sort impacting values by their values"
   ]
  },
  {
   "cell_type": "code",
   "execution_count": 709,
   "metadata": {},
   "outputs": [],
   "source": [
    "# Lets make its importance to churn its almost a same df but with absolute value on impact -> importance column\n",
    "\n",
    "feature_importance = pd.DataFrame({\n",
    "    'feature': feature_impact['feature'],\n",
    "    'importance': feature_impact['impact'].abs()\n",
    "})\n",
    "\n",
    "feature_importance = feature_importance.sort_values('importance', ascending=False)"
   ]
  },
  {
   "cell_type": "markdown",
   "metadata": {},
   "source": [
    "#### Task 7 - A:\n"
   ]
  },
  {
   "cell_type": "code",
   "execution_count": 710,
   "metadata": {},
   "outputs": [
    {
     "data": {
      "text/plain": [
       "0.0005141024656188886"
      ]
     },
     "execution_count": 710,
     "metadata": {},
     "output_type": "execute_result"
    }
   ],
   "source": [
    "churn_probability"
   ]
  },
  {
   "cell_type": "code",
   "execution_count": 711,
   "metadata": {},
   "outputs": [
    {
     "data": {
      "text/html": [
       "<div>\n",
       "<style scoped>\n",
       "    .dataframe tbody tr th:only-of-type {\n",
       "        vertical-align: middle;\n",
       "    }\n",
       "\n",
       "    .dataframe tbody tr th {\n",
       "        vertical-align: top;\n",
       "    }\n",
       "\n",
       "    .dataframe thead th {\n",
       "        text-align: right;\n",
       "    }\n",
       "</style>\n",
       "<table border=\"1\" class=\"dataframe\">\n",
       "  <thead>\n",
       "    <tr style=\"text-align: right;\">\n",
       "      <th></th>\n",
       "      <th>feature</th>\n",
       "      <th>impact</th>\n",
       "    </tr>\n",
       "  </thead>\n",
       "  <tbody>\n",
       "    <tr>\n",
       "      <th>0</th>\n",
       "      <td>subscription_count</td>\n",
       "      <td>4.540945</td>\n",
       "    </tr>\n",
       "    <tr>\n",
       "      <th>1</th>\n",
       "      <td>total_revenue</td>\n",
       "      <td>3.838298</td>\n",
       "    </tr>\n",
       "    <tr>\n",
       "      <th>8</th>\n",
       "      <td>country_TR</td>\n",
       "      <td>0.638214</td>\n",
       "    </tr>\n",
       "    <tr>\n",
       "      <th>3</th>\n",
       "      <td>trial_converted</td>\n",
       "      <td>0.230802</td>\n",
       "    </tr>\n",
       "    <tr>\n",
       "      <th>2</th>\n",
       "      <td>had_trial</td>\n",
       "      <td>0.134874</td>\n",
       "    </tr>\n",
       "    <tr>\n",
       "      <th>5</th>\n",
       "      <td>is_instagram</td>\n",
       "      <td>0.064670</td>\n",
       "    </tr>\n",
       "    <tr>\n",
       "      <th>6</th>\n",
       "      <td>is_tiktok</td>\n",
       "      <td>-0.020954</td>\n",
       "    </tr>\n",
       "    <tr>\n",
       "      <th>4</th>\n",
       "      <td>is_organic</td>\n",
       "      <td>-0.041856</td>\n",
       "    </tr>\n",
       "    <tr>\n",
       "      <th>9</th>\n",
       "      <td>country_NL</td>\n",
       "      <td>-0.251924</td>\n",
       "    </tr>\n",
       "    <tr>\n",
       "      <th>7</th>\n",
       "      <td>country_US</td>\n",
       "      <td>-0.404605</td>\n",
       "    </tr>\n",
       "  </tbody>\n",
       "</table>\n",
       "</div>"
      ],
      "text/plain": [
       "              feature    impact\n",
       "0  subscription_count  4.540945\n",
       "1       total_revenue  3.838298\n",
       "8          country_TR  0.638214\n",
       "3     trial_converted  0.230802\n",
       "2           had_trial  0.134874\n",
       "5        is_instagram  0.064670\n",
       "6           is_tiktok -0.020954\n",
       "4          is_organic -0.041856\n",
       "9          country_NL -0.251924\n",
       "7          country_US -0.404605"
      ]
     },
     "execution_count": 711,
     "metadata": {},
     "output_type": "execute_result"
    }
   ],
   "source": [
    "'''\n",
    "Positive values are have positive impact to churn so if users subs_count is increasing they are more likly to churn, in real life it may not be like that but with this amount of\n",
    "data we found this correlation. But there is a meaningful insights too, users from TR is more likely to chrun than other countries.\n",
    "'''\n",
    "\n",
    "feature_impact"
   ]
  },
  {
   "cell_type": "code",
   "execution_count": 712,
   "metadata": {},
   "outputs": [
    {
     "data": {
      "text/html": [
       "<div>\n",
       "<style scoped>\n",
       "    .dataframe tbody tr th:only-of-type {\n",
       "        vertical-align: middle;\n",
       "    }\n",
       "\n",
       "    .dataframe tbody tr th {\n",
       "        vertical-align: top;\n",
       "    }\n",
       "\n",
       "    .dataframe thead th {\n",
       "        text-align: right;\n",
       "    }\n",
       "</style>\n",
       "<table border=\"1\" class=\"dataframe\">\n",
       "  <thead>\n",
       "    <tr style=\"text-align: right;\">\n",
       "      <th></th>\n",
       "      <th>feature</th>\n",
       "      <th>importance</th>\n",
       "    </tr>\n",
       "  </thead>\n",
       "  <tbody>\n",
       "    <tr>\n",
       "      <th>0</th>\n",
       "      <td>subscription_count</td>\n",
       "      <td>4.540945</td>\n",
       "    </tr>\n",
       "    <tr>\n",
       "      <th>1</th>\n",
       "      <td>total_revenue</td>\n",
       "      <td>3.838298</td>\n",
       "    </tr>\n",
       "    <tr>\n",
       "      <th>8</th>\n",
       "      <td>country_TR</td>\n",
       "      <td>0.638214</td>\n",
       "    </tr>\n",
       "    <tr>\n",
       "      <th>7</th>\n",
       "      <td>country_US</td>\n",
       "      <td>0.404605</td>\n",
       "    </tr>\n",
       "    <tr>\n",
       "      <th>9</th>\n",
       "      <td>country_NL</td>\n",
       "      <td>0.251924</td>\n",
       "    </tr>\n",
       "    <tr>\n",
       "      <th>3</th>\n",
       "      <td>trial_converted</td>\n",
       "      <td>0.230802</td>\n",
       "    </tr>\n",
       "    <tr>\n",
       "      <th>2</th>\n",
       "      <td>had_trial</td>\n",
       "      <td>0.134874</td>\n",
       "    </tr>\n",
       "    <tr>\n",
       "      <th>5</th>\n",
       "      <td>is_instagram</td>\n",
       "      <td>0.064670</td>\n",
       "    </tr>\n",
       "    <tr>\n",
       "      <th>4</th>\n",
       "      <td>is_organic</td>\n",
       "      <td>0.041856</td>\n",
       "    </tr>\n",
       "    <tr>\n",
       "      <th>6</th>\n",
       "      <td>is_tiktok</td>\n",
       "      <td>0.020954</td>\n",
       "    </tr>\n",
       "  </tbody>\n",
       "</table>\n",
       "</div>"
      ],
      "text/plain": [
       "              feature  importance\n",
       "0  subscription_count    4.540945\n",
       "1       total_revenue    3.838298\n",
       "8          country_TR    0.638214\n",
       "7          country_US    0.404605\n",
       "9          country_NL    0.251924\n",
       "3     trial_converted    0.230802\n",
       "2           had_trial    0.134874\n",
       "5        is_instagram    0.064670\n",
       "4          is_organic    0.041856\n",
       "6           is_tiktok    0.020954"
      ]
     },
     "execution_count": 712,
     "metadata": {},
     "output_type": "execute_result"
    }
   ],
   "source": [
    "'''\n",
    "Importance of values, basicly same df with absoulte values to determine which feature has higher impact,\n",
    "original value may be negative and can affect more than other positive effects, so it may make more sense to make negatives less than making positives more attractive.\n",
    "'''\n",
    "feature_importance "
   ]
  },
  {
   "cell_type": "markdown",
   "metadata": {},
   "source": [
    "### Task 8\n",
    "Predict the potential Lifetime Value (pLTV) for user #1001 (Bruce Wayne)\n",
    "\n",
    "Explain your methodology and assumptions"
   ]
  },
  {
   "cell_type": "code",
   "execution_count": 726,
   "metadata": {},
   "outputs": [],
   "source": [
    "#Creating a function for prediction\n",
    "\n",
    "def predict_plv(user_id, churn_model, scaler): #Users_id, our task7 churn proba model, standart scaler\n",
    "\n",
    "    user_events = events_df[events_df['user_id'] == user_id].sort_values('created_at') # events that user done by timestamp order\n",
    "    \n",
    "    \n",
    "    monthly_payment = user_events[\n",
    "        user_events['event_name'].isin(['subscription_started', 'subscription_renewed'])\n",
    "    ]['amount_usd'].iloc[-1] if len(user_events) > 0 else 0 # Last monthly payment\n",
    "    \n",
    "    user_features = create_features(events_df, users_df) # function we created at task7\n",
    "    user_features = user_features[user_features['user_id'] == user_id].drop(['user_id', 'churned'], axis=1) # Dropping columns for prediction\n",
    "    \n",
    "    user_features_scaled = scaler.transform(user_features) #Scaling for one that we wanted to test\n",
    "    churn_probability = churn_model.predict_proba(user_features_scaled)[0][1] #getting probability of churn\n",
    "    \n",
    "    \n",
    "    pltv = (monthly_payment / churn_probability).round(2) # pLTV = monthly payment / churn_probability \n",
    "    \n",
    "    return {\n",
    "        'user_id': user_id,\n",
    "        'monthly_payment': monthly_payment,\n",
    "        'churn_probability': churn_probability,\n",
    "        'pltv': pltv\n",
    "    }"
   ]
  },
  {
   "cell_type": "code",
   "execution_count": 727,
   "metadata": {},
   "outputs": [],
   "source": [
    "prediction = predict_plv(1001, model, scaler) #getting prediction"
   ]
  },
  {
   "cell_type": "code",
   "execution_count": 714,
   "metadata": {},
   "outputs": [],
   "source": [
    "# Confidence interval calc with bootstrap because its not dependant on distirbution\n",
    "n_iterations = 10 # How many different sample will generate normally it will be like 1000, but for the sake of our time I make it 10, making it 1000 will make it more stable\n",
    "pltv_predictions = []\n",
    "\n",
    "for _ in range(n_iterations):\n",
    "    indices = np.random.randint(0, len(X_train), len(X_train)) # Random selection for training\n",
    "    sample_X = X_train_scaled[indices] \n",
    "    sample_y = y_train.iloc[indices]\n",
    "    \n",
    "    sample_model = LogisticRegression(random_state=42) # We use logistic regression to get churn prob for this dataset\n",
    "    sample_model.fit(sample_X, sample_y) #Model fitting\n",
    "    \n",
    "    user_features = create_features(events_df, users_df) #Function we used in task7 for churn prob\n",
    "    user_features = user_features[user_features['user_id'] == 1001].drop(['user_id', 'churned'], axis=1) #getting churn prob of 1001 id for this df\n",
    "    user_features_scaled = scaler.transform(user_features)\n",
    "    \n",
    "    churn_prob = sample_model.predict_proba(user_features_scaled)[0][1] # Churn prob\n",
    "    pltv = (prediction['monthly_payment'] / churn_prob).round(2) # monthly paymen / churn prob\n",
    "    pltv_predictions.append(pltv) #storing them in list\n",
    "\n",
    "confidence_interval = np.percentile(pltv_predictions, [2.5, 97.5]) # Finding minimum and maximum potantial pltv"
   ]
  },
  {
   "cell_type": "markdown",
   "metadata": {},
   "source": [
    "#### Task 8 - A:"
   ]
  },
  {
   "cell_type": "code",
   "execution_count": 728,
   "metadata": {},
   "outputs": [
    {
     "name": "stdout",
     "output_type": "stream",
     "text": [
      "User ID: 1001\n",
      "Current Monthly Payment: $9.99\n",
      "Churn Probability: 6.23%\n",
      "Lifetime Value: $160.39\n",
      "pLTV Range: $121.94 - $208.07\n"
     ]
    }
   ],
   "source": [
    "print(f\"User ID: {prediction['user_id']}\")\n",
    "print(f\"Current Monthly Payment: ${prediction['monthly_payment']}\")\n",
    "print(f\"Churn Probability: {prediction['churn_probability']:.2%}\")\n",
    "print(f\"Lifetime Value: ${prediction['pltv']}\")\n",
    "print(f\"pLTV Range: ${confidence_interval[0]:.2f} - ${confidence_interval[1]:.2f}\")"
   ]
  }
 ],
 "metadata": {
  "kernelspec": {
   "display_name": "Python 3",
   "language": "python",
   "name": "python3"
  },
  "language_info": {
   "codemirror_mode": {
    "name": "ipython",
    "version": 3
   },
   "file_extension": ".py",
   "mimetype": "text/x-python",
   "name": "python",
   "nbconvert_exporter": "python",
   "pygments_lexer": "ipython3",
   "version": "3.11.9"
  }
 },
 "nbformat": 4,
 "nbformat_minor": 2
}
