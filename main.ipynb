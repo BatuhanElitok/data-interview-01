{
 "cells": [
  {
   "cell_type": "markdown",
   "metadata": {},
   "source": [
    "# Step 0 - Understanding Req"
   ]
  },
  {
   "cell_type": "markdown",
   "metadata": {},
   "source": [
    "## Mandatory Tasks"
   ]
  },
  {
   "cell_type": "markdown",
   "metadata": {},
   "source": [
    "1. Calculate the total revenue generated from subscriptions for each country.\n",
    "2. Calculate the total number of trials given to users who came from Instagram.\n",
    "3. Create a new column named 'acquisition_channel' by categorizing users based on their 'attribution_source':\n",
    "   - 'Paid': users from instagram or tiktok\n",
    "   - 'Organic': users from organic sources\n",
    "4. Analyze the trial-to-subscription conversion rate:\n",
    "   - Calculate the overall conversion rate\n",
    "   - Break down the conversion rate by attribution_source\n",
    "5. Calculate the median subscription duration (in months) for each country\n",
    "6. Calculate the Average Lifetime Value (LTV) by country"
   ]
  },
  {
   "cell_type": "markdown",
   "metadata": {},
   "source": [
    "## Optional Tasks\n",
    "\n"
   ]
  },
  {
   "cell_type": "markdown",
   "metadata": {},
   "source": [
    "7. Predict the churn probability for user #1002 (Clark Kent)\n",
    "   - Use any relevant features from the dataset\n",
    "   - Explain your model selection and feature engineering process\n",
    "   - Provide confidence intervals if applicable\n",
    "\n",
    "8. Predict the potential Lifetime Value (pLTV) for user #1001 (Bruce Wayne)\n",
    "   - Explain your methodology and assumptions"
   ]
  },
  {
   "cell_type": "markdown",
   "metadata": {},
   "source": [
    "## Evaluation Criteria(From older and much detailed commit)"
   ]
  },
  {
   "cell_type": "markdown",
   "metadata": {},
   "source": [
    "1. **Code Quality**\n",
    "   - Clean, well-documented code\n",
    "   - Efficient SQL queries\n",
    "   - Proper use of Python data structures and libraries\n",
    "\n",
    "2. **Analysis Quality**\n",
    "   - Depth of insights\n",
    "   - Statistical rigor\n",
    "   - Handling of edge cases\n",
    "\n",
    "3. **Communication**\n",
    "   - Clear explanation of methodology\n",
    "   - Well-structured presentation of results\n",
    "   - Visualization quality"
   ]
  },
  {
   "cell_type": "markdown",
   "metadata": {},
   "source": [
    "# Step 1 - Importing libs"
   ]
  },
  {
   "cell_type": "code",
   "execution_count": 285,
   "metadata": {},
   "outputs": [
    {
     "name": "stderr",
     "output_type": "stream",
     "text": [
      "C:\\Users\\batuh\\AppData\\Local\\Temp\\ipykernel_6588\\2347505175.py:10: MatplotlibDeprecationWarning: The seaborn styles shipped by Matplotlib are deprecated since 3.6, as they no longer correspond to the styles shipped by seaborn. However, they will remain available as 'seaborn-v0_8-<style>'. Alternatively, directly use the seaborn API instead.\n",
      "  plt.style.use('seaborn')\n"
     ]
    },
    {
     "data": {
      "text/plain": [
       "<Figure size 1500x1000 with 0 Axes>"
      ]
     },
     "metadata": {},
     "output_type": "display_data"
    }
   ],
   "source": [
    "import pandas as pd\n",
    "import numpy as np\n",
    "import sqlite3\n",
    "import matplotlib.pyplot as plt\n",
    "import seaborn as sns\n",
    "from datetime import datetime\n",
    "\n",
    "# Set plotting style\n",
    "plt.figure(figsize=(15, 10))\n",
    "plt.style.use('seaborn') \n",
    "sns.set_palette('deep')"
   ]
  },
  {
   "cell_type": "markdown",
   "metadata": {},
   "source": [
    "# Step 2 - Connection to DB\n"
   ]
  },
  {
   "cell_type": "code",
   "execution_count": 286,
   "metadata": {},
   "outputs": [],
   "source": [
    "conn = sqlite3.connect('papcorns.sqlite')"
   ]
  },
  {
   "cell_type": "markdown",
   "metadata": {},
   "source": [
    "# Step 3 - Creating DataFrame from db"
   ]
  },
  {
   "cell_type": "code",
   "execution_count": 287,
   "metadata": {},
   "outputs": [],
   "source": [
    "users_df = pd.read_sql_query(\"SELECT * FROM users;\", conn)"
   ]
  },
  {
   "cell_type": "code",
   "execution_count": 288,
   "metadata": {},
   "outputs": [],
   "source": [
    "events_df = pd.read_sql_query(\"SELECT * FROM user_events;\", conn)"
   ]
  },
  {
   "cell_type": "markdown",
   "metadata": {},
   "source": [
    "# Step 4 - Exploring dataFrames"
   ]
  },
  {
   "cell_type": "markdown",
   "metadata": {},
   "source": [
    "### For users data"
   ]
  },
  {
   "cell_type": "code",
   "execution_count": 289,
   "metadata": {},
   "outputs": [
    {
     "data": {
      "text/plain": [
       "(1002, 5)"
      ]
     },
     "execution_count": 289,
     "metadata": {},
     "output_type": "execute_result"
    }
   ],
   "source": [
    "users_df.shape # Shape of df"
   ]
  },
  {
   "cell_type": "code",
   "execution_count": 290,
   "metadata": {},
   "outputs": [
    {
     "name": "stdout",
     "output_type": "stream",
     "text": [
      "<class 'pandas.core.frame.DataFrame'>\n",
      "RangeIndex: 1002 entries, 0 to 1001\n",
      "Data columns (total 5 columns):\n",
      " #   Column              Non-Null Count  Dtype \n",
      "---  ------              --------------  ----- \n",
      " 0   id                  1002 non-null   int64 \n",
      " 1   created_at          1002 non-null   object\n",
      " 2   attribution_source  1002 non-null   object\n",
      " 3   country             1002 non-null   object\n",
      " 4   name                1002 non-null   object\n",
      "dtypes: int64(1), object(4)\n",
      "memory usage: 39.3+ KB\n"
     ]
    }
   ],
   "source": [
    "users_df.info() # Info of df"
   ]
  },
  {
   "cell_type": "code",
   "execution_count": 291,
   "metadata": {},
   "outputs": [],
   "source": [
    "users_df['created_at'] = pd.to_datetime(users_df['created_at']) # Changing 'created_at' from object to datetime"
   ]
  },
  {
   "cell_type": "code",
   "execution_count": 292,
   "metadata": {},
   "outputs": [
    {
     "data": {
      "text/plain": [
       "['id', 'created_at', 'attribution_source', 'country', 'name']"
      ]
     },
     "execution_count": 292,
     "metadata": {},
     "output_type": "execute_result"
    }
   ],
   "source": [
    "list(users_df.columns) # Column names"
   ]
  },
  {
   "cell_type": "code",
   "execution_count": 293,
   "metadata": {},
   "outputs": [
    {
     "data": {
      "text/html": [
       "<div>\n",
       "<style scoped>\n",
       "    .dataframe tbody tr th:only-of-type {\n",
       "        vertical-align: middle;\n",
       "    }\n",
       "\n",
       "    .dataframe tbody tr th {\n",
       "        vertical-align: top;\n",
       "    }\n",
       "\n",
       "    .dataframe thead th {\n",
       "        text-align: right;\n",
       "    }\n",
       "</style>\n",
       "<table border=\"1\" class=\"dataframe\">\n",
       "  <thead>\n",
       "    <tr style=\"text-align: right;\">\n",
       "      <th></th>\n",
       "      <th>id</th>\n",
       "      <th>created_at</th>\n",
       "      <th>attribution_source</th>\n",
       "      <th>country</th>\n",
       "      <th>name</th>\n",
       "    </tr>\n",
       "  </thead>\n",
       "  <tbody>\n",
       "    <tr>\n",
       "      <th>0</th>\n",
       "      <td>1</td>\n",
       "      <td>2024-05-07</td>\n",
       "      <td>instagram</td>\n",
       "      <td>US</td>\n",
       "      <td>Eve Brown</td>\n",
       "    </tr>\n",
       "    <tr>\n",
       "      <th>1</th>\n",
       "      <td>2</td>\n",
       "      <td>2024-10-12</td>\n",
       "      <td>instagram</td>\n",
       "      <td>NL</td>\n",
       "      <td>Frank Moore</td>\n",
       "    </tr>\n",
       "    <tr>\n",
       "      <th>2</th>\n",
       "      <td>3</td>\n",
       "      <td>2024-10-15</td>\n",
       "      <td>tiktok</td>\n",
       "      <td>TR</td>\n",
       "      <td>Ivy Anderson</td>\n",
       "    </tr>\n",
       "    <tr>\n",
       "      <th>3</th>\n",
       "      <td>4</td>\n",
       "      <td>2024-08-28</td>\n",
       "      <td>tiktok</td>\n",
       "      <td>TR</td>\n",
       "      <td>Alice Brown</td>\n",
       "    </tr>\n",
       "    <tr>\n",
       "      <th>4</th>\n",
       "      <td>5</td>\n",
       "      <td>2024-04-03</td>\n",
       "      <td>organic</td>\n",
       "      <td>NL</td>\n",
       "      <td>Bob Moore</td>\n",
       "    </tr>\n",
       "  </tbody>\n",
       "</table>\n",
       "</div>"
      ],
      "text/plain": [
       "   id created_at attribution_source country          name\n",
       "0   1 2024-05-07          instagram      US     Eve Brown\n",
       "1   2 2024-10-12          instagram      NL   Frank Moore\n",
       "2   3 2024-10-15             tiktok      TR  Ivy Anderson\n",
       "3   4 2024-08-28             tiktok      TR   Alice Brown\n",
       "4   5 2024-04-03            organic      NL     Bob Moore"
      ]
     },
     "execution_count": 293,
     "metadata": {},
     "output_type": "execute_result"
    }
   ],
   "source": [
    "users_df.head() # Top 5 user data"
   ]
  },
  {
   "cell_type": "code",
   "execution_count": 294,
   "metadata": {},
   "outputs": [
    {
     "data": {
      "text/html": [
       "<div>\n",
       "<style scoped>\n",
       "    .dataframe tbody tr th:only-of-type {\n",
       "        vertical-align: middle;\n",
       "    }\n",
       "\n",
       "    .dataframe tbody tr th {\n",
       "        vertical-align: top;\n",
       "    }\n",
       "\n",
       "    .dataframe thead th {\n",
       "        text-align: right;\n",
       "    }\n",
       "</style>\n",
       "<table border=\"1\" class=\"dataframe\">\n",
       "  <thead>\n",
       "    <tr style=\"text-align: right;\">\n",
       "      <th></th>\n",
       "      <th>id</th>\n",
       "    </tr>\n",
       "  </thead>\n",
       "  <tbody>\n",
       "    <tr>\n",
       "      <th>count</th>\n",
       "      <td>1002.000000</td>\n",
       "    </tr>\n",
       "    <tr>\n",
       "      <th>mean</th>\n",
       "      <td>501.500000</td>\n",
       "    </tr>\n",
       "    <tr>\n",
       "      <th>std</th>\n",
       "      <td>289.396786</td>\n",
       "    </tr>\n",
       "    <tr>\n",
       "      <th>min</th>\n",
       "      <td>1.000000</td>\n",
       "    </tr>\n",
       "    <tr>\n",
       "      <th>25%</th>\n",
       "      <td>251.250000</td>\n",
       "    </tr>\n",
       "    <tr>\n",
       "      <th>50%</th>\n",
       "      <td>501.500000</td>\n",
       "    </tr>\n",
       "    <tr>\n",
       "      <th>75%</th>\n",
       "      <td>751.750000</td>\n",
       "    </tr>\n",
       "    <tr>\n",
       "      <th>max</th>\n",
       "      <td>1002.000000</td>\n",
       "    </tr>\n",
       "  </tbody>\n",
       "</table>\n",
       "</div>"
      ],
      "text/plain": [
       "                id\n",
       "count  1002.000000\n",
       "mean    501.500000\n",
       "std     289.396786\n",
       "min       1.000000\n",
       "25%     251.250000\n",
       "50%     501.500000\n",
       "75%     751.750000\n",
       "max    1002.000000"
      ]
     },
     "execution_count": 294,
     "metadata": {},
     "output_type": "execute_result"
    }
   ],
   "source": [
    "users_df.describe() # No meainingfull numeric value to work"
   ]
  },
  {
   "cell_type": "code",
   "execution_count": 295,
   "metadata": {},
   "outputs": [
    {
     "data": {
      "text/plain": [
       "id                    0\n",
       "created_at            0\n",
       "attribution_source    0\n",
       "country               0\n",
       "name                  0\n",
       "dtype: int64"
      ]
     },
     "execution_count": 295,
     "metadata": {},
     "output_type": "execute_result"
    }
   ],
   "source": [
    "users_df.isna().sum() # No null row in columns"
   ]
  },
  {
   "cell_type": "code",
   "execution_count": 296,
   "metadata": {},
   "outputs": [
    {
     "data": {
      "text/plain": [
       "tiktok       352\n",
       "organic      344\n",
       "instagram    306\n",
       "Name: attribution_source, dtype: int64"
      ]
     },
     "execution_count": 296,
     "metadata": {},
     "output_type": "execute_result"
    }
   ],
   "source": [
    "users_df[\"attribution_source\"].value_counts() # 3 Different values with nearly the same amount"
   ]
  },
  {
   "cell_type": "code",
   "execution_count": 297,
   "metadata": {},
   "outputs": [
    {
     "data": {
      "text/plain": [
       "Text(0, 0.5, 'User')"
      ]
     },
     "execution_count": 297,
     "metadata": {},
     "output_type": "execute_result"
    },
    {
     "data": {
      "image/png": "[encoded data removed]",
      "text/plain": [
       "<Figure size 800x550 with 1 Axes>"
      ]
     },
     "metadata": {},
     "output_type": "display_data"
    }
   ],
   "source": [
    "# Graph for user/source\n",
    "sns.countplot(data=users_df, x='attribution_source')\n",
    "plt.title('Distribution of Attribution Sources')\n",
    "plt.xlabel('Source')\n",
    "plt.ylabel('User')"
   ]
  },
  {
   "cell_type": "code",
   "execution_count": 298,
   "metadata": {},
   "outputs": [
    {
     "data": {
      "text/plain": [
       "TR    354\n",
       "US    340\n",
       "NL    308\n",
       "Name: country, dtype: int64"
      ]
     },
     "execution_count": 298,
     "metadata": {},
     "output_type": "execute_result"
    }
   ],
   "source": [
    "users_df['country'].value_counts() # Again, 3 different values with nearly the same amount"
   ]
  },
  {
   "cell_type": "code",
   "execution_count": 299,
   "metadata": {},
   "outputs": [
    {
     "data": {
      "text/plain": [
       "Text(0, 0.5, 'User')"
      ]
     },
     "execution_count": 299,
     "metadata": {},
     "output_type": "execute_result"
    },
    {
     "data": {
      "image/png": "[encoded data removed]",
      "text/plain": [
       "<Figure size 800x550 with 1 Axes>"
      ]
     },
     "metadata": {},
     "output_type": "display_data"
    }
   ],
   "source": [
    "# Graph for user/country\n",
    "sns.countplot(data=users_df, x='country')\n",
    "plt.title('Distribution by Country')\n",
    "plt.xlabel('Country')\n",
    "plt.ylabel('User')"
   ]
  },
  {
   "cell_type": "code",
   "execution_count": 300,
   "metadata": {},
   "outputs": [
    {
     "data": {
      "text/plain": [
       "(array([0, 1, 2]), [Text(0, 0, 'NL'), Text(1, 0, 'TR'), Text(2, 0, 'US')])"
      ]
     },
     "execution_count": 300,
     "metadata": {},
     "output_type": "execute_result"
    },
    {
     "data": {
      "image/png": "[encoded data removed]",
      "text/plain": [
       "<Figure size 800x550 with 1 Axes>"
      ]
     },
     "metadata": {},
     "output_type": "display_data"
    }
   ],
   "source": [
    "# Graph for user/country by source\n",
    "attribution_by_country = pd.crosstab(users_df['country'], users_df['attribution_source'])\n",
    "attribution_by_country.plot(kind='bar', stacked=True)\n",
    "plt.title('Attribution Sources by Country')\n",
    "plt.xlabel('Country')\n",
    "plt.ylabel('User')\n",
    "plt.legend(title='Source', bbox_to_anchor=(1.05, 1))\n",
    "plt.xticks(rotation=45)"
   ]
  },
  {
   "cell_type": "code",
   "execution_count": 301,
   "metadata": {},
   "outputs": [
    {
     "data": {
      "text/plain": [
       "Text(0, 0.5, 'Number of Sign-ups')"
      ]
     },
     "execution_count": 301,
     "metadata": {},
     "output_type": "execute_result"
    },
    {
     "data": {
      "image/png": "[encoded data removed]",
      "text/plain": [
       "<Figure size 800x550 with 1 Axes>"
      ]
     },
     "metadata": {},
     "output_type": "display_data"
    }
   ],
   "source": [
    "# Graph for user sign-up over time(month)\n",
    "users_df.groupby(users_df['created_at'].dt.month)['id'].count().plot(kind='line', marker='o')\n",
    "plt.title('User Sign-ups Over Time')\n",
    "plt.xlabel('Month')\n",
    "plt.ylabel('Number of Sign-ups')"
   ]
  },
  {
   "cell_type": "markdown",
   "metadata": {},
   "source": [
    "### For event data"
   ]
  },
  {
   "cell_type": "code",
   "execution_count": 302,
   "metadata": {},
   "outputs": [
    {
     "data": {
      "text/plain": [
       "(3486, 5)"
      ]
     },
     "execution_count": 302,
     "metadata": {},
     "output_type": "execute_result"
    }
   ],
   "source": [
    "events_df.shape # More rows than user's data"
   ]
  },
  {
   "cell_type": "code",
   "execution_count": 303,
   "metadata": {},
   "outputs": [
    {
     "name": "stdout",
     "output_type": "stream",
     "text": [
      "<class 'pandas.core.frame.DataFrame'>\n",
      "RangeIndex: 3486 entries, 0 to 3485\n",
      "Data columns (total 5 columns):\n",
      " #   Column      Non-Null Count  Dtype  \n",
      "---  ------      --------------  -----  \n",
      " 0   id          3486 non-null   int64  \n",
      " 1   created_at  3486 non-null   object \n",
      " 2   user_id     3486 non-null   int64  \n",
      " 3   event_name  3486 non-null   object \n",
      " 4   amount_usd  1231 non-null   float64\n",
      "dtypes: float64(1), int64(2), object(2)\n",
      "memory usage: 136.3+ KB\n"
     ]
    }
   ],
   "source": [
    "events_df.info() # Info of df"
   ]
  },
  {
   "cell_type": "code",
   "execution_count": 304,
   "metadata": {},
   "outputs": [],
   "source": [
    "events_df['created_at'] = pd.to_datetime(events_df['created_at']) # Changing 'created_at' from object to datetime format."
   ]
  },
  {
   "cell_type": "code",
   "execution_count": 305,
   "metadata": {},
   "outputs": [
    {
     "data": {
      "text/plain": [
       "['id', 'created_at', 'user_id', 'event_name', 'amount_usd']"
      ]
     },
     "execution_count": 305,
     "metadata": {},
     "output_type": "execute_result"
    }
   ],
   "source": [
    "list(events_df.columns) # Columns of df"
   ]
  },
  {
   "cell_type": "code",
   "execution_count": 306,
   "metadata": {},
   "outputs": [
    {
     "data": {
      "text/html": [
       "<div>\n",
       "<style scoped>\n",
       "    .dataframe tbody tr th:only-of-type {\n",
       "        vertical-align: middle;\n",
       "    }\n",
       "\n",
       "    .dataframe tbody tr th {\n",
       "        vertical-align: top;\n",
       "    }\n",
       "\n",
       "    .dataframe thead th {\n",
       "        text-align: right;\n",
       "    }\n",
       "</style>\n",
       "<table border=\"1\" class=\"dataframe\">\n",
       "  <thead>\n",
       "    <tr style=\"text-align: right;\">\n",
       "      <th></th>\n",
       "      <th>id</th>\n",
       "      <th>created_at</th>\n",
       "      <th>user_id</th>\n",
       "      <th>event_name</th>\n",
       "      <th>amount_usd</th>\n",
       "    </tr>\n",
       "  </thead>\n",
       "  <tbody>\n",
       "    <tr>\n",
       "      <th>0</th>\n",
       "      <td>1</td>\n",
       "      <td>2024-05-07</td>\n",
       "      <td>1</td>\n",
       "      <td>app_install</td>\n",
       "      <td>NaN</td>\n",
       "    </tr>\n",
       "    <tr>\n",
       "      <th>1</th>\n",
       "      <td>2</td>\n",
       "      <td>2024-05-12</td>\n",
       "      <td>1</td>\n",
       "      <td>trial_started</td>\n",
       "      <td>NaN</td>\n",
       "    </tr>\n",
       "    <tr>\n",
       "      <th>2</th>\n",
       "      <td>3</td>\n",
       "      <td>2024-05-24</td>\n",
       "      <td>1</td>\n",
       "      <td>trial_cancelled</td>\n",
       "      <td>NaN</td>\n",
       "    </tr>\n",
       "    <tr>\n",
       "      <th>3</th>\n",
       "      <td>4</td>\n",
       "      <td>2024-10-12</td>\n",
       "      <td>2</td>\n",
       "      <td>app_install</td>\n",
       "      <td>NaN</td>\n",
       "    </tr>\n",
       "    <tr>\n",
       "      <th>4</th>\n",
       "      <td>5</td>\n",
       "      <td>2024-10-13</td>\n",
       "      <td>2</td>\n",
       "      <td>trial_started</td>\n",
       "      <td>NaN</td>\n",
       "    </tr>\n",
       "  </tbody>\n",
       "</table>\n",
       "</div>"
      ],
      "text/plain": [
       "   id created_at  user_id       event_name  amount_usd\n",
       "0   1 2024-05-07        1      app_install         NaN\n",
       "1   2 2024-05-12        1    trial_started         NaN\n",
       "2   3 2024-05-24        1  trial_cancelled         NaN\n",
       "3   4 2024-10-12        2      app_install         NaN\n",
       "4   5 2024-10-13        2    trial_started         NaN"
      ]
     },
     "execution_count": 306,
     "metadata": {},
     "output_type": "execute_result"
    }
   ],
   "source": [
    "events_df.head() # 'user_id' propably corrseponds to users_df 'id'."
   ]
  },
  {
   "cell_type": "code",
   "execution_count": 307,
   "metadata": {},
   "outputs": [
    {
     "data": {
      "text/plain": [
       "832     8\n",
       "331     8\n",
       "950     8\n",
       "359     8\n",
       "819     8\n",
       "       ..\n",
       "492     1\n",
       "489     1\n",
       "477     1\n",
       "469     1\n",
       "1002    1\n",
       "Name: user_id, Length: 1002, dtype: int64"
      ]
     },
     "execution_count": 307,
     "metadata": {},
     "output_type": "execute_result"
    }
   ],
   "source": [
    "# Checking if it was true.\n",
    "events_df['user_id'].value_counts()\n",
    "\n",
    "# Lenght is 1002 and in users_df our shape is (1002, 5) so we have every user with some event in events_df."
   ]
  },
  {
   "cell_type": "code",
   "execution_count": 308,
   "metadata": {},
   "outputs": [
    {
     "data": {
      "text/html": [
       "<div>\n",
       "<style scoped>\n",
       "    .dataframe tbody tr th:only-of-type {\n",
       "        vertical-align: middle;\n",
       "    }\n",
       "\n",
       "    .dataframe tbody tr th {\n",
       "        vertical-align: top;\n",
       "    }\n",
       "\n",
       "    .dataframe thead th {\n",
       "        text-align: right;\n",
       "    }\n",
       "</style>\n",
       "<table border=\"1\" class=\"dataframe\">\n",
       "  <thead>\n",
       "    <tr style=\"text-align: right;\">\n",
       "      <th></th>\n",
       "      <th>id</th>\n",
       "      <th>user_id</th>\n",
       "      <th>amount_usd</th>\n",
       "    </tr>\n",
       "  </thead>\n",
       "  <tbody>\n",
       "    <tr>\n",
       "      <th>count</th>\n",
       "      <td>3486.000000</td>\n",
       "      <td>3486.000000</td>\n",
       "      <td>1231.000000</td>\n",
       "    </tr>\n",
       "    <tr>\n",
       "      <th>mean</th>\n",
       "      <td>1743.500000</td>\n",
       "      <td>502.910499</td>\n",
       "      <td>7.836466</td>\n",
       "    </tr>\n",
       "    <tr>\n",
       "      <th>std</th>\n",
       "      <td>1006.465846</td>\n",
       "      <td>289.650625</td>\n",
       "      <td>2.220009</td>\n",
       "    </tr>\n",
       "    <tr>\n",
       "      <th>min</th>\n",
       "      <td>1.000000</td>\n",
       "      <td>1.000000</td>\n",
       "      <td>4.990000</td>\n",
       "    </tr>\n",
       "    <tr>\n",
       "      <th>25%</th>\n",
       "      <td>872.250000</td>\n",
       "      <td>256.250000</td>\n",
       "      <td>4.990000</td>\n",
       "    </tr>\n",
       "    <tr>\n",
       "      <th>50%</th>\n",
       "      <td>1743.500000</td>\n",
       "      <td>499.500000</td>\n",
       "      <td>8.990000</td>\n",
       "    </tr>\n",
       "    <tr>\n",
       "      <th>75%</th>\n",
       "      <td>2614.750000</td>\n",
       "      <td>754.000000</td>\n",
       "      <td>9.990000</td>\n",
       "    </tr>\n",
       "    <tr>\n",
       "      <th>max</th>\n",
       "      <td>3486.000000</td>\n",
       "      <td>1002.000000</td>\n",
       "      <td>9.990000</td>\n",
       "    </tr>\n",
       "  </tbody>\n",
       "</table>\n",
       "</div>"
      ],
      "text/plain": [
       "                id      user_id   amount_usd\n",
       "count  3486.000000  3486.000000  1231.000000\n",
       "mean   1743.500000   502.910499     7.836466\n",
       "std    1006.465846   289.650625     2.220009\n",
       "min       1.000000     1.000000     4.990000\n",
       "25%     872.250000   256.250000     4.990000\n",
       "50%    1743.500000   499.500000     8.990000\n",
       "75%    2614.750000   754.000000     9.990000\n",
       "max    3486.000000  1002.000000     9.990000"
      ]
     },
     "execution_count": 308,
     "metadata": {},
     "output_type": "execute_result"
    }
   ],
   "source": [
    "'''\n",
    "We have a some numerical values, we can make some insights on 'amount_usd'.\n",
    "Maybe I can find some relations to other categorical values .\n",
    "'''\n",
    "\n",
    "events_df.describe() "
   ]
  },
  {
   "cell_type": "code",
   "execution_count": 309,
   "metadata": {},
   "outputs": [
    {
     "data": {
      "text/plain": [
       "id                     int64\n",
       "created_at    datetime64[ns]\n",
       "user_id                int64\n",
       "event_name            object\n",
       "amount_usd           float64\n",
       "dtype: object"
      ]
     },
     "execution_count": 309,
     "metadata": {},
     "output_type": "execute_result"
    }
   ],
   "source": [
    "events_df.dtypes\n",
    "\n",
    "# We have two object types. One is time-stamp and the other one is event_name, it's time to check it."
   ]
  },
  {
   "cell_type": "code",
   "execution_count": 310,
   "metadata": {},
   "outputs": [
    {
     "data": {
      "text/plain": [
       "app_install               1002\n",
       "subscription_renewed       750\n",
       "trial_started              682\n",
       "subscription_started       481\n",
       "subscription_cancelled     370\n",
       "trial_cancelled            201\n",
       "Name: event_name, dtype: int64"
      ]
     },
     "execution_count": 310,
     "metadata": {},
     "output_type": "execute_result"
    }
   ],
   "source": [
    "'''\n",
    "There are 6 different events. They can be categorized when I preprocess our data. \n",
    "There may be some correlations between 'amount_usd' with events.\n",
    "'''\n",
    "events_df['event_name'].value_counts() \n"
   ]
  },
  {
   "cell_type": "code",
   "execution_count": 311,
   "metadata": {},
   "outputs": [
    {
     "data": {
      "text/plain": [
       "Text(0, 0.5, 'Event Type')"
      ]
     },
     "execution_count": 311,
     "metadata": {},
     "output_type": "execute_result"
    },
    {
     "data": {
      "image/png": "[encoded data removed]",
      "text/plain": [
       "<Figure size 800x550 with 1 Axes>"
      ]
     },
     "metadata": {},
     "output_type": "display_data"
    }
   ],
   "source": [
    "# Graph for event type/event count\n",
    "event_counts = events_df['event_name'].value_counts()\n",
    "sns.barplot(x=event_counts.values, y=event_counts.index) # It's horizontal because some titles are long and become unreadable verticaly\n",
    "plt.title('Distribution of Event Types')\n",
    "plt.xlabel('Count')\n",
    "plt.ylabel('Event Type')"
   ]
  },
  {
   "cell_type": "code",
   "execution_count": 312,
   "metadata": {},
   "outputs": [
    {
     "data": {
      "text/plain": [
       "id               0\n",
       "created_at       0\n",
       "user_id          0\n",
       "event_name       0\n",
       "amount_usd    2255\n",
       "dtype: int64"
      ]
     },
     "execution_count": 312,
     "metadata": {},
     "output_type": "execute_result"
    }
   ],
   "source": [
    "events_df.isna().sum()\n",
    "\n",
    "# We have 2255 null values in 'amount_usd' column, it can be 0 for not spending any or can be a missing data. I will inspect it in a moment."
   ]
  },
  {
   "cell_type": "code",
   "execution_count": 313,
   "metadata": {},
   "outputs": [
    {
     "data": {
      "text/plain": [
       "subscription_renewed    750\n",
       "subscription_started    481\n",
       "Name: event_name, dtype: int64"
      ]
     },
     "execution_count": 313,
     "metadata": {},
     "output_type": "execute_result"
    }
   ],
   "source": [
    "events_df[events_df['amount_usd'].notna()]['event_name'].value_counts()\n",
    "\n",
    "# There are two 'event_name' that doesn't make the amount null."
   ]
  },
  {
   "cell_type": "code",
   "execution_count": 314,
   "metadata": {},
   "outputs": [
    {
     "data": {
      "text/plain": [
       "Text(0, 0.5, 'Amount (USD)')"
      ]
     },
     "execution_count": 314,
     "metadata": {},
     "output_type": "execute_result"
    },
    {
     "data": {
      "image/png": "[encoded data removed]",
      "text/plain": [
       "<Figure size 800x550 with 1 Axes>"
      ]
     },
     "metadata": {},
     "output_type": "display_data"
    }
   ],
   "source": [
    "# Graph for revenue/event type\n",
    "revenue_data = events_df[events_df['event_name'].isin(['subscription_renewed', 'subscription_started'])]\n",
    "sns.boxplot(y='event_name', x='amount_usd', data=revenue_data)\n",
    "plt.title('Revenue Distribution by Event Type')\n",
    "plt.xlabel('Event Type')\n",
    "plt.ylabel('Amount (USD)')"
   ]
  },
  {
   "cell_type": "code",
   "execution_count": 315,
   "metadata": {},
   "outputs": [
    {
     "data": {
      "text/plain": [
       "<matplotlib.legend.Legend at 0x1f50b620610>"
      ]
     },
     "execution_count": 315,
     "metadata": {},
     "output_type": "execute_result"
    },
    {
     "data": {
      "image/png": "[encoded data removed]",
      "text/plain": [
       "<Figure size 800x550 with 1 Axes>"
      ]
     },
     "metadata": {},
     "output_type": "display_data"
    }
   ],
   "source": [
    "# Graph for event type amount per month\n",
    "events_df['created_at'] = pd.to_datetime(events_df['created_at'])\n",
    "events_over_time = events_df.groupby([events_df['created_at'].dt.month, 'event_name']).size().unstack()\n",
    "events_over_time.plot(marker='o')\n",
    "plt.title('Events Trend Over Time')\n",
    "plt.xlabel('Month')\n",
    "plt.ylabel('Number of Events')\n",
    "plt.legend(title='Event Type')"
   ]
  },
  {
   "cell_type": "code",
   "execution_count": 316,
   "metadata": {},
   "outputs": [
    {
     "data": {
      "text/plain": [
       "Text(70.72222222222221, 0.5, 'Month')"
      ]
     },
     "execution_count": 316,
     "metadata": {},
     "output_type": "execute_result"
    },
    {
     "data": {
      "image/png": "[encoded data removed]",
      "text/plain": [
       "<Figure size 800x550 with 2 Axes>"
      ]
     },
     "metadata": {},
     "output_type": "display_data"
    }
   ],
   "source": [
    "# Graph for revenues by month (Brighter means more revenue)\n",
    "revenue_events = events_df[events_df['event_name'].isin(['subscription_started', 'subscription_renewed'])]\n",
    "revenue_pivot = revenue_events.pivot_table(\n",
    "    index=revenue_events['created_at'].dt.month,\n",
    "    columns='event_name',\n",
    "    values='amount_usd',\n",
    "    aggfunc='sum'\n",
    ")\n",
    "sns.heatmap(revenue_pivot, annot=True, fmt='.0f')\n",
    "plt.title('Monthly Revenue Heatmap')\n",
    "plt.xlabel('Event Type')\n",
    "plt.ylabel('Month')"
   ]
  },
  {
   "cell_type": "markdown",
   "metadata": {},
   "source": [
    "# Step 5 - Solving Tasks"
   ]
  },
  {
   "cell_type": "markdown",
   "metadata": {},
   "source": [
    "### Task 1\n",
    "\n",
    "Calculate the total revenue generated from subscriptions for each country."
   ]
  },
  {
   "cell_type": "code",
   "execution_count": 317,
   "metadata": {},
   "outputs": [
    {
     "data": {
      "text/html": [
       "<div>\n",
       "<style scoped>\n",
       "    .dataframe tbody tr th:only-of-type {\n",
       "        vertical-align: middle;\n",
       "    }\n",
       "\n",
       "    .dataframe tbody tr th {\n",
       "        vertical-align: top;\n",
       "    }\n",
       "\n",
       "    .dataframe thead th {\n",
       "        text-align: right;\n",
       "    }\n",
       "</style>\n",
       "<table border=\"1\" class=\"dataframe\">\n",
       "  <thead>\n",
       "    <tr style=\"text-align: right;\">\n",
       "      <th></th>\n",
       "      <th>id</th>\n",
       "      <th>created_at</th>\n",
       "      <th>user_id</th>\n",
       "      <th>event_name</th>\n",
       "      <th>amount_usd</th>\n",
       "    </tr>\n",
       "  </thead>\n",
       "  <tbody>\n",
       "    <tr>\n",
       "      <th>5</th>\n",
       "      <td>6</td>\n",
       "      <td>2024-10-20</td>\n",
       "      <td>2</td>\n",
       "      <td>subscription_started</td>\n",
       "      <td>8.99</td>\n",
       "    </tr>\n",
       "    <tr>\n",
       "      <th>6</th>\n",
       "      <td>7</td>\n",
       "      <td>2024-11-19</td>\n",
       "      <td>2</td>\n",
       "      <td>subscription_renewed</td>\n",
       "      <td>8.99</td>\n",
       "    </tr>\n",
       "    <tr>\n",
       "      <th>7</th>\n",
       "      <td>8</td>\n",
       "      <td>2024-12-19</td>\n",
       "      <td>2</td>\n",
       "      <td>subscription_renewed</td>\n",
       "      <td>8.99</td>\n",
       "    </tr>\n",
       "    <tr>\n",
       "      <th>8</th>\n",
       "      <td>9</td>\n",
       "      <td>2025-01-18</td>\n",
       "      <td>2</td>\n",
       "      <td>subscription_renewed</td>\n",
       "      <td>8.99</td>\n",
       "    </tr>\n",
       "    <tr>\n",
       "      <th>12</th>\n",
       "      <td>13</td>\n",
       "      <td>2024-10-21</td>\n",
       "      <td>3</td>\n",
       "      <td>subscription_started</td>\n",
       "      <td>4.99</td>\n",
       "    </tr>\n",
       "  </tbody>\n",
       "</table>\n",
       "</div>"
      ],
      "text/plain": [
       "    id created_at  user_id            event_name  amount_usd\n",
       "5    6 2024-10-20        2  subscription_started        8.99\n",
       "6    7 2024-11-19        2  subscription_renewed        8.99\n",
       "7    8 2024-12-19        2  subscription_renewed        8.99\n",
       "8    9 2025-01-18        2  subscription_renewed        8.99\n",
       "12  13 2024-10-21        3  subscription_started        4.99"
      ]
     },
     "execution_count": 317,
     "metadata": {},
     "output_type": "execute_result"
    }
   ],
   "source": [
    "money_gain_events = events_df[events_df['event_name'].isin(['subscription_started', 'subscription_renewed'])] \n",
    "\n",
    "'''\n",
    "Creating a df from events that have not null value in 'amount_usd'\n",
    "'''\n",
    "\n",
    "money_gain_events.head()"
   ]
  },
  {
   "cell_type": "code",
   "execution_count": 318,
   "metadata": {},
   "outputs": [
    {
     "data": {
      "text/html": [
       "<div>\n",
       "<style scoped>\n",
       "    .dataframe tbody tr th:only-of-type {\n",
       "        vertical-align: middle;\n",
       "    }\n",
       "\n",
       "    .dataframe tbody tr th {\n",
       "        vertical-align: top;\n",
       "    }\n",
       "\n",
       "    .dataframe thead th {\n",
       "        text-align: right;\n",
       "    }\n",
       "</style>\n",
       "<table border=\"1\" class=\"dataframe\">\n",
       "  <thead>\n",
       "    <tr style=\"text-align: right;\">\n",
       "      <th></th>\n",
       "      <th>event_id</th>\n",
       "      <th>created_at</th>\n",
       "      <th>user_id</th>\n",
       "      <th>event_name</th>\n",
       "      <th>amount_usd</th>\n",
       "      <th>country</th>\n",
       "    </tr>\n",
       "  </thead>\n",
       "  <tbody>\n",
       "    <tr>\n",
       "      <th>0</th>\n",
       "      <td>6</td>\n",
       "      <td>2024-10-20</td>\n",
       "      <td>2</td>\n",
       "      <td>subscription_started</td>\n",
       "      <td>8.99</td>\n",
       "      <td>NL</td>\n",
       "    </tr>\n",
       "    <tr>\n",
       "      <th>1</th>\n",
       "      <td>7</td>\n",
       "      <td>2024-11-19</td>\n",
       "      <td>2</td>\n",
       "      <td>subscription_renewed</td>\n",
       "      <td>8.99</td>\n",
       "      <td>NL</td>\n",
       "    </tr>\n",
       "    <tr>\n",
       "      <th>2</th>\n",
       "      <td>8</td>\n",
       "      <td>2024-12-19</td>\n",
       "      <td>2</td>\n",
       "      <td>subscription_renewed</td>\n",
       "      <td>8.99</td>\n",
       "      <td>NL</td>\n",
       "    </tr>\n",
       "    <tr>\n",
       "      <th>3</th>\n",
       "      <td>9</td>\n",
       "      <td>2025-01-18</td>\n",
       "      <td>2</td>\n",
       "      <td>subscription_renewed</td>\n",
       "      <td>8.99</td>\n",
       "      <td>NL</td>\n",
       "    </tr>\n",
       "    <tr>\n",
       "      <th>4</th>\n",
       "      <td>13</td>\n",
       "      <td>2024-10-21</td>\n",
       "      <td>3</td>\n",
       "      <td>subscription_started</td>\n",
       "      <td>4.99</td>\n",
       "      <td>TR</td>\n",
       "    </tr>\n",
       "  </tbody>\n",
       "</table>\n",
       "</div>"
      ],
      "text/plain": [
       "   event_id created_at  user_id            event_name  amount_usd country\n",
       "0         6 2024-10-20        2  subscription_started        8.99      NL\n",
       "1         7 2024-11-19        2  subscription_renewed        8.99      NL\n",
       "2         8 2024-12-19        2  subscription_renewed        8.99      NL\n",
       "3         9 2025-01-18        2  subscription_renewed        8.99      NL\n",
       "4        13 2024-10-21        3  subscription_started        4.99      TR"
      ]
     },
     "execution_count": 318,
     "metadata": {},
     "output_type": "execute_result"
    }
   ],
   "source": [
    "money_gain_data = money_gain_events.merge(users_df[['id', 'country']], left_on='user_id', right_on='id', how='left')\n",
    "\n",
    "'''\n",
    "Merging users_df and events_df on 'user_id' to create a table that shows all relevant information.\n",
    "\n",
    "id_x:'event_id'\n",
    "id_y:'user_id'\n",
    "\n",
    "Renaming 'id_x' and dropping 'id_y'.\n",
    "PS: I'm not going to use it on the result/answer, but I'm goning to do it for this time to make it look more reasonable.\n",
    "'''\n",
    "\n",
    "money_gain_data = money_gain_data.rename(columns={'id_x':'event_id'}).drop('id_y', axis=1)\n",
    "money_gain_data.head()"
   ]
  },
  {
   "cell_type": "code",
   "execution_count": 319,
   "metadata": {},
   "outputs": [],
   "source": [
    "revenue_by_country = (money_gain_data.groupby('country')['amount_usd'] # Grouping by country getting 'amount_usd'\n",
    "                     .sum() # Summing counts\n",
    "                     .reset_index() # Series to frame because frame has better readibilty.\n",
    "                     .rename(columns={'amount_usd': 'total_revenue'})  # Changing 'amount_usd' to 'total_revenue' for better understanding.\n",
    "                    )"
   ]
  },
  {
   "cell_type": "markdown",
   "metadata": {},
   "source": [
    "#### Task 1 - A:"
   ]
  },
  {
   "cell_type": "code",
   "execution_count": 320,
   "metadata": {},
   "outputs": [
    {
     "data": {
      "text/html": [
       "<div>\n",
       "<style scoped>\n",
       "    .dataframe tbody tr th:only-of-type {\n",
       "        vertical-align: middle;\n",
       "    }\n",
       "\n",
       "    .dataframe tbody tr th {\n",
       "        vertical-align: top;\n",
       "    }\n",
       "\n",
       "    .dataframe thead th {\n",
       "        text-align: right;\n",
       "    }\n",
       "</style>\n",
       "<table border=\"1\" class=\"dataframe\">\n",
       "  <thead>\n",
       "    <tr style=\"text-align: right;\">\n",
       "      <th></th>\n",
       "      <th>country</th>\n",
       "      <th>total_revenue</th>\n",
       "    </tr>\n",
       "  </thead>\n",
       "  <tbody>\n",
       "    <tr>\n",
       "      <th>0</th>\n",
       "      <td>NL</td>\n",
       "      <td>3335.29</td>\n",
       "    </tr>\n",
       "    <tr>\n",
       "      <th>1</th>\n",
       "      <td>TR</td>\n",
       "      <td>2275.44</td>\n",
       "    </tr>\n",
       "    <tr>\n",
       "      <th>2</th>\n",
       "      <td>US</td>\n",
       "      <td>4035.96</td>\n",
       "    </tr>\n",
       "  </tbody>\n",
       "</table>\n",
       "</div>"
      ],
      "text/plain": [
       "  country  total_revenue\n",
       "0      NL        3335.29\n",
       "1      TR        2275.44\n",
       "2      US        4035.96"
      ]
     },
     "execution_count": 320,
     "metadata": {},
     "output_type": "execute_result"
    }
   ],
   "source": [
    "revenue_by_country"
   ]
  },
  {
   "cell_type": "code",
   "execution_count": 321,
   "metadata": {},
   "outputs": [
    {
     "data": {
      "text/plain": [
       "Text(0, 0.5, 'Revenue (USD)')"
      ]
     },
     "execution_count": 321,
     "metadata": {},
     "output_type": "execute_result"
    },
    {
     "data": {
      "image/png": "[encoded data removed]",
      "text/plain": [
       "<Figure size 800x550 with 1 Axes>"
      ]
     },
     "metadata": {},
     "output_type": "display_data"
    }
   ],
   "source": [
    "# Graph for revenue/country\n",
    "sns.barplot(\n",
    "    data=revenue_by_country,\n",
    "    x='country',\n",
    "    y='total_revenue'\n",
    ")\n",
    "plt.title('Total Revenue by Country')\n",
    "plt.xlabel('Country')\n",
    "plt.ylabel('Revenue (USD)')"
   ]
  },
  {
   "cell_type": "markdown",
   "metadata": {},
   "source": [
    "### Task 2\n",
    "Calculate the total number of trials given to users who came from Instagram."
   ]
  },
  {
   "cell_type": "code",
   "execution_count": 322,
   "metadata": {},
   "outputs": [
    {
     "data": {
      "text/html": [
       "<div>\n",
       "<style scoped>\n",
       "    .dataframe tbody tr th:only-of-type {\n",
       "        vertical-align: middle;\n",
       "    }\n",
       "\n",
       "    .dataframe tbody tr th {\n",
       "        vertical-align: top;\n",
       "    }\n",
       "\n",
       "    .dataframe thead th {\n",
       "        text-align: right;\n",
       "    }\n",
       "</style>\n",
       "<table border=\"1\" class=\"dataframe\">\n",
       "  <thead>\n",
       "    <tr style=\"text-align: right;\">\n",
       "      <th></th>\n",
       "      <th>id</th>\n",
       "      <th>created_at</th>\n",
       "      <th>attribution_source</th>\n",
       "      <th>country</th>\n",
       "      <th>name</th>\n",
       "    </tr>\n",
       "  </thead>\n",
       "  <tbody>\n",
       "    <tr>\n",
       "      <th>0</th>\n",
       "      <td>1</td>\n",
       "      <td>2024-05-07</td>\n",
       "      <td>instagram</td>\n",
       "      <td>US</td>\n",
       "      <td>Eve Brown</td>\n",
       "    </tr>\n",
       "    <tr>\n",
       "      <th>1</th>\n",
       "      <td>2</td>\n",
       "      <td>2024-10-12</td>\n",
       "      <td>instagram</td>\n",
       "      <td>NL</td>\n",
       "      <td>Frank Moore</td>\n",
       "    </tr>\n",
       "    <tr>\n",
       "      <th>6</th>\n",
       "      <td>7</td>\n",
       "      <td>2024-10-21</td>\n",
       "      <td>instagram</td>\n",
       "      <td>US</td>\n",
       "      <td>Henry Moore</td>\n",
       "    </tr>\n",
       "    <tr>\n",
       "      <th>11</th>\n",
       "      <td>12</td>\n",
       "      <td>2024-01-08</td>\n",
       "      <td>instagram</td>\n",
       "      <td>US</td>\n",
       "      <td>Frank Miller</td>\n",
       "    </tr>\n",
       "    <tr>\n",
       "      <th>14</th>\n",
       "      <td>15</td>\n",
       "      <td>2024-07-10</td>\n",
       "      <td>instagram</td>\n",
       "      <td>US</td>\n",
       "      <td>Bob Miller</td>\n",
       "    </tr>\n",
       "  </tbody>\n",
       "</table>\n",
       "</div>"
      ],
      "text/plain": [
       "    id created_at attribution_source country          name\n",
       "0    1 2024-05-07          instagram      US     Eve Brown\n",
       "1    2 2024-10-12          instagram      NL   Frank Moore\n",
       "6    7 2024-10-21          instagram      US   Henry Moore\n",
       "11  12 2024-01-08          instagram      US  Frank Miller\n",
       "14  15 2024-07-10          instagram      US    Bob Miller"
      ]
     },
     "execution_count": 322,
     "metadata": {},
     "output_type": "execute_result"
    }
   ],
   "source": [
    "# First of all, finding users coming from isntagram.\n",
    "\n",
    "instagram_users = users_df[users_df['attribution_source'] == 'instagram']\n",
    "\n",
    "instagram_users.head()"
   ]
  },
  {
   "cell_type": "code",
   "execution_count": 323,
   "metadata": {},
   "outputs": [
    {
     "data": {
      "text/html": [
       "<div>\n",
       "<style scoped>\n",
       "    .dataframe tbody tr th:only-of-type {\n",
       "        vertical-align: middle;\n",
       "    }\n",
       "\n",
       "    .dataframe tbody tr th {\n",
       "        vertical-align: top;\n",
       "    }\n",
       "\n",
       "    .dataframe thead th {\n",
       "        text-align: right;\n",
       "    }\n",
       "</style>\n",
       "<table border=\"1\" class=\"dataframe\">\n",
       "  <thead>\n",
       "    <tr style=\"text-align: right;\">\n",
       "      <th></th>\n",
       "      <th>id</th>\n",
       "      <th>created_at</th>\n",
       "      <th>user_id</th>\n",
       "      <th>event_name</th>\n",
       "      <th>amount_usd</th>\n",
       "    </tr>\n",
       "  </thead>\n",
       "  <tbody>\n",
       "    <tr>\n",
       "      <th>1</th>\n",
       "      <td>2</td>\n",
       "      <td>2024-05-12</td>\n",
       "      <td>1</td>\n",
       "      <td>trial_started</td>\n",
       "      <td>NaN</td>\n",
       "    </tr>\n",
       "    <tr>\n",
       "      <th>4</th>\n",
       "      <td>5</td>\n",
       "      <td>2024-10-13</td>\n",
       "      <td>2</td>\n",
       "      <td>trial_started</td>\n",
       "      <td>NaN</td>\n",
       "    </tr>\n",
       "    <tr>\n",
       "      <th>44</th>\n",
       "      <td>45</td>\n",
       "      <td>2024-01-14</td>\n",
       "      <td>12</td>\n",
       "      <td>trial_started</td>\n",
       "      <td>NaN</td>\n",
       "    </tr>\n",
       "    <tr>\n",
       "      <th>63</th>\n",
       "      <td>64</td>\n",
       "      <td>2024-07-12</td>\n",
       "      <td>15</td>\n",
       "      <td>trial_started</td>\n",
       "      <td>NaN</td>\n",
       "    </tr>\n",
       "    <tr>\n",
       "      <th>66</th>\n",
       "      <td>67</td>\n",
       "      <td>2024-04-28</td>\n",
       "      <td>16</td>\n",
       "      <td>trial_started</td>\n",
       "      <td>NaN</td>\n",
       "    </tr>\n",
       "    <tr>\n",
       "      <th>...</th>\n",
       "      <td>...</td>\n",
       "      <td>...</td>\n",
       "      <td>...</td>\n",
       "      <td>...</td>\n",
       "      <td>...</td>\n",
       "    </tr>\n",
       "    <tr>\n",
       "      <th>3432</th>\n",
       "      <td>3433</td>\n",
       "      <td>2025-01-17</td>\n",
       "      <td>989</td>\n",
       "      <td>trial_started</td>\n",
       "      <td>NaN</td>\n",
       "    </tr>\n",
       "    <tr>\n",
       "      <th>3438</th>\n",
       "      <td>3439</td>\n",
       "      <td>2024-11-26</td>\n",
       "      <td>990</td>\n",
       "      <td>trial_started</td>\n",
       "      <td>NaN</td>\n",
       "    </tr>\n",
       "    <tr>\n",
       "      <th>3448</th>\n",
       "      <td>3449</td>\n",
       "      <td>2025-02-09</td>\n",
       "      <td>992</td>\n",
       "      <td>trial_started</td>\n",
       "      <td>NaN</td>\n",
       "    </tr>\n",
       "    <tr>\n",
       "      <th>3458</th>\n",
       "      <td>3459</td>\n",
       "      <td>2024-10-04</td>\n",
       "      <td>995</td>\n",
       "      <td>trial_started</td>\n",
       "      <td>NaN</td>\n",
       "    </tr>\n",
       "    <tr>\n",
       "      <th>3483</th>\n",
       "      <td>3484</td>\n",
       "      <td>2025-02-25</td>\n",
       "      <td>1001</td>\n",
       "      <td>trial_started</td>\n",
       "      <td>NaN</td>\n",
       "    </tr>\n",
       "  </tbody>\n",
       "</table>\n",
       "<p>210 rows × 5 columns</p>\n",
       "</div>"
      ],
      "text/plain": [
       "        id created_at  user_id     event_name  amount_usd\n",
       "1        2 2024-05-12        1  trial_started         NaN\n",
       "4        5 2024-10-13        2  trial_started         NaN\n",
       "44      45 2024-01-14       12  trial_started         NaN\n",
       "63      64 2024-07-12       15  trial_started         NaN\n",
       "66      67 2024-04-28       16  trial_started         NaN\n",
       "...    ...        ...      ...            ...         ...\n",
       "3432  3433 2025-01-17      989  trial_started         NaN\n",
       "3438  3439 2024-11-26      990  trial_started         NaN\n",
       "3448  3449 2025-02-09      992  trial_started         NaN\n",
       "3458  3459 2024-10-04      995  trial_started         NaN\n",
       "3483  3484 2025-02-25     1001  trial_started         NaN\n",
       "\n",
       "[210 rows x 5 columns]"
      ]
     },
     "execution_count": 323,
     "metadata": {},
     "output_type": "execute_result"
    }
   ],
   "source": [
    "instagram_trials = events_df[(events_df['event_name'] == 'trial_started') & (events_df['user_id'].isin(instagram_users['id'])) ]\n",
    "\n",
    "# Filtering events by their type and if they are in instagram_users.\n",
    "\n",
    "instagram_trials"
   ]
  },
  {
   "cell_type": "code",
   "execution_count": 324,
   "metadata": {},
   "outputs": [],
   "source": [
    "# I can see row count, but return should be an int value so I should get it's len().\n",
    "\n",
    "total_instagram_trials = len(instagram_trials)"
   ]
  },
  {
   "cell_type": "markdown",
   "metadata": {},
   "source": [
    "#### Task 2 - A:"
   ]
  },
  {
   "cell_type": "code",
   "execution_count": 325,
   "metadata": {},
   "outputs": [
    {
     "data": {
      "text/plain": [
       "210"
      ]
     },
     "execution_count": 325,
     "metadata": {},
     "output_type": "execute_result"
    }
   ],
   "source": [
    "total_instagram_trials"
   ]
  },
  {
   "cell_type": "code",
   "execution_count": 326,
   "metadata": {},
   "outputs": [
    {
     "data": {
      "text/plain": [
       "Text(0, 0.5, 'Number of Trials')"
      ]
     },
     "execution_count": 326,
     "metadata": {},
     "output_type": "execute_result"
    },
    {
     "data": {
      "image/png": "[encoded data removed]",
      "text/plain": [
       "<Figure size 800x550 with 1 Axes>"
      ]
     },
     "metadata": {},
     "output_type": "display_data"
    }
   ],
   "source": [
    "# Graph for trial/country\n",
    "instagram_trials_by_country = instagram_trials.merge(\n",
    "    users_df[['id', 'country']], \n",
    "    left_on='user_id', \n",
    "    right_on='id'\n",
    ")\n",
    "sns.countplot(data=instagram_trials_by_country, x='country')\n",
    "plt.title('Instagram Trials by Country')\n",
    "plt.xlabel('Country')\n",
    "plt.ylabel('Number of Trials')"
   ]
  },
  {
   "cell_type": "markdown",
   "metadata": {},
   "source": [
    "### Task 3\n",
    "Create a new column named 'acquisition_channel' by categorizing users based on their 'attribution_source':\n",
    "   - 'Paid': users from instagram or tiktok\n",
    "   - 'Organic': users from organic sources"
   ]
  },
  {
   "cell_type": "code",
   "execution_count": 327,
   "metadata": {},
   "outputs": [
    {
     "data": {
      "text/html": [
       "<div>\n",
       "<style scoped>\n",
       "    .dataframe tbody tr th:only-of-type {\n",
       "        vertical-align: middle;\n",
       "    }\n",
       "\n",
       "    .dataframe tbody tr th {\n",
       "        vertical-align: top;\n",
       "    }\n",
       "\n",
       "    .dataframe thead th {\n",
       "        text-align: right;\n",
       "    }\n",
       "</style>\n",
       "<table border=\"1\" class=\"dataframe\">\n",
       "  <thead>\n",
       "    <tr style=\"text-align: right;\">\n",
       "      <th></th>\n",
       "      <th>id</th>\n",
       "      <th>created_at</th>\n",
       "      <th>attribution_source</th>\n",
       "      <th>country</th>\n",
       "      <th>name</th>\n",
       "      <th>acquisition_channel</th>\n",
       "    </tr>\n",
       "  </thead>\n",
       "  <tbody>\n",
       "    <tr>\n",
       "      <th>0</th>\n",
       "      <td>1</td>\n",
       "      <td>2024-05-07</td>\n",
       "      <td>instagram</td>\n",
       "      <td>US</td>\n",
       "      <td>Eve Brown</td>\n",
       "      <td>Organic</td>\n",
       "    </tr>\n",
       "    <tr>\n",
       "      <th>1</th>\n",
       "      <td>2</td>\n",
       "      <td>2024-10-12</td>\n",
       "      <td>instagram</td>\n",
       "      <td>NL</td>\n",
       "      <td>Frank Moore</td>\n",
       "      <td>Organic</td>\n",
       "    </tr>\n",
       "    <tr>\n",
       "      <th>2</th>\n",
       "      <td>3</td>\n",
       "      <td>2024-10-15</td>\n",
       "      <td>tiktok</td>\n",
       "      <td>TR</td>\n",
       "      <td>Ivy Anderson</td>\n",
       "      <td>Organic</td>\n",
       "    </tr>\n",
       "    <tr>\n",
       "      <th>3</th>\n",
       "      <td>4</td>\n",
       "      <td>2024-08-28</td>\n",
       "      <td>tiktok</td>\n",
       "      <td>TR</td>\n",
       "      <td>Alice Brown</td>\n",
       "      <td>Organic</td>\n",
       "    </tr>\n",
       "    <tr>\n",
       "      <th>4</th>\n",
       "      <td>5</td>\n",
       "      <td>2024-04-03</td>\n",
       "      <td>organic</td>\n",
       "      <td>NL</td>\n",
       "      <td>Bob Moore</td>\n",
       "      <td>Organic</td>\n",
       "    </tr>\n",
       "  </tbody>\n",
       "</table>\n",
       "</div>"
      ],
      "text/plain": [
       "   id created_at attribution_source country          name acquisition_channel\n",
       "0   1 2024-05-07          instagram      US     Eve Brown             Organic\n",
       "1   2 2024-10-12          instagram      NL   Frank Moore             Organic\n",
       "2   3 2024-10-15             tiktok      TR  Ivy Anderson             Organic\n",
       "3   4 2024-08-28             tiktok      TR   Alice Brown             Organic\n",
       "4   5 2024-04-03            organic      NL     Bob Moore             Organic"
      ]
     },
     "execution_count": 327,
     "metadata": {},
     "output_type": "execute_result"
    }
   ],
   "source": [
    "# Making every acquistion channel organic and filtering with soruce to modify their values to paid.\n",
    "updated_users_df = users_df.copy() # Copying originial df to not modify any original value.\n",
    "updated_users_df['acquisition_channel'] = 'Organic' # Making every acquistion channel organic.\n",
    "\n",
    "updated_users_df.head()"
   ]
  },
  {
   "cell_type": "code",
   "execution_count": 328,
   "metadata": {},
   "outputs": [
    {
     "data": {
      "text/html": [
       "<div>\n",
       "<style scoped>\n",
       "    .dataframe tbody tr th:only-of-type {\n",
       "        vertical-align: middle;\n",
       "    }\n",
       "\n",
       "    .dataframe tbody tr th {\n",
       "        vertical-align: top;\n",
       "    }\n",
       "\n",
       "    .dataframe thead th {\n",
       "        text-align: right;\n",
       "    }\n",
       "</style>\n",
       "<table border=\"1\" class=\"dataframe\">\n",
       "  <thead>\n",
       "    <tr style=\"text-align: right;\">\n",
       "      <th></th>\n",
       "      <th>id</th>\n",
       "      <th>created_at</th>\n",
       "      <th>attribution_source</th>\n",
       "      <th>country</th>\n",
       "      <th>name</th>\n",
       "      <th>acquisition_channel</th>\n",
       "    </tr>\n",
       "  </thead>\n",
       "  <tbody>\n",
       "    <tr>\n",
       "      <th>0</th>\n",
       "      <td>1</td>\n",
       "      <td>2024-05-07</td>\n",
       "      <td>instagram</td>\n",
       "      <td>US</td>\n",
       "      <td>Eve Brown</td>\n",
       "      <td>Paid</td>\n",
       "    </tr>\n",
       "    <tr>\n",
       "      <th>1</th>\n",
       "      <td>2</td>\n",
       "      <td>2024-10-12</td>\n",
       "      <td>instagram</td>\n",
       "      <td>NL</td>\n",
       "      <td>Frank Moore</td>\n",
       "      <td>Paid</td>\n",
       "    </tr>\n",
       "    <tr>\n",
       "      <th>2</th>\n",
       "      <td>3</td>\n",
       "      <td>2024-10-15</td>\n",
       "      <td>tiktok</td>\n",
       "      <td>TR</td>\n",
       "      <td>Ivy Anderson</td>\n",
       "      <td>Paid</td>\n",
       "    </tr>\n",
       "    <tr>\n",
       "      <th>3</th>\n",
       "      <td>4</td>\n",
       "      <td>2024-08-28</td>\n",
       "      <td>tiktok</td>\n",
       "      <td>TR</td>\n",
       "      <td>Alice Brown</td>\n",
       "      <td>Paid</td>\n",
       "    </tr>\n",
       "    <tr>\n",
       "      <th>4</th>\n",
       "      <td>5</td>\n",
       "      <td>2024-04-03</td>\n",
       "      <td>organic</td>\n",
       "      <td>NL</td>\n",
       "      <td>Bob Moore</td>\n",
       "      <td>Organic</td>\n",
       "    </tr>\n",
       "  </tbody>\n",
       "</table>\n",
       "</div>"
      ],
      "text/plain": [
       "   id created_at attribution_source country          name acquisition_channel\n",
       "0   1 2024-05-07          instagram      US     Eve Brown                Paid\n",
       "1   2 2024-10-12          instagram      NL   Frank Moore                Paid\n",
       "2   3 2024-10-15             tiktok      TR  Ivy Anderson                Paid\n",
       "3   4 2024-08-28             tiktok      TR   Alice Brown                Paid\n",
       "4   5 2024-04-03            organic      NL     Bob Moore             Organic"
      ]
     },
     "execution_count": 328,
     "metadata": {},
     "output_type": "execute_result"
    }
   ],
   "source": [
    "# If users source is instagram or tiktok making it paid.\n",
    "updated_users_df.loc[updated_users_df['attribution_source'].isin(['instagram', 'tiktok']), 'acquisition_channel'] = 'Paid'\n",
    "\n",
    "updated_users_df.head()"
   ]
  },
  {
   "cell_type": "markdown",
   "metadata": {},
   "source": [
    "#### Task 3 - A:"
   ]
  },
  {
   "cell_type": "code",
   "execution_count": 329,
   "metadata": {},
   "outputs": [
    {
     "data": {
      "text/html": [
       "<div>\n",
       "<style scoped>\n",
       "    .dataframe tbody tr th:only-of-type {\n",
       "        vertical-align: middle;\n",
       "    }\n",
       "\n",
       "    .dataframe tbody tr th {\n",
       "        vertical-align: top;\n",
       "    }\n",
       "\n",
       "    .dataframe thead th {\n",
       "        text-align: right;\n",
       "    }\n",
       "</style>\n",
       "<table border=\"1\" class=\"dataframe\">\n",
       "  <thead>\n",
       "    <tr style=\"text-align: right;\">\n",
       "      <th></th>\n",
       "      <th>id</th>\n",
       "      <th>created_at</th>\n",
       "      <th>attribution_source</th>\n",
       "      <th>country</th>\n",
       "      <th>name</th>\n",
       "      <th>acquisition_channel</th>\n",
       "    </tr>\n",
       "  </thead>\n",
       "  <tbody>\n",
       "    <tr>\n",
       "      <th>0</th>\n",
       "      <td>1</td>\n",
       "      <td>2024-05-07</td>\n",
       "      <td>instagram</td>\n",
       "      <td>US</td>\n",
       "      <td>Eve Brown</td>\n",
       "      <td>Paid</td>\n",
       "    </tr>\n",
       "    <tr>\n",
       "      <th>1</th>\n",
       "      <td>2</td>\n",
       "      <td>2024-10-12</td>\n",
       "      <td>instagram</td>\n",
       "      <td>NL</td>\n",
       "      <td>Frank Moore</td>\n",
       "      <td>Paid</td>\n",
       "    </tr>\n",
       "    <tr>\n",
       "      <th>2</th>\n",
       "      <td>3</td>\n",
       "      <td>2024-10-15</td>\n",
       "      <td>tiktok</td>\n",
       "      <td>TR</td>\n",
       "      <td>Ivy Anderson</td>\n",
       "      <td>Paid</td>\n",
       "    </tr>\n",
       "    <tr>\n",
       "      <th>3</th>\n",
       "      <td>4</td>\n",
       "      <td>2024-08-28</td>\n",
       "      <td>tiktok</td>\n",
       "      <td>TR</td>\n",
       "      <td>Alice Brown</td>\n",
       "      <td>Paid</td>\n",
       "    </tr>\n",
       "    <tr>\n",
       "      <th>4</th>\n",
       "      <td>5</td>\n",
       "      <td>2024-04-03</td>\n",
       "      <td>organic</td>\n",
       "      <td>NL</td>\n",
       "      <td>Bob Moore</td>\n",
       "      <td>Organic</td>\n",
       "    </tr>\n",
       "    <tr>\n",
       "      <th>...</th>\n",
       "      <td>...</td>\n",
       "      <td>...</td>\n",
       "      <td>...</td>\n",
       "      <td>...</td>\n",
       "      <td>...</td>\n",
       "      <td>...</td>\n",
       "    </tr>\n",
       "    <tr>\n",
       "      <th>997</th>\n",
       "      <td>998</td>\n",
       "      <td>2025-02-01</td>\n",
       "      <td>instagram</td>\n",
       "      <td>TR</td>\n",
       "      <td>Bob Davis</td>\n",
       "      <td>Paid</td>\n",
       "    </tr>\n",
       "    <tr>\n",
       "      <th>998</th>\n",
       "      <td>999</td>\n",
       "      <td>2024-12-24</td>\n",
       "      <td>organic</td>\n",
       "      <td>NL</td>\n",
       "      <td>Charlie Davis</td>\n",
       "      <td>Organic</td>\n",
       "    </tr>\n",
       "    <tr>\n",
       "      <th>999</th>\n",
       "      <td>1000</td>\n",
       "      <td>2025-02-13</td>\n",
       "      <td>organic</td>\n",
       "      <td>NL</td>\n",
       "      <td>Jack Anderson</td>\n",
       "      <td>Organic</td>\n",
       "    </tr>\n",
       "    <tr>\n",
       "      <th>1000</th>\n",
       "      <td>1001</td>\n",
       "      <td>2025-02-16</td>\n",
       "      <td>instagram</td>\n",
       "      <td>US</td>\n",
       "      <td>Bruce Wayne</td>\n",
       "      <td>Paid</td>\n",
       "    </tr>\n",
       "    <tr>\n",
       "      <th>1001</th>\n",
       "      <td>1002</td>\n",
       "      <td>2025-02-16</td>\n",
       "      <td>organic</td>\n",
       "      <td>TR</td>\n",
       "      <td>Clark Kent</td>\n",
       "      <td>Organic</td>\n",
       "    </tr>\n",
       "  </tbody>\n",
       "</table>\n",
       "<p>1002 rows × 6 columns</p>\n",
       "</div>"
      ],
      "text/plain": [
       "        id created_at attribution_source country           name  \\\n",
       "0        1 2024-05-07          instagram      US      Eve Brown   \n",
       "1        2 2024-10-12          instagram      NL    Frank Moore   \n",
       "2        3 2024-10-15             tiktok      TR   Ivy Anderson   \n",
       "3        4 2024-08-28             tiktok      TR    Alice Brown   \n",
       "4        5 2024-04-03            organic      NL      Bob Moore   \n",
       "...    ...        ...                ...     ...            ...   \n",
       "997    998 2025-02-01          instagram      TR      Bob Davis   \n",
       "998    999 2024-12-24            organic      NL  Charlie Davis   \n",
       "999   1000 2025-02-13            organic      NL  Jack Anderson   \n",
       "1000  1001 2025-02-16          instagram      US    Bruce Wayne   \n",
       "1001  1002 2025-02-16            organic      TR     Clark Kent   \n",
       "\n",
       "     acquisition_channel  \n",
       "0                   Paid  \n",
       "1                   Paid  \n",
       "2                   Paid  \n",
       "3                   Paid  \n",
       "4                Organic  \n",
       "...                  ...  \n",
       "997                 Paid  \n",
       "998              Organic  \n",
       "999              Organic  \n",
       "1000                Paid  \n",
       "1001             Organic  \n",
       "\n",
       "[1002 rows x 6 columns]"
      ]
     },
     "execution_count": 329,
     "metadata": {},
     "output_type": "execute_result"
    }
   ],
   "source": [
    "updated_users_df"
   ]
  },
  {
   "cell_type": "code",
   "execution_count": 330,
   "metadata": {},
   "outputs": [
    {
     "data": {
      "text/plain": [
       "Text(0, 0.5, 'Number of Users')"
      ]
     },
     "execution_count": 330,
     "metadata": {},
     "output_type": "execute_result"
    },
    {
     "data": {
      "image/png": "[encoded data removed]",
      "text/plain": [
       "<Figure size 800x550 with 1 Axes>"
      ]
     },
     "metadata": {},
     "output_type": "display_data"
    }
   ],
   "source": [
    "# Graph for acquisition channel distribution over users count.\n",
    "sns.countplot(\n",
    "    data=updated_users_df,\n",
    "    x='acquisition_channel',\n",
    "    palette=['#ff6b6b', '#4ecdc4']\n",
    ")\n",
    "plt.title('Distribution of Acquisition Channels')\n",
    "plt.xlabel('Channel')\n",
    "plt.ylabel('Number of Users')"
   ]
  },
  {
   "cell_type": "markdown",
   "metadata": {},
   "source": [
    "### Task 4\n",
    "Analyze the trial-to-subscription conversion rate:\n",
    "   - Calculate the overall conversion rate\n",
    "   - Break down the conversion rate by attribution_source"
   ]
  },
  {
   "cell_type": "markdown",
   "metadata": {},
   "source": [
    "#### Task 4-1"
   ]
  },
  {
   "cell_type": "code",
   "execution_count": 331,
   "metadata": {},
   "outputs": [],
   "source": [
    "# Finding how many 'trails_started' and 'subscriptions_started'.\n",
    "\n",
    "total_trials = events_df[events_df['event_name'] == 'trial_started'].shape[0]\n",
    "total_conversions = events_df[events_df['event_name'] == 'subscription_started'].shape[0]"
   ]
  },
  {
   "cell_type": "code",
   "execution_count": 332,
   "metadata": {},
   "outputs": [],
   "source": [
    "# Calculating conversion rate.\n",
    "# Adding '%' to end of conversion rate.\n",
    "\n",
    "overall_conversion_rate = str(round((total_conversions / total_trials * 100), 2))+'%'"
   ]
  },
  {
   "cell_type": "markdown",
   "metadata": {},
   "source": [
    "##### Task 4-1 - A:"
   ]
  },
  {
   "cell_type": "code",
   "execution_count": 333,
   "metadata": {},
   "outputs": [
    {
     "data": {
      "text/plain": [
       "'70.53%'"
      ]
     },
     "execution_count": 333,
     "metadata": {},
     "output_type": "execute_result"
    }
   ],
   "source": [
    "overall_conversion_rate"
   ]
  },
  {
   "cell_type": "code",
   "execution_count": 334,
   "metadata": {},
   "outputs": [
    {
     "data": {
      "text/plain": [
       "Text(0.5, 1.0, 'Overall Trial to Subscription\\nConversion Rate')"
      ]
     },
     "execution_count": 334,
     "metadata": {},
     "output_type": "execute_result"
    },
    {
     "data": {
      "image/png": "[encoded data removed]",
      "text/plain": [
       "<Figure size 800x550 with 1 Axes>"
      ]
     },
     "metadata": {},
     "output_type": "display_data"
    }
   ],
   "source": [
    "# Graph for converion rate\n",
    "values = [total_conversions, total_trials - total_conversions]\n",
    "colors = ['#2ecc71', '#e74c3c']\n",
    "\n",
    "plt.pie(values, \n",
    "        labels=['Converted','Not Converted'], \n",
    "        autopct='%1.2f%%', \n",
    "        colors=colors,\n",
    "        startangle=90,\n",
    "        explode=(0.1, 0))\n",
    "plt.title('Overall Trial to Subscription\\nConversion Rate')"
   ]
  },
  {
   "cell_type": "markdown",
   "metadata": {},
   "source": [
    "#### Task 4-2"
   ]
  },
  {
   "cell_type": "code",
   "execution_count": 335,
   "metadata": {},
   "outputs": [
    {
     "data": {
      "text/html": [
       "<div>\n",
       "<style scoped>\n",
       "    .dataframe tbody tr th:only-of-type {\n",
       "        vertical-align: middle;\n",
       "    }\n",
       "\n",
       "    .dataframe tbody tr th {\n",
       "        vertical-align: top;\n",
       "    }\n",
       "\n",
       "    .dataframe thead th {\n",
       "        text-align: right;\n",
       "    }\n",
       "</style>\n",
       "<table border=\"1\" class=\"dataframe\">\n",
       "  <thead>\n",
       "    <tr style=\"text-align: right;\">\n",
       "      <th></th>\n",
       "      <th>id_x</th>\n",
       "      <th>created_at</th>\n",
       "      <th>user_id</th>\n",
       "      <th>event_name</th>\n",
       "      <th>amount_usd</th>\n",
       "      <th>id_y</th>\n",
       "      <th>attribution_source</th>\n",
       "    </tr>\n",
       "  </thead>\n",
       "  <tbody>\n",
       "    <tr>\n",
       "      <th>0</th>\n",
       "      <td>1</td>\n",
       "      <td>2024-05-07</td>\n",
       "      <td>1</td>\n",
       "      <td>app_install</td>\n",
       "      <td>NaN</td>\n",
       "      <td>1</td>\n",
       "      <td>instagram</td>\n",
       "    </tr>\n",
       "    <tr>\n",
       "      <th>1</th>\n",
       "      <td>2</td>\n",
       "      <td>2024-05-12</td>\n",
       "      <td>1</td>\n",
       "      <td>trial_started</td>\n",
       "      <td>NaN</td>\n",
       "      <td>1</td>\n",
       "      <td>instagram</td>\n",
       "    </tr>\n",
       "    <tr>\n",
       "      <th>2</th>\n",
       "      <td>3</td>\n",
       "      <td>2024-05-24</td>\n",
       "      <td>1</td>\n",
       "      <td>trial_cancelled</td>\n",
       "      <td>NaN</td>\n",
       "      <td>1</td>\n",
       "      <td>instagram</td>\n",
       "    </tr>\n",
       "    <tr>\n",
       "      <th>3</th>\n",
       "      <td>4</td>\n",
       "      <td>2024-10-12</td>\n",
       "      <td>2</td>\n",
       "      <td>app_install</td>\n",
       "      <td>NaN</td>\n",
       "      <td>2</td>\n",
       "      <td>instagram</td>\n",
       "    </tr>\n",
       "    <tr>\n",
       "      <th>4</th>\n",
       "      <td>5</td>\n",
       "      <td>2024-10-13</td>\n",
       "      <td>2</td>\n",
       "      <td>trial_started</td>\n",
       "      <td>NaN</td>\n",
       "      <td>2</td>\n",
       "      <td>instagram</td>\n",
       "    </tr>\n",
       "    <tr>\n",
       "      <th>...</th>\n",
       "      <td>...</td>\n",
       "      <td>...</td>\n",
       "      <td>...</td>\n",
       "      <td>...</td>\n",
       "      <td>...</td>\n",
       "      <td>...</td>\n",
       "      <td>...</td>\n",
       "    </tr>\n",
       "    <tr>\n",
       "      <th>3481</th>\n",
       "      <td>3482</td>\n",
       "      <td>2025-02-25</td>\n",
       "      <td>1000</td>\n",
       "      <td>trial_cancelled</td>\n",
       "      <td>NaN</td>\n",
       "      <td>1000</td>\n",
       "      <td>organic</td>\n",
       "    </tr>\n",
       "    <tr>\n",
       "      <th>3482</th>\n",
       "      <td>3483</td>\n",
       "      <td>2025-02-25</td>\n",
       "      <td>1001</td>\n",
       "      <td>app_install</td>\n",
       "      <td>NaN</td>\n",
       "      <td>1001</td>\n",
       "      <td>instagram</td>\n",
       "    </tr>\n",
       "    <tr>\n",
       "      <th>3483</th>\n",
       "      <td>3484</td>\n",
       "      <td>2025-02-25</td>\n",
       "      <td>1001</td>\n",
       "      <td>trial_started</td>\n",
       "      <td>NaN</td>\n",
       "      <td>1001</td>\n",
       "      <td>instagram</td>\n",
       "    </tr>\n",
       "    <tr>\n",
       "      <th>3484</th>\n",
       "      <td>3485</td>\n",
       "      <td>2025-02-25</td>\n",
       "      <td>1001</td>\n",
       "      <td>subscription_started</td>\n",
       "      <td>9.99</td>\n",
       "      <td>1001</td>\n",
       "      <td>instagram</td>\n",
       "    </tr>\n",
       "    <tr>\n",
       "      <th>3485</th>\n",
       "      <td>3486</td>\n",
       "      <td>2025-02-25</td>\n",
       "      <td>1002</td>\n",
       "      <td>app_install</td>\n",
       "      <td>NaN</td>\n",
       "      <td>1002</td>\n",
       "      <td>organic</td>\n",
       "    </tr>\n",
       "  </tbody>\n",
       "</table>\n",
       "<p>3486 rows × 7 columns</p>\n",
       "</div>"
      ],
      "text/plain": [
       "      id_x created_at  user_id            event_name  amount_usd  id_y  \\\n",
       "0        1 2024-05-07        1           app_install         NaN     1   \n",
       "1        2 2024-05-12        1         trial_started         NaN     1   \n",
       "2        3 2024-05-24        1       trial_cancelled         NaN     1   \n",
       "3        4 2024-10-12        2           app_install         NaN     2   \n",
       "4        5 2024-10-13        2         trial_started         NaN     2   \n",
       "...    ...        ...      ...                   ...         ...   ...   \n",
       "3481  3482 2025-02-25     1000       trial_cancelled         NaN  1000   \n",
       "3482  3483 2025-02-25     1001           app_install         NaN  1001   \n",
       "3483  3484 2025-02-25     1001         trial_started         NaN  1001   \n",
       "3484  3485 2025-02-25     1001  subscription_started        9.99  1001   \n",
       "3485  3486 2025-02-25     1002           app_install         NaN  1002   \n",
       "\n",
       "     attribution_source  \n",
       "0             instagram  \n",
       "1             instagram  \n",
       "2             instagram  \n",
       "3             instagram  \n",
       "4             instagram  \n",
       "...                 ...  \n",
       "3481            organic  \n",
       "3482          instagram  \n",
       "3483          instagram  \n",
       "3484          instagram  \n",
       "3485            organic  \n",
       "\n",
       "[3486 rows x 7 columns]"
      ]
     },
     "execution_count": 335,
     "metadata": {},
     "output_type": "execute_result"
    }
   ],
   "source": [
    "# Merging 'attribiton_source' with event_df.\n",
    "\n",
    "events_with_source = events_df.merge(\n",
    "    users_df[['id', 'attribution_source']], \n",
    "    left_on='user_id', \n",
    "    right_on='id'\n",
    ")\n",
    "\n",
    "events_with_source"
   ]
  },
  {
   "cell_type": "code",
   "execution_count": 336,
   "metadata": {},
   "outputs": [
    {
     "data": {
      "text/html": [
       "<div>\n",
       "<style scoped>\n",
       "    .dataframe tbody tr th:only-of-type {\n",
       "        vertical-align: middle;\n",
       "    }\n",
       "\n",
       "    .dataframe tbody tr th {\n",
       "        vertical-align: top;\n",
       "    }\n",
       "\n",
       "    .dataframe thead th {\n",
       "        text-align: right;\n",
       "    }\n",
       "</style>\n",
       "<table border=\"1\" class=\"dataframe\">\n",
       "  <thead>\n",
       "    <tr style=\"text-align: right;\">\n",
       "      <th></th>\n",
       "      <th>trials</th>\n",
       "      <th>subscriptions</th>\n",
       "    </tr>\n",
       "    <tr>\n",
       "      <th>attribution_source</th>\n",
       "      <th></th>\n",
       "      <th></th>\n",
       "    </tr>\n",
       "  </thead>\n",
       "  <tbody>\n",
       "    <tr>\n",
       "      <th>instagram</th>\n",
       "      <td>210</td>\n",
       "      <td>149</td>\n",
       "    </tr>\n",
       "    <tr>\n",
       "      <th>organic</th>\n",
       "      <td>236</td>\n",
       "      <td>169</td>\n",
       "    </tr>\n",
       "    <tr>\n",
       "      <th>tiktok</th>\n",
       "      <td>236</td>\n",
       "      <td>163</td>\n",
       "    </tr>\n",
       "  </tbody>\n",
       "</table>\n",
       "</div>"
      ],
      "text/plain": [
       "                    trials  subscriptions\n",
       "attribution_source                       \n",
       "instagram              210            149\n",
       "organic                236            169\n",
       "tiktok                 236            163"
      ]
     },
     "execution_count": 336,
     "metadata": {},
     "output_type": "execute_result"
    }
   ],
   "source": [
    "# Getting count of 'trial_started' and 'subscription_started' by source\n",
    "conversion_df = pd.DataFrame({\n",
    "    'trials': events_with_source[events_with_source['event_name'] == 'trial_started']\n",
    "                .groupby('attribution_source')\n",
    "                .size(),\n",
    "    'subscriptions': events_with_source[events_with_source['event_name'] == 'subscription_started']\n",
    "                .groupby('attribution_source')\n",
    "                .size()\n",
    "})\n",
    "\n",
    "conversion_df"
   ]
  },
  {
   "cell_type": "code",
   "execution_count": 337,
   "metadata": {},
   "outputs": [],
   "source": [
    "# Calculating conversion_rate with 'subscription_started' / 'trials_started'.\n",
    "conversion_df['conversion_rate'] = round((conversion_df['subscriptions'] / conversion_df['trials'] * 100), 2)\n",
    "\n",
    "# Adding '%' to the end.\n",
    "conversion_df['conversion_rate'] = conversion_df['conversion_rate'].astype(str) + '%' "
   ]
  },
  {
   "cell_type": "markdown",
   "metadata": {},
   "source": [
    "##### Task 4-2 - A:"
   ]
  },
  {
   "cell_type": "code",
   "execution_count": 338,
   "metadata": {},
   "outputs": [
    {
     "data": {
      "text/html": [
       "<div>\n",
       "<style scoped>\n",
       "    .dataframe tbody tr th:only-of-type {\n",
       "        vertical-align: middle;\n",
       "    }\n",
       "\n",
       "    .dataframe tbody tr th {\n",
       "        vertical-align: top;\n",
       "    }\n",
       "\n",
       "    .dataframe thead th {\n",
       "        text-align: right;\n",
       "    }\n",
       "</style>\n",
       "<table border=\"1\" class=\"dataframe\">\n",
       "  <thead>\n",
       "    <tr style=\"text-align: right;\">\n",
       "      <th></th>\n",
       "      <th>trials</th>\n",
       "      <th>subscriptions</th>\n",
       "      <th>conversion_rate</th>\n",
       "    </tr>\n",
       "    <tr>\n",
       "      <th>attribution_source</th>\n",
       "      <th></th>\n",
       "      <th></th>\n",
       "      <th></th>\n",
       "    </tr>\n",
       "  </thead>\n",
       "  <tbody>\n",
       "    <tr>\n",
       "      <th>instagram</th>\n",
       "      <td>210</td>\n",
       "      <td>149</td>\n",
       "      <td>70.95%</td>\n",
       "    </tr>\n",
       "    <tr>\n",
       "      <th>organic</th>\n",
       "      <td>236</td>\n",
       "      <td>169</td>\n",
       "      <td>71.61%</td>\n",
       "    </tr>\n",
       "    <tr>\n",
       "      <th>tiktok</th>\n",
       "      <td>236</td>\n",
       "      <td>163</td>\n",
       "      <td>69.07%</td>\n",
       "    </tr>\n",
       "  </tbody>\n",
       "</table>\n",
       "</div>"
      ],
      "text/plain": [
       "                    trials  subscriptions conversion_rate\n",
       "attribution_source                                       \n",
       "instagram              210            149          70.95%\n",
       "organic                236            169          71.61%\n",
       "tiktok                 236            163          69.07%"
      ]
     },
     "execution_count": 338,
     "metadata": {},
     "output_type": "execute_result"
    }
   ],
   "source": [
    "conversion_df"
   ]
  },
  {
   "cell_type": "code",
   "execution_count": 339,
   "metadata": {},
   "outputs": [
    {
     "data": {
      "text/plain": [
       "Text(0, 0.5, 'Conversion Rate (%)')"
      ]
     },
     "execution_count": 339,
     "metadata": {},
     "output_type": "execute_result"
    },
    {
     "data": {
      "image/png": "[encoded data removed]",
      "text/plain": [
       "<Figure size 800x550 with 1 Axes>"
      ]
     },
     "metadata": {},
     "output_type": "display_data"
    }
   ],
   "source": [
    "# Graph for conversion rate by source\n",
    "conversion_rates = conversion_df['conversion_rate'].str.rstrip('%').astype(float)\n",
    "bars = plt.bar(conversion_df.index, conversion_rates, color=['#3498db', '#2ecc71', '#e74c3c'])\n",
    "plt.title('Conversion Rate by Attribution Source')\n",
    "plt.xlabel('Source')\n",
    "plt.ylabel('Conversion Rate (%)')\n"
   ]
  },
  {
   "cell_type": "markdown",
   "metadata": {},
   "source": [
    "#### Task 4-Optional"
   ]
  },
  {
   "cell_type": "markdown",
   "metadata": {},
   "source": [
    "In this part we will create a df and graph for percentaging subscription to source"
   ]
  },
  {
   "cell_type": "code",
   "execution_count": 340,
   "metadata": {},
   "outputs": [
    {
     "data": {
      "text/html": [
       "<div>\n",
       "<style scoped>\n",
       "    .dataframe tbody tr th:only-of-type {\n",
       "        vertical-align: middle;\n",
       "    }\n",
       "\n",
       "    .dataframe tbody tr th {\n",
       "        vertical-align: top;\n",
       "    }\n",
       "\n",
       "    .dataframe thead th {\n",
       "        text-align: right;\n",
       "    }\n",
       "</style>\n",
       "<table border=\"1\" class=\"dataframe\">\n",
       "  <thead>\n",
       "    <tr style=\"text-align: right;\">\n",
       "      <th></th>\n",
       "      <th>subscriptions</th>\n",
       "    </tr>\n",
       "    <tr>\n",
       "      <th>attribution_source</th>\n",
       "      <th></th>\n",
       "    </tr>\n",
       "  </thead>\n",
       "  <tbody>\n",
       "    <tr>\n",
       "      <th>instagram</th>\n",
       "      <td>149</td>\n",
       "    </tr>\n",
       "    <tr>\n",
       "      <th>organic</th>\n",
       "      <td>169</td>\n",
       "    </tr>\n",
       "    <tr>\n",
       "      <th>tiktok</th>\n",
       "      <td>163</td>\n",
       "    </tr>\n",
       "  </tbody>\n",
       "</table>\n",
       "</div>"
      ],
      "text/plain": [
       "                    subscriptions\n",
       "attribution_source               \n",
       "instagram                     149\n",
       "organic                       169\n",
       "tiktok                        163"
      ]
     },
     "execution_count": 340,
     "metadata": {},
     "output_type": "execute_result"
    }
   ],
   "source": [
    "# Finding how many subscriptions we get, yes I have already found it, but this is an optional part, so I will find again.\n",
    "subs_df = pd.DataFrame({\n",
    "    'subscriptions' :events_with_source[events_with_source['event_name'] == 'subscription_started']\n",
    "                        .groupby('attribution_source')\n",
    "                        .size()})\n",
    "\n",
    "subs_df"
   ]
  },
  {
   "cell_type": "code",
   "execution_count": 341,
   "metadata": {},
   "outputs": [
    {
     "data": {
      "text/plain": [
       "subscriptions    481\n",
       "dtype: int64"
      ]
     },
     "execution_count": 341,
     "metadata": {},
     "output_type": "execute_result"
    }
   ],
   "source": [
    "# Total subscription value\n",
    "total_subs = subs_df.sum()\n",
    "total_subs"
   ]
  },
  {
   "cell_type": "code",
   "execution_count": 342,
   "metadata": {},
   "outputs": [
    {
     "data": {
      "text/plain": [
       "attribution_source\n",
       "instagram    30.98%\n",
       "organic      35.14%\n",
       "tiktok       33.89%\n",
       "Name: subscriptions, dtype: object"
      ]
     },
     "execution_count": 342,
     "metadata": {},
     "output_type": "execute_result"
    }
   ],
   "source": [
    "# Finding subscription percentage by soruce.\n",
    "subscription_percentage = round((subs_df / total_subs * 100), 2)\n",
    "subscription_percentage = subscription_percentage['subscriptions'].astype(str) + '%' # Adding '%' to end\n",
    "\n",
    "subscription_percentage"
   ]
  },
  {
   "cell_type": "code",
   "execution_count": 343,
   "metadata": {},
   "outputs": [],
   "source": [
    "# Series to Frame\n",
    "subscription_percentage_df = pd.DataFrame(subscription_percentage)\n",
    "\n",
    "# Renaming subscriptions to percantage.\n",
    "subscription_percentage_df = subscription_percentage_df.rename(columns={'subscriptions':'percentage'})"
   ]
  },
  {
   "cell_type": "markdown",
   "metadata": {},
   "source": [
    "##### Task 4-Opsionel - A:"
   ]
  },
  {
   "cell_type": "code",
   "execution_count": 344,
   "metadata": {},
   "outputs": [
    {
     "data": {
      "text/html": [
       "<div>\n",
       "<style scoped>\n",
       "    .dataframe tbody tr th:only-of-type {\n",
       "        vertical-align: middle;\n",
       "    }\n",
       "\n",
       "    .dataframe tbody tr th {\n",
       "        vertical-align: top;\n",
       "    }\n",
       "\n",
       "    .dataframe thead th {\n",
       "        text-align: right;\n",
       "    }\n",
       "</style>\n",
       "<table border=\"1\" class=\"dataframe\">\n",
       "  <thead>\n",
       "    <tr style=\"text-align: right;\">\n",
       "      <th></th>\n",
       "      <th>percentage</th>\n",
       "    </tr>\n",
       "    <tr>\n",
       "      <th>attribution_source</th>\n",
       "      <th></th>\n",
       "    </tr>\n",
       "  </thead>\n",
       "  <tbody>\n",
       "    <tr>\n",
       "      <th>instagram</th>\n",
       "      <td>30.98%</td>\n",
       "    </tr>\n",
       "    <tr>\n",
       "      <th>organic</th>\n",
       "      <td>35.14%</td>\n",
       "    </tr>\n",
       "    <tr>\n",
       "      <th>tiktok</th>\n",
       "      <td>33.89%</td>\n",
       "    </tr>\n",
       "  </tbody>\n",
       "</table>\n",
       "</div>"
      ],
      "text/plain": [
       "                   percentage\n",
       "attribution_source           \n",
       "instagram              30.98%\n",
       "organic                35.14%\n",
       "tiktok                 33.89%"
      ]
     },
     "execution_count": 344,
     "metadata": {},
     "output_type": "execute_result"
    }
   ],
   "source": [
    "subscription_percentage_df # Total value round to %100.01 because of rounding error but it's not a significant error so lets continue with other task."
   ]
  },
  {
   "cell_type": "code",
   "execution_count": 345,
   "metadata": {},
   "outputs": [
    {
     "data": {
      "text/plain": [
       "Text(0.5, 1.0, 'Subscription Distribution by Source')"
      ]
     },
     "execution_count": 345,
     "metadata": {},
     "output_type": "execute_result"
    },
    {
     "data": {
      "image/png": "[encoded data removed]",
      "text/plain": [
       "<Figure size 800x550 with 1 Axes>"
      ]
     },
     "metadata": {},
     "output_type": "display_data"
    }
   ],
   "source": [
    "# Graph for distributon by source.\n",
    "\n",
    "subscription_percentages = subscription_percentage_df['percentage'].str.rstrip('%').astype(float)\n",
    "plt.pie(subscription_percentages, \n",
    "        labels=subscription_percentage_df.index,\n",
    "        autopct='%1.2f%%',\n",
    "        startangle=90,\n",
    "        explode=[0.05] * len(subscription_percentage_df))\n",
    "plt.title('Subscription Distribution by Source')"
   ]
  },
  {
   "cell_type": "markdown",
   "metadata": {},
   "source": [
    "### Task 5\n",
    "\n",
    "Calculate the median subscription duration (in months) for each country"
   ]
  },
  {
   "cell_type": "code",
   "execution_count": 346,
   "metadata": {},
   "outputs": [
    {
     "data": {
      "text/html": [
       "<div>\n",
       "<style scoped>\n",
       "    .dataframe tbody tr th:only-of-type {\n",
       "        vertical-align: middle;\n",
       "    }\n",
       "\n",
       "    .dataframe tbody tr th {\n",
       "        vertical-align: top;\n",
       "    }\n",
       "\n",
       "    .dataframe thead th {\n",
       "        text-align: right;\n",
       "    }\n",
       "</style>\n",
       "<table border=\"1\" class=\"dataframe\">\n",
       "  <thead>\n",
       "    <tr style=\"text-align: right;\">\n",
       "      <th></th>\n",
       "      <th>id_x</th>\n",
       "      <th>created_at</th>\n",
       "      <th>user_id</th>\n",
       "      <th>event_name</th>\n",
       "      <th>amount_usd</th>\n",
       "      <th>id_y</th>\n",
       "      <th>country</th>\n",
       "    </tr>\n",
       "  </thead>\n",
       "  <tbody>\n",
       "    <tr>\n",
       "      <th>0</th>\n",
       "      <td>6</td>\n",
       "      <td>2024-10-20</td>\n",
       "      <td>2</td>\n",
       "      <td>subscription_started</td>\n",
       "      <td>8.99</td>\n",
       "      <td>2</td>\n",
       "      <td>NL</td>\n",
       "    </tr>\n",
       "    <tr>\n",
       "      <th>1</th>\n",
       "      <td>7</td>\n",
       "      <td>2024-11-19</td>\n",
       "      <td>2</td>\n",
       "      <td>subscription_renewed</td>\n",
       "      <td>8.99</td>\n",
       "      <td>2</td>\n",
       "      <td>NL</td>\n",
       "    </tr>\n",
       "    <tr>\n",
       "      <th>2</th>\n",
       "      <td>8</td>\n",
       "      <td>2024-12-19</td>\n",
       "      <td>2</td>\n",
       "      <td>subscription_renewed</td>\n",
       "      <td>8.99</td>\n",
       "      <td>2</td>\n",
       "      <td>NL</td>\n",
       "    </tr>\n",
       "    <tr>\n",
       "      <th>3</th>\n",
       "      <td>9</td>\n",
       "      <td>2025-01-18</td>\n",
       "      <td>2</td>\n",
       "      <td>subscription_renewed</td>\n",
       "      <td>8.99</td>\n",
       "      <td>2</td>\n",
       "      <td>NL</td>\n",
       "    </tr>\n",
       "    <tr>\n",
       "      <th>4</th>\n",
       "      <td>13</td>\n",
       "      <td>2024-10-21</td>\n",
       "      <td>3</td>\n",
       "      <td>subscription_started</td>\n",
       "      <td>4.99</td>\n",
       "      <td>3</td>\n",
       "      <td>TR</td>\n",
       "    </tr>\n",
       "    <tr>\n",
       "      <th>...</th>\n",
       "      <td>...</td>\n",
       "      <td>...</td>\n",
       "      <td>...</td>\n",
       "      <td>...</td>\n",
       "      <td>...</td>\n",
       "      <td>...</td>\n",
       "      <td>...</td>\n",
       "    </tr>\n",
       "    <tr>\n",
       "      <th>1226</th>\n",
       "      <td>3468</td>\n",
       "      <td>2025-04-07</td>\n",
       "      <td>996</td>\n",
       "      <td>subscription_renewed</td>\n",
       "      <td>4.99</td>\n",
       "      <td>996</td>\n",
       "      <td>TR</td>\n",
       "    </tr>\n",
       "    <tr>\n",
       "      <th>1227</th>\n",
       "      <td>3476</td>\n",
       "      <td>2025-01-03</td>\n",
       "      <td>999</td>\n",
       "      <td>subscription_started</td>\n",
       "      <td>8.99</td>\n",
       "      <td>999</td>\n",
       "      <td>NL</td>\n",
       "    </tr>\n",
       "    <tr>\n",
       "      <th>1228</th>\n",
       "      <td>3477</td>\n",
       "      <td>2025-02-02</td>\n",
       "      <td>999</td>\n",
       "      <td>subscription_renewed</td>\n",
       "      <td>8.99</td>\n",
       "      <td>999</td>\n",
       "      <td>NL</td>\n",
       "    </tr>\n",
       "    <tr>\n",
       "      <th>1229</th>\n",
       "      <td>3478</td>\n",
       "      <td>2025-03-04</td>\n",
       "      <td>999</td>\n",
       "      <td>subscription_renewed</td>\n",
       "      <td>8.99</td>\n",
       "      <td>999</td>\n",
       "      <td>NL</td>\n",
       "    </tr>\n",
       "    <tr>\n",
       "      <th>1230</th>\n",
       "      <td>3485</td>\n",
       "      <td>2025-02-25</td>\n",
       "      <td>1001</td>\n",
       "      <td>subscription_started</td>\n",
       "      <td>9.99</td>\n",
       "      <td>1001</td>\n",
       "      <td>US</td>\n",
       "    </tr>\n",
       "  </tbody>\n",
       "</table>\n",
       "<p>1231 rows × 7 columns</p>\n",
       "</div>"
      ],
      "text/plain": [
       "      id_x created_at  user_id            event_name  amount_usd  id_y country\n",
       "0        6 2024-10-20        2  subscription_started        8.99     2      NL\n",
       "1        7 2024-11-19        2  subscription_renewed        8.99     2      NL\n",
       "2        8 2024-12-19        2  subscription_renewed        8.99     2      NL\n",
       "3        9 2025-01-18        2  subscription_renewed        8.99     2      NL\n",
       "4       13 2024-10-21        3  subscription_started        4.99     3      TR\n",
       "...    ...        ...      ...                   ...         ...   ...     ...\n",
       "1226  3468 2025-04-07      996  subscription_renewed        4.99   996      TR\n",
       "1227  3476 2025-01-03      999  subscription_started        8.99   999      NL\n",
       "1228  3477 2025-02-02      999  subscription_renewed        8.99   999      NL\n",
       "1229  3478 2025-03-04      999  subscription_renewed        8.99   999      NL\n",
       "1230  3485 2025-02-25     1001  subscription_started        9.99  1001      US\n",
       "\n",
       "[1231 rows x 7 columns]"
      ]
     },
     "execution_count": 346,
     "metadata": {},
     "output_type": "execute_result"
    }
   ],
   "source": [
    "# Creating a new table including events with name 'subscription_started' and 'subscription_renewed'\n",
    "subscription_events = events_df[\n",
    "    events_df['event_name'].isin(['subscription_started', 'subscription_renewed'])\n",
    "].merge(\n",
    "    users_df[['id', 'country']], \n",
    "    left_on='user_id', \n",
    "    right_on='id'\n",
    ")\n",
    "\n",
    "subscription_events"
   ]
  },
  {
   "cell_type": "code",
   "execution_count": 347,
   "metadata": {},
   "outputs": [
    {
     "data": {
      "text/html": [
       "<div>\n",
       "<style scoped>\n",
       "    .dataframe tbody tr th:only-of-type {\n",
       "        vertical-align: middle;\n",
       "    }\n",
       "\n",
       "    .dataframe tbody tr th {\n",
       "        vertical-align: top;\n",
       "    }\n",
       "\n",
       "    .dataframe thead th {\n",
       "        text-align: right;\n",
       "    }\n",
       "</style>\n",
       "<table border=\"1\" class=\"dataframe\">\n",
       "  <thead>\n",
       "    <tr style=\"text-align: right;\">\n",
       "      <th></th>\n",
       "      <th>user_id</th>\n",
       "      <th>country</th>\n",
       "      <th>months</th>\n",
       "    </tr>\n",
       "  </thead>\n",
       "  <tbody>\n",
       "    <tr>\n",
       "      <th>0</th>\n",
       "      <td>2</td>\n",
       "      <td>NL</td>\n",
       "      <td>4</td>\n",
       "    </tr>\n",
       "    <tr>\n",
       "      <th>1</th>\n",
       "      <td>3</td>\n",
       "      <td>TR</td>\n",
       "      <td>4</td>\n",
       "    </tr>\n",
       "    <tr>\n",
       "      <th>2</th>\n",
       "      <td>8</td>\n",
       "      <td>TR</td>\n",
       "      <td>2</td>\n",
       "    </tr>\n",
       "    <tr>\n",
       "      <th>3</th>\n",
       "      <td>9</td>\n",
       "      <td>US</td>\n",
       "      <td>2</td>\n",
       "    </tr>\n",
       "    <tr>\n",
       "      <th>4</th>\n",
       "      <td>10</td>\n",
       "      <td>US</td>\n",
       "      <td>2</td>\n",
       "    </tr>\n",
       "    <tr>\n",
       "      <th>...</th>\n",
       "      <td>...</td>\n",
       "      <td>...</td>\n",
       "      <td>...</td>\n",
       "    </tr>\n",
       "    <tr>\n",
       "      <th>476</th>\n",
       "      <td>992</td>\n",
       "      <td>US</td>\n",
       "      <td>5</td>\n",
       "    </tr>\n",
       "    <tr>\n",
       "      <th>477</th>\n",
       "      <td>995</td>\n",
       "      <td>US</td>\n",
       "      <td>3</td>\n",
       "    </tr>\n",
       "    <tr>\n",
       "      <th>478</th>\n",
       "      <td>996</td>\n",
       "      <td>TR</td>\n",
       "      <td>3</td>\n",
       "    </tr>\n",
       "    <tr>\n",
       "      <th>479</th>\n",
       "      <td>999</td>\n",
       "      <td>NL</td>\n",
       "      <td>3</td>\n",
       "    </tr>\n",
       "    <tr>\n",
       "      <th>480</th>\n",
       "      <td>1001</td>\n",
       "      <td>US</td>\n",
       "      <td>1</td>\n",
       "    </tr>\n",
       "  </tbody>\n",
       "</table>\n",
       "<p>481 rows × 3 columns</p>\n",
       "</div>"
      ],
      "text/plain": [
       "     user_id country  months\n",
       "0          2      NL       4\n",
       "1          3      TR       4\n",
       "2          8      TR       2\n",
       "3          9      US       2\n",
       "4         10      US       2\n",
       "..       ...     ...     ...\n",
       "476      992      US       5\n",
       "477      995      US       3\n",
       "478      996      TR       3\n",
       "479      999      NL       3\n",
       "480     1001      US       1\n",
       "\n",
       "[481 rows x 3 columns]"
      ]
     },
     "execution_count": 347,
     "metadata": {},
     "output_type": "execute_result"
    }
   ],
   "source": [
    "# As we have all the information, we can calculate values.\n",
    "subscription_duration = (subscription_events\n",
    "    .groupby(['user_id', 'country'])\n",
    "    .size()  # events per user.\n",
    "    .reset_index(name='months') # Renaming column from 0 to months for better understanding.\n",
    ")\n",
    "\n",
    "subscription_duration"
   ]
  },
  {
   "cell_type": "code",
   "execution_count": 348,
   "metadata": {},
   "outputs": [],
   "source": [
    "# I grouped countries and get their months median.\n",
    "median_duration = subscription_duration.groupby('country')['months'].median()\n",
    "\n",
    "\n",
    "median_duration_df = pd.DataFrame(median_duration) # Series to Frame"
   ]
  },
  {
   "cell_type": "markdown",
   "metadata": {},
   "source": [
    "#### Task 5 - A:"
   ]
  },
  {
   "cell_type": "code",
   "execution_count": 349,
   "metadata": {},
   "outputs": [
    {
     "data": {
      "text/html": [
       "<div>\n",
       "<style scoped>\n",
       "    .dataframe tbody tr th:only-of-type {\n",
       "        vertical-align: middle;\n",
       "    }\n",
       "\n",
       "    .dataframe tbody tr th {\n",
       "        vertical-align: top;\n",
       "    }\n",
       "\n",
       "    .dataframe thead th {\n",
       "        text-align: right;\n",
       "    }\n",
       "</style>\n",
       "<table border=\"1\" class=\"dataframe\">\n",
       "  <thead>\n",
       "    <tr style=\"text-align: right;\">\n",
       "      <th></th>\n",
       "      <th>months</th>\n",
       "    </tr>\n",
       "    <tr>\n",
       "      <th>country</th>\n",
       "      <th></th>\n",
       "    </tr>\n",
       "  </thead>\n",
       "  <tbody>\n",
       "    <tr>\n",
       "      <th>NL</th>\n",
       "      <td>2.0</td>\n",
       "    </tr>\n",
       "    <tr>\n",
       "      <th>TR</th>\n",
       "      <td>3.0</td>\n",
       "    </tr>\n",
       "    <tr>\n",
       "      <th>US</th>\n",
       "      <td>2.0</td>\n",
       "    </tr>\n",
       "  </tbody>\n",
       "</table>\n",
       "</div>"
      ],
      "text/plain": [
       "         months\n",
       "country        \n",
       "NL          2.0\n",
       "TR          3.0\n",
       "US          2.0"
      ]
     },
     "execution_count": 349,
     "metadata": {},
     "output_type": "execute_result"
    }
   ],
   "source": [
    "median_duration_df"
   ]
  },
  {
   "cell_type": "code",
   "execution_count": 350,
   "metadata": {},
   "outputs": [
    {
     "data": {
      "text/plain": [
       "Text(0, 0.5, 'Duration (Months)')"
      ]
     },
     "execution_count": 350,
     "metadata": {},
     "output_type": "execute_result"
    },
    {
     "data": {
      "image/png": "[encoded data removed]",
      "text/plain": [
       "<Figure size 800x550 with 1 Axes>"
      ]
     },
     "metadata": {},
     "output_type": "display_data"
    }
   ],
   "source": [
    "# Graph for duration/country\n",
    "bars = plt.bar(median_duration_df.index, \n",
    "               median_duration_df['months'])\n",
    "plt.title('Median Subscription Duration by Country')\n",
    "plt.xlabel('Country')\n",
    "plt.ylabel('Duration (Months)')"
   ]
  },
  {
   "cell_type": "markdown",
   "metadata": {},
   "source": [
    "### Task 6\n",
    "Calculate the Average Lifetime Value (LTV) by country"
   ]
  },
  {
   "cell_type": "code",
   "execution_count": 351,
   "metadata": {},
   "outputs": [
    {
     "data": {
      "text/html": [
       "<div>\n",
       "<style scoped>\n",
       "    .dataframe tbody tr th:only-of-type {\n",
       "        vertical-align: middle;\n",
       "    }\n",
       "\n",
       "    .dataframe tbody tr th {\n",
       "        vertical-align: top;\n",
       "    }\n",
       "\n",
       "    .dataframe thead th {\n",
       "        text-align: right;\n",
       "    }\n",
       "</style>\n",
       "<table border=\"1\" class=\"dataframe\">\n",
       "  <thead>\n",
       "    <tr style=\"text-align: right;\">\n",
       "      <th></th>\n",
       "      <th>id_x</th>\n",
       "      <th>created_at</th>\n",
       "      <th>user_id</th>\n",
       "      <th>event_name</th>\n",
       "      <th>amount_usd</th>\n",
       "      <th>id_y</th>\n",
       "      <th>country</th>\n",
       "    </tr>\n",
       "  </thead>\n",
       "  <tbody>\n",
       "    <tr>\n",
       "      <th>0</th>\n",
       "      <td>6</td>\n",
       "      <td>2024-10-20</td>\n",
       "      <td>2</td>\n",
       "      <td>subscription_started</td>\n",
       "      <td>8.99</td>\n",
       "      <td>2</td>\n",
       "      <td>NL</td>\n",
       "    </tr>\n",
       "    <tr>\n",
       "      <th>1</th>\n",
       "      <td>7</td>\n",
       "      <td>2024-11-19</td>\n",
       "      <td>2</td>\n",
       "      <td>subscription_renewed</td>\n",
       "      <td>8.99</td>\n",
       "      <td>2</td>\n",
       "      <td>NL</td>\n",
       "    </tr>\n",
       "    <tr>\n",
       "      <th>2</th>\n",
       "      <td>8</td>\n",
       "      <td>2024-12-19</td>\n",
       "      <td>2</td>\n",
       "      <td>subscription_renewed</td>\n",
       "      <td>8.99</td>\n",
       "      <td>2</td>\n",
       "      <td>NL</td>\n",
       "    </tr>\n",
       "    <tr>\n",
       "      <th>3</th>\n",
       "      <td>9</td>\n",
       "      <td>2025-01-18</td>\n",
       "      <td>2</td>\n",
       "      <td>subscription_renewed</td>\n",
       "      <td>8.99</td>\n",
       "      <td>2</td>\n",
       "      <td>NL</td>\n",
       "    </tr>\n",
       "    <tr>\n",
       "      <th>4</th>\n",
       "      <td>13</td>\n",
       "      <td>2024-10-21</td>\n",
       "      <td>3</td>\n",
       "      <td>subscription_started</td>\n",
       "      <td>4.99</td>\n",
       "      <td>3</td>\n",
       "      <td>TR</td>\n",
       "    </tr>\n",
       "  </tbody>\n",
       "</table>\n",
       "</div>"
      ],
      "text/plain": [
       "   id_x created_at  user_id            event_name  amount_usd  id_y country\n",
       "0     6 2024-10-20        2  subscription_started        8.99     2      NL\n",
       "1     7 2024-11-19        2  subscription_renewed        8.99     2      NL\n",
       "2     8 2024-12-19        2  subscription_renewed        8.99     2      NL\n",
       "3     9 2025-01-18        2  subscription_renewed        8.99     2      NL\n",
       "4    13 2024-10-21        3  subscription_started        4.99     3      TR"
      ]
     },
     "execution_count": 351,
     "metadata": {},
     "output_type": "execute_result"
    }
   ],
   "source": [
    "# Again, merging subs related columns with user_df's id and country.\n",
    "\n",
    "subscription_revenue = events_df[\n",
    "    events_df['event_name'].isin(['subscription_started', 'subscription_renewed'])\n",
    "].merge(\n",
    "    users_df[['id', 'country']], \n",
    "    left_on='user_id', \n",
    "    right_on='id'\n",
    ")\n",
    "\n",
    "subscription_revenue.head()"
   ]
  },
  {
   "cell_type": "code",
   "execution_count": 352,
   "metadata": {},
   "outputs": [
    {
     "data": {
      "text/html": [
       "<div>\n",
       "<style scoped>\n",
       "    .dataframe tbody tr th:only-of-type {\n",
       "        vertical-align: middle;\n",
       "    }\n",
       "\n",
       "    .dataframe tbody tr th {\n",
       "        vertical-align: top;\n",
       "    }\n",
       "\n",
       "    .dataframe thead th {\n",
       "        text-align: right;\n",
       "    }\n",
       "</style>\n",
       "<table border=\"1\" class=\"dataframe\">\n",
       "  <thead>\n",
       "    <tr style=\"text-align: right;\">\n",
       "      <th></th>\n",
       "      <th>user_id</th>\n",
       "      <th>country</th>\n",
       "      <th>amount_usd</th>\n",
       "    </tr>\n",
       "  </thead>\n",
       "  <tbody>\n",
       "    <tr>\n",
       "      <th>0</th>\n",
       "      <td>2</td>\n",
       "      <td>NL</td>\n",
       "      <td>35.96</td>\n",
       "    </tr>\n",
       "    <tr>\n",
       "      <th>1</th>\n",
       "      <td>3</td>\n",
       "      <td>TR</td>\n",
       "      <td>19.96</td>\n",
       "    </tr>\n",
       "    <tr>\n",
       "      <th>2</th>\n",
       "      <td>8</td>\n",
       "      <td>TR</td>\n",
       "      <td>9.98</td>\n",
       "    </tr>\n",
       "    <tr>\n",
       "      <th>3</th>\n",
       "      <td>9</td>\n",
       "      <td>US</td>\n",
       "      <td>19.98</td>\n",
       "    </tr>\n",
       "    <tr>\n",
       "      <th>4</th>\n",
       "      <td>10</td>\n",
       "      <td>US</td>\n",
       "      <td>19.98</td>\n",
       "    </tr>\n",
       "  </tbody>\n",
       "</table>\n",
       "</div>"
      ],
      "text/plain": [
       "   user_id country  amount_usd\n",
       "0        2      NL       35.96\n",
       "1        3      TR       19.96\n",
       "2        8      TR        9.98\n",
       "3        9      US       19.98\n",
       "4       10      US       19.98"
      ]
     },
     "execution_count": 352,
     "metadata": {},
     "output_type": "execute_result"
    }
   ],
   "source": [
    "# Calculating users total spendings.\n",
    "\n",
    "user_ltv = (subscription_revenue\n",
    "    .groupby(['user_id', 'country'])['amount_usd']\n",
    "    .sum()\n",
    "    .reset_index()\n",
    ")\n",
    "\n",
    "user_ltv.head()"
   ]
  },
  {
   "cell_type": "code",
   "execution_count": 353,
   "metadata": {},
   "outputs": [],
   "source": [
    "# I have every users' total revenue and country, I'm getting average value by calculating it by their groupings, countries.\n",
    "\n",
    "avg_ltv_by_country = pd.DataFrame(user_ltv\n",
    "    .groupby('country')['amount_usd']\n",
    "    .mean()\n",
    "    .round(2)\n",
    ")\n",
    "\n",
    "avg_ltv_by_country['amount_usd'] = '$'+avg_ltv_by_country['amount_usd'].astype(str)\n",
    "avg_ltv_by_country = avg_ltv_by_country.rename(columns={'amount_usd':'average_revenue'})\n"
   ]
  },
  {
   "cell_type": "markdown",
   "metadata": {},
   "source": [
    "#### Task 6 - A:"
   ]
  },
  {
   "cell_type": "code",
   "execution_count": 354,
   "metadata": {},
   "outputs": [
    {
     "data": {
      "text/html": [
       "<div>\n",
       "<style scoped>\n",
       "    .dataframe tbody tr th:only-of-type {\n",
       "        vertical-align: middle;\n",
       "    }\n",
       "\n",
       "    .dataframe tbody tr th {\n",
       "        vertical-align: top;\n",
       "    }\n",
       "\n",
       "    .dataframe thead th {\n",
       "        text-align: right;\n",
       "    }\n",
       "</style>\n",
       "<table border=\"1\" class=\"dataframe\">\n",
       "  <thead>\n",
       "    <tr style=\"text-align: right;\">\n",
       "      <th></th>\n",
       "      <th>average_revenue</th>\n",
       "    </tr>\n",
       "    <tr>\n",
       "      <th>country</th>\n",
       "      <th></th>\n",
       "    </tr>\n",
       "  </thead>\n",
       "  <tbody>\n",
       "    <tr>\n",
       "      <th>NL</th>\n",
       "      <td>$22.38</td>\n",
       "    </tr>\n",
       "    <tr>\n",
       "      <th>TR</th>\n",
       "      <td>$13.31</td>\n",
       "    </tr>\n",
       "    <tr>\n",
       "      <th>US</th>\n",
       "      <td>$25.07</td>\n",
       "    </tr>\n",
       "  </tbody>\n",
       "</table>\n",
       "</div>"
      ],
      "text/plain": [
       "        average_revenue\n",
       "country                \n",
       "NL               $22.38\n",
       "TR               $13.31\n",
       "US               $25.07"
      ]
     },
     "execution_count": 354,
     "metadata": {},
     "output_type": "execute_result"
    }
   ],
   "source": [
    "avg_ltv_by_country\n"
   ]
  },
  {
   "cell_type": "code",
   "execution_count": 355,
   "metadata": {},
   "outputs": [
    {
     "name": "stderr",
     "output_type": "stream",
     "text": [
      "C:\\Users\\batuh\\AppData\\Local\\Temp\\ipykernel_6588\\2589381735.py:1: FutureWarning: The default value of regex will change from True to False in a future version. In addition, single character regular expressions will *not* be treated as literal strings when regex=True.\n",
      "  ltv_values = avg_ltv_by_country['average_revenue'].str.replace('$', '').astype(float) # Str to float for graph\n"
     ]
    },
    {
     "data": {
      "text/plain": [
       "Text(0, 0.5, 'Average LTV (USD)')"
      ]
     },
     "execution_count": 355,
     "metadata": {},
     "output_type": "execute_result"
    },
    {
     "data": {
      "image/png": "[encoded data removed]",
      "text/plain": [
       "<Figure size 800x550 with 1 Axes>"
      ]
     },
     "metadata": {},
     "output_type": "display_data"
    }
   ],
   "source": [
    "ltv_values = avg_ltv_by_country['average_revenue'].str.replace('$', '').astype(float) # Str to float for graph\n",
    "\n",
    "# Graph for avgltv by country\n",
    "bars = plt.bar(avg_ltv_by_country.index, \n",
    "               ltv_values)\n",
    "plt.title('Average Lifetime Value by Country')\n",
    "plt.xlabel('Country')\n",
    "plt.ylabel('Average LTV (USD)')"
   ]
  },
  {
   "cell_type": "markdown",
   "metadata": {},
   "source": [
    "### Task 7\n",
    "Predict the churn probability for user #1002 (Clark Kent)\n",
    "\n",
    "Use any relevant features from the dataset\n",
    "Explain your model selection and feature engineering process\n",
    "Provide confidence intervals if applicable"
   ]
  },
  {
   "cell_type": "code",
   "execution_count": 356,
   "metadata": {},
   "outputs": [],
   "source": [
    "# Importing libraries\n",
    "\n",
    "from sklearn.model_selection import train_test_split\n",
    "from sklearn.preprocessing import StandardScaler\n",
    "from sklearn.linear_model import LogisticRegression\n",
    "import numpy as np"
   ]
  },
  {
   "cell_type": "code",
   "execution_count": 357,
   "metadata": {},
   "outputs": [],
   "source": [
    "# Making 'amount_usd' nulls to 0 for preventing error while modelling.\n",
    "\n",
    "events_df['amount_usd'] = events_df['amount_usd'].fillna(0)"
   ]
  },
  {
   "cell_type": "code",
   "execution_count": 358,
   "metadata": {},
   "outputs": [],
   "source": [
    "# Creating new feature and onehot encoding categorical values.\n",
    "\n",
    "def create_features(events_df, users_df):\n",
    "    user_features = []\n",
    "    \n",
    "    for user_id in users_df['id']:\n",
    "        user_events = events_df[events_df['user_id'] == user_id] # User's events table features\n",
    "        user_info = users_df[users_df['id'] == user_id].iloc[0] # User's users table features\n",
    "        \n",
    "        features = {\n",
    "            'user_id': user_id, # User_id for that user\n",
    "            'subscription_count': user_events[user_events['event_name'].isin(['subscription_started', 'subscription_renewed'])].shape[0], # How many times a user subscribes\n",
    "            'total_revenue': user_events['amount_usd'].sum(), # How much payment done by user\n",
    "            'had_trial': any(user_events['event_name'] == 'trial_started'), # Have user had any trial\n",
    "            'trial_converted': any(user_events['event_name'] == 'trial_started') and  \n",
    "                             any(user_events['event_name'] == 'subscription_started'), # Checking if user had 'trial_started' and 'subscriptiom_started'\n",
    "            'is_organic': user_info['attribution_source'] == 'organic', # Is user's attr_src organic\n",
    "            'is_instagram': user_info['attribution_source'] == 'instagram' ,# Is user's attr_src instagram\n",
    "            'is_tiktok': user_info['attribution_source'] == 'tiktok', # Is user's attr_src tiktok\n",
    "            'country_US': user_info['country'] == 'US', # Is user's country US\n",
    "            'country_TR': user_info['country'] == 'TR', # Is user's country TR\n",
    "            'country_NL': user_info['country'] == 'NL', # Is user's country NL\n",
    "            'churned': any(user_events['event_name'] == 'subscription_cancelled') # If user has a subs_cancel that user is churned\n",
    "        }\n",
    "        user_features.append(features)\n",
    "    \n",
    "    return pd.DataFrame(user_features)"
   ]
  },
  {
   "cell_type": "code",
   "execution_count": 359,
   "metadata": {},
   "outputs": [],
   "source": [
    "features_df = create_features(events_df, users_df) # Making df with function above."
   ]
  },
  {
   "cell_type": "code",
   "execution_count": 360,
   "metadata": {},
   "outputs": [
    {
     "data": {
      "text/html": [
       "<div>\n",
       "<style scoped>\n",
       "    .dataframe tbody tr th:only-of-type {\n",
       "        vertical-align: middle;\n",
       "    }\n",
       "\n",
       "    .dataframe tbody tr th {\n",
       "        vertical-align: top;\n",
       "    }\n",
       "\n",
       "    .dataframe thead th {\n",
       "        text-align: right;\n",
       "    }\n",
       "</style>\n",
       "<table border=\"1\" class=\"dataframe\">\n",
       "  <thead>\n",
       "    <tr style=\"text-align: right;\">\n",
       "      <th></th>\n",
       "      <th>user_id</th>\n",
       "      <th>subscription_count</th>\n",
       "      <th>total_revenue</th>\n",
       "      <th>had_trial</th>\n",
       "      <th>trial_converted</th>\n",
       "      <th>is_organic</th>\n",
       "      <th>is_instagram</th>\n",
       "      <th>is_tiktok</th>\n",
       "      <th>country_US</th>\n",
       "      <th>country_TR</th>\n",
       "      <th>country_NL</th>\n",
       "      <th>churned</th>\n",
       "    </tr>\n",
       "  </thead>\n",
       "  <tbody>\n",
       "    <tr>\n",
       "      <th>0</th>\n",
       "      <td>1</td>\n",
       "      <td>0</td>\n",
       "      <td>0.00</td>\n",
       "      <td>True</td>\n",
       "      <td>False</td>\n",
       "      <td>False</td>\n",
       "      <td>True</td>\n",
       "      <td>False</td>\n",
       "      <td>True</td>\n",
       "      <td>False</td>\n",
       "      <td>False</td>\n",
       "      <td>False</td>\n",
       "    </tr>\n",
       "    <tr>\n",
       "      <th>1</th>\n",
       "      <td>2</td>\n",
       "      <td>4</td>\n",
       "      <td>35.96</td>\n",
       "      <td>True</td>\n",
       "      <td>True</td>\n",
       "      <td>False</td>\n",
       "      <td>True</td>\n",
       "      <td>False</td>\n",
       "      <td>False</td>\n",
       "      <td>False</td>\n",
       "      <td>True</td>\n",
       "      <td>True</td>\n",
       "    </tr>\n",
       "    <tr>\n",
       "      <th>2</th>\n",
       "      <td>3</td>\n",
       "      <td>4</td>\n",
       "      <td>19.96</td>\n",
       "      <td>True</td>\n",
       "      <td>True</td>\n",
       "      <td>False</td>\n",
       "      <td>False</td>\n",
       "      <td>True</td>\n",
       "      <td>False</td>\n",
       "      <td>True</td>\n",
       "      <td>False</td>\n",
       "      <td>True</td>\n",
       "    </tr>\n",
       "    <tr>\n",
       "      <th>3</th>\n",
       "      <td>4</td>\n",
       "      <td>0</td>\n",
       "      <td>0.00</td>\n",
       "      <td>True</td>\n",
       "      <td>False</td>\n",
       "      <td>False</td>\n",
       "      <td>False</td>\n",
       "      <td>True</td>\n",
       "      <td>False</td>\n",
       "      <td>True</td>\n",
       "      <td>False</td>\n",
       "      <td>False</td>\n",
       "    </tr>\n",
       "    <tr>\n",
       "      <th>4</th>\n",
       "      <td>5</td>\n",
       "      <td>0</td>\n",
       "      <td>0.00</td>\n",
       "      <td>False</td>\n",
       "      <td>False</td>\n",
       "      <td>True</td>\n",
       "      <td>False</td>\n",
       "      <td>False</td>\n",
       "      <td>False</td>\n",
       "      <td>False</td>\n",
       "      <td>True</td>\n",
       "      <td>False</td>\n",
       "    </tr>\n",
       "    <tr>\n",
       "      <th>...</th>\n",
       "      <td>...</td>\n",
       "      <td>...</td>\n",
       "      <td>...</td>\n",
       "      <td>...</td>\n",
       "      <td>...</td>\n",
       "      <td>...</td>\n",
       "      <td>...</td>\n",
       "      <td>...</td>\n",
       "      <td>...</td>\n",
       "      <td>...</td>\n",
       "      <td>...</td>\n",
       "      <td>...</td>\n",
       "    </tr>\n",
       "    <tr>\n",
       "      <th>997</th>\n",
       "      <td>998</td>\n",
       "      <td>0</td>\n",
       "      <td>0.00</td>\n",
       "      <td>False</td>\n",
       "      <td>False</td>\n",
       "      <td>False</td>\n",
       "      <td>True</td>\n",
       "      <td>False</td>\n",
       "      <td>False</td>\n",
       "      <td>True</td>\n",
       "      <td>False</td>\n",
       "      <td>False</td>\n",
       "    </tr>\n",
       "    <tr>\n",
       "      <th>998</th>\n",
       "      <td>999</td>\n",
       "      <td>3</td>\n",
       "      <td>26.97</td>\n",
       "      <td>True</td>\n",
       "      <td>True</td>\n",
       "      <td>True</td>\n",
       "      <td>False</td>\n",
       "      <td>False</td>\n",
       "      <td>False</td>\n",
       "      <td>False</td>\n",
       "      <td>True</td>\n",
       "      <td>True</td>\n",
       "    </tr>\n",
       "    <tr>\n",
       "      <th>999</th>\n",
       "      <td>1000</td>\n",
       "      <td>0</td>\n",
       "      <td>0.00</td>\n",
       "      <td>True</td>\n",
       "      <td>False</td>\n",
       "      <td>True</td>\n",
       "      <td>False</td>\n",
       "      <td>False</td>\n",
       "      <td>False</td>\n",
       "      <td>False</td>\n",
       "      <td>True</td>\n",
       "      <td>False</td>\n",
       "    </tr>\n",
       "    <tr>\n",
       "      <th>1000</th>\n",
       "      <td>1001</td>\n",
       "      <td>1</td>\n",
       "      <td>9.99</td>\n",
       "      <td>True</td>\n",
       "      <td>True</td>\n",
       "      <td>False</td>\n",
       "      <td>True</td>\n",
       "      <td>False</td>\n",
       "      <td>True</td>\n",
       "      <td>False</td>\n",
       "      <td>False</td>\n",
       "      <td>False</td>\n",
       "    </tr>\n",
       "    <tr>\n",
       "      <th>1001</th>\n",
       "      <td>1002</td>\n",
       "      <td>0</td>\n",
       "      <td>0.00</td>\n",
       "      <td>False</td>\n",
       "      <td>False</td>\n",
       "      <td>True</td>\n",
       "      <td>False</td>\n",
       "      <td>False</td>\n",
       "      <td>False</td>\n",
       "      <td>True</td>\n",
       "      <td>False</td>\n",
       "      <td>False</td>\n",
       "    </tr>\n",
       "  </tbody>\n",
       "</table>\n",
       "<p>1002 rows × 12 columns</p>\n",
       "</div>"
      ],
      "text/plain": [
       "      user_id  subscription_count  total_revenue  had_trial  trial_converted  \\\n",
       "0           1                   0           0.00       True            False   \n",
       "1           2                   4          35.96       True             True   \n",
       "2           3                   4          19.96       True             True   \n",
       "3           4                   0           0.00       True            False   \n",
       "4           5                   0           0.00      False            False   \n",
       "...       ...                 ...            ...        ...              ...   \n",
       "997       998                   0           0.00      False            False   \n",
       "998       999                   3          26.97       True             True   \n",
       "999      1000                   0           0.00       True            False   \n",
       "1000     1001                   1           9.99       True             True   \n",
       "1001     1002                   0           0.00      False            False   \n",
       "\n",
       "      is_organic  is_instagram  is_tiktok  country_US  country_TR  country_NL  \\\n",
       "0          False          True      False        True       False       False   \n",
       "1          False          True      False       False       False        True   \n",
       "2          False         False       True       False        True       False   \n",
       "3          False         False       True       False        True       False   \n",
       "4           True         False      False       False       False        True   \n",
       "...          ...           ...        ...         ...         ...         ...   \n",
       "997        False          True      False       False        True       False   \n",
       "998         True         False      False       False       False        True   \n",
       "999         True         False      False       False       False        True   \n",
       "1000       False          True      False        True       False       False   \n",
       "1001        True         False      False       False        True       False   \n",
       "\n",
       "      churned  \n",
       "0       False  \n",
       "1        True  \n",
       "2        True  \n",
       "3       False  \n",
       "4       False  \n",
       "...       ...  \n",
       "997     False  \n",
       "998      True  \n",
       "999     False  \n",
       "1000    False  \n",
       "1001    False  \n",
       "\n",
       "[1002 rows x 12 columns]"
      ]
     },
     "execution_count": 360,
     "metadata": {},
     "output_type": "execute_result"
    }
   ],
   "source": [
    "features_df"
   ]
  },
  {
   "cell_type": "code",
   "execution_count": 361,
   "metadata": {},
   "outputs": [],
   "source": [
    "# Prediction target is 'churned' so we split df for training.\n",
    "X = features_df.drop(['user_id', 'churned'], axis=1) # User_id is irrelevant and the target is 'churned', so we drop those values.\n",
    "y = features_df['churned'] # The target value"
   ]
  },
  {
   "cell_type": "code",
   "execution_count": 362,
   "metadata": {},
   "outputs": [],
   "source": [
    "X_train, X_test, y_train, y_test = train_test_split(X, y, test_size=0.2, random_state=42) # Standart train test spliting"
   ]
  },
  {
   "cell_type": "code",
   "execution_count": 363,
   "metadata": {},
   "outputs": [],
   "source": [
    "# I scaled the features making them scaled because some features like total_rev will have higher impact on our target becasue most of our features are 0/1 -False/True.\n",
    "\n",
    "scaler = StandardScaler()\n",
    "X_train_scaled = scaler.fit_transform(X_train)\n",
    "X_test_scaled = scaler.transform(X_test)"
   ]
  },
  {
   "cell_type": "code",
   "execution_count": 364,
   "metadata": {},
   "outputs": [
    {
     "data": {
      "text/html": [
       "<style>#sk-container-id-4 {color: black;background-color: white;}#sk-container-id-4 pre{padding: 0;}#sk-container-id-4 div.sk-toggleable {background-color: white;}#sk-container-id-4 label.sk-toggleable__label {cursor: pointer;display: block;width: 100%;margin-bottom: 0;padding: 0.3em;box-sizing: border-box;text-align: center;}#sk-container-id-4 label.sk-toggleable__label-arrow:before {content: \"▸\";float: left;margin-right: 0.25em;color: #696969;}#sk-container-id-4 label.sk-toggleable__label-arrow:hover:before {color: black;}#sk-container-id-4 div.sk-estimator:hover label.sk-toggleable__label-arrow:before {color: black;}#sk-container-id-4 div.sk-toggleable__content {max-height: 0;max-width: 0;overflow: hidden;text-align: left;background-color: #f0f8ff;}#sk-container-id-4 div.sk-toggleable__content pre {margin: 0.2em;color: black;border-radius: 0.25em;background-color: #f0f8ff;}#sk-container-id-4 input.sk-toggleable__control:checked~div.sk-toggleable__content {max-height: 200px;max-width: 100%;overflow: auto;}#sk-container-id-4 input.sk-toggleable__control:checked~label.sk-toggleable__label-arrow:before {content: \"▾\";}#sk-container-id-4 div.sk-estimator input.sk-toggleable__control:checked~label.sk-toggleable__label {background-color: #d4ebff;}#sk-container-id-4 div.sk-label input.sk-toggleable__control:checked~label.sk-toggleable__label {background-color: #d4ebff;}#sk-container-id-4 input.sk-hidden--visually {border: 0;clip: rect(1px 1px 1px 1px);clip: rect(1px, 1px, 1px, 1px);height: 1px;margin: -1px;overflow: hidden;padding: 0;position: absolute;width: 1px;}#sk-container-id-4 div.sk-estimator {font-family: monospace;background-color: #f0f8ff;border: 1px dotted black;border-radius: 0.25em;box-sizing: border-box;margin-bottom: 0.5em;}#sk-container-id-4 div.sk-estimator:hover {background-color: #d4ebff;}#sk-container-id-4 div.sk-parallel-item::after {content: \"\";width: 100%;border-bottom: 1px solid gray;flex-grow: 1;}#sk-container-id-4 div.sk-label:hover label.sk-toggleable__label {background-color: #d4ebff;}#sk-container-id-4 div.sk-serial::before {content: \"\";position: absolute;border-left: 1px solid gray;box-sizing: border-box;top: 0;bottom: 0;left: 50%;z-index: 0;}#sk-container-id-4 div.sk-serial {display: flex;flex-direction: column;align-items: center;background-color: white;padding-right: 0.2em;padding-left: 0.2em;position: relative;}#sk-container-id-4 div.sk-item {position: relative;z-index: 1;}#sk-container-id-4 div.sk-parallel {display: flex;align-items: stretch;justify-content: center;background-color: white;position: relative;}#sk-container-id-4 div.sk-item::before, #sk-container-id-4 div.sk-parallel-item::before {content: \"\";position: absolute;border-left: 1px solid gray;box-sizing: border-box;top: 0;bottom: 0;left: 50%;z-index: -1;}#sk-container-id-4 div.sk-parallel-item {display: flex;flex-direction: column;z-index: 1;position: relative;background-color: white;}#sk-container-id-4 div.sk-parallel-item:first-child::after {align-self: flex-end;width: 50%;}#sk-container-id-4 div.sk-parallel-item:last-child::after {align-self: flex-start;width: 50%;}#sk-container-id-4 div.sk-parallel-item:only-child::after {width: 0;}#sk-container-id-4 div.sk-dashed-wrapped {border: 1px dashed gray;margin: 0 0.4em 0.5em 0.4em;box-sizing: border-box;padding-bottom: 0.4em;background-color: white;}#sk-container-id-4 div.sk-label label {font-family: monospace;font-weight: bold;display: inline-block;line-height: 1.2em;}#sk-container-id-4 div.sk-label-container {text-align: center;}#sk-container-id-4 div.sk-container {/* jupyter's `normalize.less` sets `[hidden] { display: none; }` but bootstrap.min.css set `[hidden] { display: none !important; }` so we also need the `!important` here to be able to override the default hidden behavior on the sphinx rendered scikit-learn.org. See: https://github.com/scikit-learn/scikit-learn/issues/21755 */display: inline-block !important;position: relative;}#sk-container-id-4 div.sk-text-repr-fallback {display: none;}</style><div id=\"sk-container-id-4\" class=\"sk-top-container\"><div class=\"sk-text-repr-fallback\"><pre>LogisticRegression(random_state=42)</pre><b>In a Jupyter environment, please rerun this cell to show the HTML representation or trust the notebook. <br />On GitHub, the HTML representation is unable to render, please try loading this page with nbviewer.org.</b></div><div class=\"sk-container\" hidden><div class=\"sk-item\"><div class=\"sk-estimator sk-toggleable\"><input class=\"sk-toggleable__control sk-hidden--visually\" id=\"sk-estimator-id-4\" type=\"checkbox\" checked><label for=\"sk-estimator-id-4\" class=\"sk-toggleable__label sk-toggleable__label-arrow\">LogisticRegression</label><div class=\"sk-toggleable__content\"><pre>LogisticRegression(random_state=42)</pre></div></div></div></div></div>"
      ],
      "text/plain": [
       "LogisticRegression(random_state=42)"
      ]
     },
     "execution_count": 364,
     "metadata": {},
     "output_type": "execute_result"
    }
   ],
   "source": [
    "'''\n",
    "I chose LogisticRegression because 'churned' value is True or False, it's a binary decision.\n",
    "I want to take a look at the feature importance for business strategies to determine in real life approaches.\n",
    "'''\n",
    "\n",
    "model = LogisticRegression(random_state=42) \n",
    "model.fit(X_train_scaled, y_train)\n",
    "\n"
   ]
  },
  {
   "cell_type": "code",
   "execution_count": 365,
   "metadata": {},
   "outputs": [],
   "source": [
    "user_1002_features = features_df[features_df['user_id'] == 1002].drop(['user_id', 'churned'], axis=1) # Getting features for user_id 1002\n",
    "user_1002_scaled = scaler.transform(user_1002_features) # Scaling values\n",
    "churn_probability = model.predict_proba(user_1002_scaled)[0][1] # Getting churn probability for user 1002"
   ]
  },
  {
   "cell_type": "code",
   "execution_count": 366,
   "metadata": {},
   "outputs": [],
   "source": [
    "# I have already found the probabilty but lest analayze more\n",
    "feature_impact = pd.DataFrame({\n",
    "    'feature': X.columns, # Features in df\n",
    "    'impact': model.coef_[0] # Coefficient for its impact value, it can be positive or negative\n",
    "})\n",
    "\n",
    "feature_impact = feature_impact.sort_values('impact', ascending=False) # Sorting impact values by their values."
   ]
  },
  {
   "cell_type": "code",
   "execution_count": 367,
   "metadata": {},
   "outputs": [],
   "source": [
    "# Making its importance to churn, it's almost the same df but with absolute value on impact -> importance column.\n",
    "\n",
    "feature_importance = pd.DataFrame({\n",
    "    'feature': feature_impact['feature'],\n",
    "    'importance': feature_impact['impact'].abs()\n",
    "})\n",
    "\n",
    "feature_importance = feature_importance.sort_values('importance', ascending=False)"
   ]
  },
  {
   "cell_type": "markdown",
   "metadata": {},
   "source": [
    "#### Task 7 - A:\n"
   ]
  },
  {
   "cell_type": "code",
   "execution_count": 368,
   "metadata": {},
   "outputs": [
    {
     "data": {
      "text/plain": [
       "0.0005141024656188886"
      ]
     },
     "execution_count": 368,
     "metadata": {},
     "output_type": "execute_result"
    }
   ],
   "source": [
    "churn_probability"
   ]
  },
  {
   "cell_type": "code",
   "execution_count": 369,
   "metadata": {},
   "outputs": [
    {
     "data": {
      "text/html": [
       "<div>\n",
       "<style scoped>\n",
       "    .dataframe tbody tr th:only-of-type {\n",
       "        vertical-align: middle;\n",
       "    }\n",
       "\n",
       "    .dataframe tbody tr th {\n",
       "        vertical-align: top;\n",
       "    }\n",
       "\n",
       "    .dataframe thead th {\n",
       "        text-align: right;\n",
       "    }\n",
       "</style>\n",
       "<table border=\"1\" class=\"dataframe\">\n",
       "  <thead>\n",
       "    <tr style=\"text-align: right;\">\n",
       "      <th></th>\n",
       "      <th>feature</th>\n",
       "      <th>impact</th>\n",
       "    </tr>\n",
       "  </thead>\n",
       "  <tbody>\n",
       "    <tr>\n",
       "      <th>0</th>\n",
       "      <td>subscription_count</td>\n",
       "      <td>4.540945</td>\n",
       "    </tr>\n",
       "    <tr>\n",
       "      <th>1</th>\n",
       "      <td>total_revenue</td>\n",
       "      <td>3.838298</td>\n",
       "    </tr>\n",
       "    <tr>\n",
       "      <th>8</th>\n",
       "      <td>country_TR</td>\n",
       "      <td>0.638214</td>\n",
       "    </tr>\n",
       "    <tr>\n",
       "      <th>3</th>\n",
       "      <td>trial_converted</td>\n",
       "      <td>0.230802</td>\n",
       "    </tr>\n",
       "    <tr>\n",
       "      <th>2</th>\n",
       "      <td>had_trial</td>\n",
       "      <td>0.134874</td>\n",
       "    </tr>\n",
       "    <tr>\n",
       "      <th>5</th>\n",
       "      <td>is_instagram</td>\n",
       "      <td>0.064670</td>\n",
       "    </tr>\n",
       "    <tr>\n",
       "      <th>6</th>\n",
       "      <td>is_tiktok</td>\n",
       "      <td>-0.020954</td>\n",
       "    </tr>\n",
       "    <tr>\n",
       "      <th>4</th>\n",
       "      <td>is_organic</td>\n",
       "      <td>-0.041856</td>\n",
       "    </tr>\n",
       "    <tr>\n",
       "      <th>9</th>\n",
       "      <td>country_NL</td>\n",
       "      <td>-0.251924</td>\n",
       "    </tr>\n",
       "    <tr>\n",
       "      <th>7</th>\n",
       "      <td>country_US</td>\n",
       "      <td>-0.404605</td>\n",
       "    </tr>\n",
       "  </tbody>\n",
       "</table>\n",
       "</div>"
      ],
      "text/plain": [
       "              feature    impact\n",
       "0  subscription_count  4.540945\n",
       "1       total_revenue  3.838298\n",
       "8          country_TR  0.638214\n",
       "3     trial_converted  0.230802\n",
       "2           had_trial  0.134874\n",
       "5        is_instagram  0.064670\n",
       "6           is_tiktok -0.020954\n",
       "4          is_organic -0.041856\n",
       "9          country_NL -0.251924\n",
       "7          country_US -0.404605"
      ]
     },
     "execution_count": 369,
     "metadata": {},
     "output_type": "execute_result"
    }
   ],
   "source": [
    "feature_impact"
   ]
  },
  {
   "cell_type": "code",
   "execution_count": 370,
   "metadata": {},
   "outputs": [
    {
     "name": "stdout",
     "output_type": "stream",
     "text": [
      "Amount of feature: 10\n",
      "Highest impact feature: subscription_count\n",
      "Impact: 4.54\n",
      "Lowest impact feature: country_US\n",
      "Impact: -0.4\n"
     ]
    }
   ],
   "source": [
    "'''\n",
    "Positive values are have positive impact to churn, so if users subs_count is increasing, they are more likely to churn. In real life, it may not be like this but with this amount of\n",
    "data I found this correlation. But there are meaningful insights too, users from TR is more likely to chrun than other countries.\n",
    "'''\n",
    "print(f'Amount of feature: {len(feature_impact.feature)}')\n",
    "print(f'Highest impact feature: {feature_impact.iloc[0].feature}')\n",
    "print(f'Impact: {round(feature_impact.iloc[0].impact,2)}')\n",
    "print(f'Lowest impact feature: {feature_impact.iloc[-1].feature}')\n",
    "print(f'Impact: {round(feature_impact.iloc[-1].impact,2)}')\n",
    "\n"
   ]
  },
  {
   "cell_type": "code",
   "execution_count": 371,
   "metadata": {},
   "outputs": [
    {
     "data": {
      "text/plain": [
       "([<matplotlib.axis.YTick at 0x1f50e1a2dd0>,\n",
       "  <matplotlib.axis.YTick at 0x1f50e179a50>,\n",
       "  <matplotlib.axis.YTick at 0x1f50be68c10>,\n",
       "  <matplotlib.axis.YTick at 0x1f50e1ec690>,\n",
       "  <matplotlib.axis.YTick at 0x1f50e1ee1d0>,\n",
       "  <matplotlib.axis.YTick at 0x1f50e1f8550>,\n",
       "  <matplotlib.axis.YTick at 0x1f50e1fa610>,\n",
       "  <matplotlib.axis.YTick at 0x1f50e4286d0>,\n",
       "  <matplotlib.axis.YTick at 0x1f50e42a710>,\n",
       "  <matplotlib.axis.YTick at 0x1f50e1eecd0>],\n",
       " [Text(0, 0, 'country_US'),\n",
       "  Text(0, 1, 'country_NL'),\n",
       "  Text(0, 2, 'is_organic'),\n",
       "  Text(0, 3, 'is_tiktok'),\n",
       "  Text(0, 4, 'is_instagram'),\n",
       "  Text(0, 5, 'had_trial'),\n",
       "  Text(0, 6, 'trial_converted'),\n",
       "  Text(0, 7, 'country_TR'),\n",
       "  Text(0, 8, 'total_revenue'),\n",
       "  Text(0, 9, 'subscription_count')])"
      ]
     },
     "execution_count": 371,
     "metadata": {},
     "output_type": "execute_result"
    },
    {
     "data": {
      "image/png": "[encoded data removed]",
      "text/plain": [
       "<Figure size 800x550 with 1 Axes>"
      ]
     },
     "metadata": {},
     "output_type": "display_data"
    }
   ],
   "source": [
    "feature_impact_sorted = feature_impact.sort_values('impact',ascending=True) # Making first negative impact after positive impact to insert to table\n",
    "\n",
    "# Graph for visualizing our impact\n",
    "bars = plt.barh(range(len(feature_impact_sorted)), \n",
    "                feature_impact_sorted['impact'],\n",
    "                color=['green' if x >= 0 else 'red' for x in feature_impact_sorted['impact']])\n",
    "plt.title('Feature Impact on Churn Probability')\n",
    "plt.xlabel('Impact Value')\n",
    "plt.yticks(range(len(feature_impact_sorted)), feature_impact_sorted['feature'])"
   ]
  },
  {
   "cell_type": "code",
   "execution_count": 372,
   "metadata": {},
   "outputs": [
    {
     "data": {
      "text/html": [
       "<div>\n",
       "<style scoped>\n",
       "    .dataframe tbody tr th:only-of-type {\n",
       "        vertical-align: middle;\n",
       "    }\n",
       "\n",
       "    .dataframe tbody tr th {\n",
       "        vertical-align: top;\n",
       "    }\n",
       "\n",
       "    .dataframe thead th {\n",
       "        text-align: right;\n",
       "    }\n",
       "</style>\n",
       "<table border=\"1\" class=\"dataframe\">\n",
       "  <thead>\n",
       "    <tr style=\"text-align: right;\">\n",
       "      <th></th>\n",
       "      <th>feature</th>\n",
       "      <th>importance</th>\n",
       "    </tr>\n",
       "  </thead>\n",
       "  <tbody>\n",
       "    <tr>\n",
       "      <th>0</th>\n",
       "      <td>subscription_count</td>\n",
       "      <td>4.540945</td>\n",
       "    </tr>\n",
       "    <tr>\n",
       "      <th>1</th>\n",
       "      <td>total_revenue</td>\n",
       "      <td>3.838298</td>\n",
       "    </tr>\n",
       "    <tr>\n",
       "      <th>8</th>\n",
       "      <td>country_TR</td>\n",
       "      <td>0.638214</td>\n",
       "    </tr>\n",
       "    <tr>\n",
       "      <th>7</th>\n",
       "      <td>country_US</td>\n",
       "      <td>0.404605</td>\n",
       "    </tr>\n",
       "    <tr>\n",
       "      <th>9</th>\n",
       "      <td>country_NL</td>\n",
       "      <td>0.251924</td>\n",
       "    </tr>\n",
       "    <tr>\n",
       "      <th>3</th>\n",
       "      <td>trial_converted</td>\n",
       "      <td>0.230802</td>\n",
       "    </tr>\n",
       "    <tr>\n",
       "      <th>2</th>\n",
       "      <td>had_trial</td>\n",
       "      <td>0.134874</td>\n",
       "    </tr>\n",
       "    <tr>\n",
       "      <th>5</th>\n",
       "      <td>is_instagram</td>\n",
       "      <td>0.064670</td>\n",
       "    </tr>\n",
       "    <tr>\n",
       "      <th>4</th>\n",
       "      <td>is_organic</td>\n",
       "      <td>0.041856</td>\n",
       "    </tr>\n",
       "    <tr>\n",
       "      <th>6</th>\n",
       "      <td>is_tiktok</td>\n",
       "      <td>0.020954</td>\n",
       "    </tr>\n",
       "  </tbody>\n",
       "</table>\n",
       "</div>"
      ],
      "text/plain": [
       "              feature  importance\n",
       "0  subscription_count    4.540945\n",
       "1       total_revenue    3.838298\n",
       "8          country_TR    0.638214\n",
       "7          country_US    0.404605\n",
       "9          country_NL    0.251924\n",
       "3     trial_converted    0.230802\n",
       "2           had_trial    0.134874\n",
       "5        is_instagram    0.064670\n",
       "4          is_organic    0.041856\n",
       "6           is_tiktok    0.020954"
      ]
     },
     "execution_count": 372,
     "metadata": {},
     "output_type": "execute_result"
    }
   ],
   "source": [
    "feature_importance"
   ]
  },
  {
   "cell_type": "code",
   "execution_count": 373,
   "metadata": {},
   "outputs": [
    {
     "name": "stdout",
     "output_type": "stream",
     "text": [
      "Amount of feature: 10\n",
      "Most important feature: subscription_count\n",
      "Importance: 4.54\n",
      "Least improtant feature: is_tiktok\n",
      "Importnace: 0.02\n"
     ]
    }
   ],
   "source": [
    "'''\n",
    "Importance of values, basicly almost the same df but with absoulte values to determine which feature has higher impact,\n",
    "original value may be negative and can affect more than other positive effects, so it may make more sense to make negatives less unattractive than making positives more attractive.\n",
    "'''\n",
    "\n",
    "print(f'Amount of feature: {len(feature_importance.feature)}')\n",
    "print(f'Most important feature: {feature_importance.iloc[0].feature}')\n",
    "print(f'Importance: {round(feature_importance.iloc[0].importance,2)}')\n",
    "print(f'Least improtant feature: {feature_importance.iloc[-1].feature}')\n",
    "print(f'Importnace: {round(feature_importance.iloc[-1].importance,2)}')"
   ]
  },
  {
   "cell_type": "code",
   "execution_count": 374,
   "metadata": {},
   "outputs": [
    {
     "data": {
      "text/plain": [
       "Text(0.5, 0, 'Absolute Importance')"
      ]
     },
     "execution_count": 374,
     "metadata": {},
     "output_type": "execute_result"
    },
    {
     "data": {
      "image/png": "[encoded data removed]",
      "text/plain": [
       "<Figure size 800x550 with 1 Axes>"
      ]
     },
     "metadata": {},
     "output_type": "display_data"
    }
   ],
   "source": [
    "# Graph for visualizing our importance\n",
    "sns.barplot(data=feature_importance, \n",
    "            y='feature',\n",
    "            x='importance',\n",
    "            palette='viridis')\n",
    "plt.title('Feature Importance')\n",
    "plt.xlabel('Absolute Importance')"
   ]
  },
  {
   "cell_type": "markdown",
   "metadata": {},
   "source": [
    "### Task 8\n",
    "Predict the potential Lifetime Value (pLTV) for user #1001 (Bruce Wayne)\n",
    "\n",
    "Explain your methodology and assumptions"
   ]
  },
  {
   "cell_type": "code",
   "execution_count": 375,
   "metadata": {},
   "outputs": [],
   "source": [
    "# Creating a function for prediction\n",
    "\n",
    "def predict_plv(user_id, churn_model, scaler): # Users_id, our task-7 churn proba model, standart scaler\n",
    "\n",
    "    user_events = events_df[events_df['user_id'] == user_id].sort_values('created_at') # Events that users' action by timestamp order\n",
    "    \n",
    "    \n",
    "    monthly_payment = user_events[\n",
    "        user_events['event_name'].isin(['subscription_started', 'subscription_renewed'])\n",
    "    ]['amount_usd'].iloc[-1] if len(user_events) > 0 else 0 # Last monthly payment\n",
    "    \n",
    "    user_features = create_features(events_df, users_df) # Function I created at task-7\n",
    "    user_features = user_features[user_features['user_id'] == user_id].drop(['user_id', 'churned'], axis=1) # Dropping columns for prediction\n",
    "    \n",
    "    user_features_scaled = scaler.transform(user_features) # Scaling for one that we wanted to test\n",
    "    churn_probability = churn_model.predict_proba(user_features_scaled)[0][1] # Getting probability of churn\n",
    "    \n",
    "    \n",
    "    pltv = (monthly_payment / churn_probability).round(2) # pLTV = monthly payment / churn_probability \n",
    "    \n",
    "    return {\n",
    "        'user_id': user_id,\n",
    "        'monthly_payment': monthly_payment,\n",
    "        'churn_probability': churn_probability,\n",
    "        'pltv': pltv\n",
    "    }"
   ]
  },
  {
   "cell_type": "code",
   "execution_count": 376,
   "metadata": {},
   "outputs": [],
   "source": [
    "prediction = predict_plv(1001, model, scaler) # Getting prediction"
   ]
  },
  {
   "cell_type": "code",
   "execution_count": 377,
   "metadata": {},
   "outputs": [],
   "source": [
    "# Confidence interval calculation with bootstrap because it's not dependant on distirbution.\n",
    "n_iterations = 10 # How many different sample will generate, normally it will be like 1000, but for the sake of our time I make it 10, making it 1000 will make it more stable.\n",
    "pltv_predictions = []\n",
    "\n",
    "for _ in range(n_iterations):\n",
    "    indices = np.random.randint(0, len(X_train), len(X_train)) # Random selection for training.\n",
    "    sample_X = X_train_scaled[indices] \n",
    "    sample_y = y_train.iloc[indices]\n",
    "    \n",
    "    sample_model = LogisticRegression(random_state=42) # I use logistic regression to get churn prob for this dataset.\n",
    "    sample_model.fit(sample_X, sample_y) # Model fitting\n",
    "    \n",
    "    user_features = create_features(events_df, users_df) # Function I used in task-7 for churn prob\n",
    "    user_features = user_features[user_features['user_id'] == 1001].drop(['user_id', 'churned'], axis=1) # Getting churn prob of 1001 id\n",
    "    user_features_scaled = scaler.transform(user_features)\n",
    "    \n",
    "    churn_prob = sample_model.predict_proba(user_features_scaled)[0][1] # Churn prob\n",
    "    pltv = (prediction['monthly_payment'] / churn_prob).round(2) # Monthly payment / churn prob\n",
    "    pltv_predictions.append(pltv) # Storing them in list\n",
    "\n",
    "confidence_interval = np.percentile(pltv_predictions, [2.5, 97.5]) # Finding minimum and maximum pltv with 95% confidence."
   ]
  },
  {
   "cell_type": "markdown",
   "metadata": {},
   "source": [
    "#### Task 8 - A:"
   ]
  },
  {
   "cell_type": "code",
   "execution_count": 378,
   "metadata": {},
   "outputs": [
    {
     "name": "stdout",
     "output_type": "stream",
     "text": [
      "User ID: 1001\n",
      "Current Monthly Payment: $9.99\n",
      "Churn Probability: 6.23%\n",
      "Lifetime Value: $160.39\n",
      "pLTV Range: $127.16 - $192.22\n"
     ]
    }
   ],
   "source": [
    "print(f\"User ID: {prediction['user_id']}\")\n",
    "print(f\"Current Monthly Payment: ${prediction['monthly_payment']}\")\n",
    "print(f\"Churn Probability: {prediction['churn_probability']:.2%}\")\n",
    "print(f\"Lifetime Value: ${prediction['pltv']}\")\n",
    "print(f\"pLTV Range: ${confidence_interval[0]:.2f} - ${confidence_interval[1]:.2f}\")"
   ]
  },
  {
   "cell_type": "code",
   "execution_count": 379,
   "metadata": {},
   "outputs": [
    {
     "data": {
      "image/png": "[encoded data removed]",
      "text/plain": [
       "<Figure size 800x550 with 1 Axes>"
      ]
     },
     "metadata": {},
     "output_type": "display_data"
    }
   ],
   "source": [
    "plt.errorbar(x=['Predicted pLTV'], \n",
    "             y=[prediction['pltv']], \n",
    "             yerr=[[prediction['pltv'] - confidence_interval[0]], \n",
    "                   [confidence_interval[1] - prediction['pltv']]],\n",
    "             fmt='o', \n",
    "             color='#3498db',\n",
    "             capsize=15,\n",
    "             capthick=2,\n",
    "             elinewidth=2,\n",
    "             markersize=10)\n",
    "plt.title('Predicted pLTV with Confidence Interval')\n",
    "plt.ylabel('Value (USD)')\n",
    "plt.grid(True, linestyle='--', alpha=0.7)"
   ]
  }
 ],
 "metadata": {
  "kernelspec": {
   "display_name": "Python 3",
   "language": "python",
   "name": "python3"
  },
  "language_info": {
   "codemirror_mode": {
    "name": "ipython",
    "version": 3
   },
   "file_extension": ".py",
   "mimetype": "text/x-python",
   "name": "python",
   "nbconvert_exporter": "python",
   "pygments_lexer": "ipython3",
   "version": "3.11.9"
  }
 },
 "nbformat": 4,
 "nbformat_minor": 2
}
